{
 "cells": [
  {
   "cell_type": "code",
   "execution_count": 2,
   "id": "9f9a78e7-c18e-4135-b817-fa492af7189a",
   "metadata": {},
   "outputs": [],
   "source": [
    "from pathlib import Path\n",
    "from configparser import ConfigParser\n"
   ]
  },
  {
   "cell_type": "code",
   "execution_count": 3,
   "id": "2c1a69be-886e-405b-97a1-9e17de156bfe",
   "metadata": {},
   "outputs": [],
   "source": [
    "import pandas as pd\n",
    "import geopandas as gpd\n",
    "import rasterstats as rs\n"
   ]
  },
  {
   "cell_type": "code",
   "execution_count": 4,
   "id": "67c40fd9-863f-47bb-aefc-59421c5b5e37",
   "metadata": {},
   "outputs": [],
   "source": [
    "config_file=\"config.ini\"\n",
    "config = ConfigParser()\n",
    "config.read(config_file)\n",
    "\n",
    "year_list = [int(y) for y in config[\"main\"][\"years\"].split(\", \")]\n",
    "base_path = Path(config[\"main\"][\"output_dir\"]) \n",
    "\n",
    "start_year = min(year_list)\n",
    "end_year = max(year_list)\n",
    "\n",
    "mining_project_id_list = [int(y) for y in config[\"main\"][\"mining_project_id_list\"].split(\", \")]\n"
   ]
  },
  {
   "cell_type": "code",
   "execution_count": 5,
   "id": "e7603dd0-7517-4a40-9993-5cc5d77474d0",
   "metadata": {},
   "outputs": [],
   "source": [
    "\n",
    "pre_ndvi_path = base_path / \"ndvi\" / \"output\" / \"yearly\" / \"avhrr_ndvi_v5_2001.tif\"\n",
    "post_ndvi_path = base_path / \"ndvi\" / \"output\" / \"yearly\" / \"avhrr_ndvi_v5_2011.tif\"\n",
    "\n",
    "pre_pop_path = base_path / \"population\" / \"ppp_2001_1km_Aggregated.tif\"\n",
    "post_pop_path = base_path / \"population\" / \"ppp_2011_1km_Aggregated.tif\"\n",
    "\n",
    "gcdf_path = base_path / \"gcdf\" / \"all_combined_global.gpkg\""
   ]
  },
  {
   "cell_type": "code",
   "execution_count": 6,
   "id": "0f1d156c-7928-40b6-98e4-664674408ad8",
   "metadata": {},
   "outputs": [
    {
     "name": "stderr",
     "output_type": "stream",
     "text": [
      "/opt/conda/lib/python3.11/site-packages/pyogrio/raw.py:196: RuntimeWarning: driver GPKG does not support open option DRIVER\n",
      "  return ogr_read(\n"
     ]
    }
   ],
   "source": [
    "gcdf_gdf = gpd.read_file(gcdf_path, driver=\"GPKG\")"
   ]
  },
  {
   "cell_type": "code",
   "execution_count": 7,
   "id": "1e6f7f09-3203-4af2-aa8a-e5e152f73e0e",
   "metadata": {},
   "outputs": [
    {
     "name": "stderr",
     "output_type": "stream",
     "text": [
      "/tmp/ipykernel_1428/2701653876.py:3: UserWarning: Geometry is in a geographic CRS. Results from 'buffer' are likely incorrect. Use 'GeoSeries.to_crs()' to re-project geometries to a projected CRS before this operation.\n",
      "\n",
      "  mining_gdf.geometry = mining_gdf.geometry.buffer(500/111321)\n"
     ]
    }
   ],
   "source": [
    "mining_gdf = gcdf_gdf.loc[gcdf_gdf.id.isin(mining_project_id_list) & (gcdf_gdf[\"Commitment.Year\"] > start_year) & (gcdf_gdf[\"Completion.Year\"] < end_year)].copy()\n",
    "\n",
    "mining_gdf.geometry = mining_gdf.geometry.buffer(500/111321)"
   ]
  },
  {
   "cell_type": "code",
   "execution_count": 8,
   "id": "59e42242-e41a-4720-8c1e-dd6704b093d3",
   "metadata": {},
   "outputs": [
    {
     "data": {
      "text/plain": [
       "7"
      ]
     },
     "execution_count": 8,
     "metadata": {},
     "output_type": "execute_result"
    }
   ],
   "source": [
    "len(mining_gdf)"
   ]
  },
  {
   "cell_type": "code",
   "execution_count": 9,
   "id": "d99e2957-f2e9-4844-bc54-db3922f13f23",
   "metadata": {},
   "outputs": [],
   "source": [
    "pre_ndvi_extract = rs.zonal_stats(mining_gdf.geometry, pre_ndvi_path, stats=\"mean\", geojson_out=True, all_touched=True)\n",
    "post_ndvi_extract = rs.zonal_stats(mining_gdf.geometry, post_ndvi_path, stats=\"mean\", geojson_out=True, all_touched=True)\n",
    "\n",
    "pre_ndvi_vals = [(i[\"id\"], i[\"properties\"][\"mean\"]) for i in pre_ndvi_extract]\n",
    "post_ndvi_vals = [(i[\"id\"], i[\"properties\"][\"mean\"]) for i in post_ndvi_extract]"
   ]
  },
  {
   "cell_type": "code",
   "execution_count": 14,
   "id": "f218c6ba-cbec-4e9c-b3da-c5d8f720c3eb",
   "metadata": {},
   "outputs": [],
   "source": [
    "pre_pop_extract = rs.zonal_stats(mining_gdf.geometry, pre_pop_path, stats=\"sum\", geojson_out=True, all_touched=True)\n",
    "post_pop_extract = rs.zonal_stats(mining_gdf.geometry, post_pop_path, stats=\"sum\", geojson_out=True, all_touched=True)\n",
    "\n",
    "pre_pop_vals = [(i[\"id\"], i[\"properties\"][\"sum\"]) for i in pre_pop_extract]\n",
    "post_pop_vals = [(i[\"id\"], i[\"properties\"][\"sum\"]) for i in post_pop_extract]"
   ]
  },
  {
   "cell_type": "code",
   "execution_count": 15,
   "id": "fe86705a-cc36-414e-8325-0b09d736b277",
   "metadata": {},
   "outputs": [],
   "source": [
    "df_list = [\n",
    "    pd.DataFrame(pre_ndvi_vals, columns=[\"id\", \"ndvi_2001\"]),\n",
    "    pd.DataFrame(post_ndvi_vals, columns=[\"id\", \"ndvi_2011\"]),\n",
    "    pd.DataFrame(pre_pop_vals, columns=[\"id\", \"pop_2001\"]),\n",
    "    pd.DataFrame(post_pop_vals, columns=[\"id\", \"pop_2011\"]),\n",
    "]\n",
    "\n",
    "df = pd.concat(df_list, axis=1)\n",
    "df = df.loc[:,~df.columns.duplicated()].copy()\n",
    "df.id = df.id.astype(int)\n",
    "df = df.set_index(\"id\")\n"
   ]
  },
  {
   "cell_type": "code",
   "execution_count": 16,
   "id": "eb707073-0a21-4f13-9875-1ad59167f71b",
   "metadata": {},
   "outputs": [],
   "source": [
    "\n",
    "gcdf_fields = [\"id\", \"Recipient\", \"Recipient.ISO-3\", \"Title\", \"Status\", \"Amount.(Constant.USD.2021)\"]\n",
    "dfx = df.merge(mining_gdf[gcdf_fields], left_index=True, right_index=True)\n",
    "\n",
    "extract_output_path = base_path / \"extract.csv\"\n",
    "dfx.to_csv(extract_output_path, index=False)"
   ]
  },
  {
   "cell_type": "code",
   "execution_count": 17,
   "id": "e27c4542-e0ec-46a0-a211-babc84072df0",
   "metadata": {},
   "outputs": [
    {
     "data": {
      "text/html": [
       "<div>\n",
       "<style scoped>\n",
       "    .dataframe tbody tr th:only-of-type {\n",
       "        vertical-align: middle;\n",
       "    }\n",
       "\n",
       "    .dataframe tbody tr th {\n",
       "        vertical-align: top;\n",
       "    }\n",
       "\n",
       "    .dataframe thead th {\n",
       "        text-align: right;\n",
       "    }\n",
       "</style>\n",
       "<table border=\"1\" class=\"dataframe\">\n",
       "  <thead>\n",
       "    <tr style=\"text-align: right;\">\n",
       "      <th></th>\n",
       "      <th>ndvi_2001</th>\n",
       "      <th>ndvi_2011</th>\n",
       "      <th>pop_2001</th>\n",
       "      <th>pop_2011</th>\n",
       "      <th>id</th>\n",
       "      <th>Recipient</th>\n",
       "      <th>Recipient.ISO-3</th>\n",
       "      <th>Title</th>\n",
       "      <th>Status</th>\n",
       "      <th>Amount.(Constant.USD.2021)</th>\n",
       "    </tr>\n",
       "    <tr>\n",
       "      <th>id</th>\n",
       "      <th></th>\n",
       "      <th></th>\n",
       "      <th></th>\n",
       "      <th></th>\n",
       "      <th></th>\n",
       "      <th></th>\n",
       "      <th></th>\n",
       "      <th></th>\n",
       "      <th></th>\n",
       "      <th></th>\n",
       "    </tr>\n",
       "  </thead>\n",
       "  <tbody>\n",
       "    <tr>\n",
       "      <th>60</th>\n",
       "      <td>1636.750000</td>\n",
       "      <td>1433.937500</td>\n",
       "      <td>12.669615</td>\n",
       "      <td>40.075386</td>\n",
       "      <td>256</td>\n",
       "      <td>Niger</td>\n",
       "      <td>NER</td>\n",
       "      <td>China Eximbank provides RMB 650 million govern...</td>\n",
       "      <td>Completion</td>\n",
       "      <td>1.236623e+08</td>\n",
       "    </tr>\n",
       "    <tr>\n",
       "      <th>2005</th>\n",
       "      <td>1196.958333</td>\n",
       "      <td>951.363636</td>\n",
       "      <td>262.151428</td>\n",
       "      <td>1629.226440</td>\n",
       "      <td>39943</td>\n",
       "      <td>Uzbekistan</td>\n",
       "      <td>UZB</td>\n",
       "      <td>ICBC provides $29.2 million export buyer's cre...</td>\n",
       "      <td>Completion</td>\n",
       "      <td>7.123050e+07</td>\n",
       "    </tr>\n",
       "    <tr>\n",
       "      <th>2630</th>\n",
       "      <td>4934.200000</td>\n",
       "      <td>4569.111111</td>\n",
       "      <td>1843.439697</td>\n",
       "      <td>2277.384033</td>\n",
       "      <td>52175</td>\n",
       "      <td>Zambia</td>\n",
       "      <td>ZMB</td>\n",
       "      <td>China Development Bank provides $29 million lo...</td>\n",
       "      <td>Completion</td>\n",
       "      <td>3.254599e+07</td>\n",
       "    </tr>\n",
       "    <tr>\n",
       "      <th>5141</th>\n",
       "      <td>6164.603535</td>\n",
       "      <td>5377.238095</td>\n",
       "      <td>4420.025391</td>\n",
       "      <td>6291.714355</td>\n",
       "      <td>64488</td>\n",
       "      <td>Viet Nam</td>\n",
       "      <td>VNM</td>\n",
       "      <td>China Eximbank provides RMB 336.15 million gov...</td>\n",
       "      <td>Completion</td>\n",
       "      <td>9.893356e+07</td>\n",
       "    </tr>\n",
       "    <tr>\n",
       "      <th>5183</th>\n",
       "      <td>7574.000000</td>\n",
       "      <td>6761.000000</td>\n",
       "      <td>15.062001</td>\n",
       "      <td>22.629385</td>\n",
       "      <td>64615</td>\n",
       "      <td>Ecuador</td>\n",
       "      <td>ECU</td>\n",
       "      <td>CDB, BoC, and ABC provide $329 million loan to...</td>\n",
       "      <td>Completion</td>\n",
       "      <td>4.582072e+08</td>\n",
       "    </tr>\n",
       "    <tr>\n",
       "      <th>5873</th>\n",
       "      <td>1908.125000</td>\n",
       "      <td>1608.409091</td>\n",
       "      <td>13867.176758</td>\n",
       "      <td>11410.609375</td>\n",
       "      <td>67103</td>\n",
       "      <td>Iran</td>\n",
       "      <td>IRN</td>\n",
       "      <td>China Eximbank provides $143.91 million buyer'...</td>\n",
       "      <td>Completion</td>\n",
       "      <td>3.505739e+08</td>\n",
       "    </tr>\n",
       "    <tr>\n",
       "      <th>8479</th>\n",
       "      <td>1636.750000</td>\n",
       "      <td>1433.937500</td>\n",
       "      <td>12.669615</td>\n",
       "      <td>40.075386</td>\n",
       "      <td>91977</td>\n",
       "      <td>Niger</td>\n",
       "      <td>NER</td>\n",
       "      <td>China Eximbank provides $142 million buyer’s c...</td>\n",
       "      <td>Completion</td>\n",
       "      <td>2.132854e+08</td>\n",
       "    </tr>\n",
       "  </tbody>\n",
       "</table>\n",
       "</div>"
      ],
      "text/plain": [
       "        ndvi_2001    ndvi_2011      pop_2001      pop_2011     id   Recipient  \\\n",
       "id                                                                              \n",
       "60    1636.750000  1433.937500     12.669615     40.075386    256       Niger   \n",
       "2005  1196.958333   951.363636    262.151428   1629.226440  39943  Uzbekistan   \n",
       "2630  4934.200000  4569.111111   1843.439697   2277.384033  52175      Zambia   \n",
       "5141  6164.603535  5377.238095   4420.025391   6291.714355  64488    Viet Nam   \n",
       "5183  7574.000000  6761.000000     15.062001     22.629385  64615     Ecuador   \n",
       "5873  1908.125000  1608.409091  13867.176758  11410.609375  67103        Iran   \n",
       "8479  1636.750000  1433.937500     12.669615     40.075386  91977       Niger   \n",
       "\n",
       "     Recipient.ISO-3                                              Title  \\\n",
       "id                                                                        \n",
       "60               NER  China Eximbank provides RMB 650 million govern...   \n",
       "2005             UZB  ICBC provides $29.2 million export buyer's cre...   \n",
       "2630             ZMB  China Development Bank provides $29 million lo...   \n",
       "5141             VNM  China Eximbank provides RMB 336.15 million gov...   \n",
       "5183             ECU  CDB, BoC, and ABC provide $329 million loan to...   \n",
       "5873             IRN  China Eximbank provides $143.91 million buyer'...   \n",
       "8479             NER  China Eximbank provides $142 million buyer’s c...   \n",
       "\n",
       "          Status  Amount.(Constant.USD.2021)  \n",
       "id                                            \n",
       "60    Completion                1.236623e+08  \n",
       "2005  Completion                7.123050e+07  \n",
       "2630  Completion                3.254599e+07  \n",
       "5141  Completion                9.893356e+07  \n",
       "5183  Completion                4.582072e+08  \n",
       "5873  Completion                3.505739e+08  \n",
       "8479  Completion                2.132854e+08  "
      ]
     },
     "execution_count": 17,
     "metadata": {},
     "output_type": "execute_result"
    }
   ],
   "source": [
    "dfx"
   ]
  },
  {
   "cell_type": "code",
   "execution_count": null,
   "id": "c02c6dfd-f7a3-4d02-aa71-4eddad925ec7",
   "metadata": {},
   "outputs": [],
   "source": []
  }
 ],
 "metadata": {
  "kernelspec": {
   "display_name": "Python 3 (ipykernel)",
   "language": "python",
   "name": "python3"
  },
  "language_info": {
   "codemirror_mode": {
    "name": "ipython",
    "version": 3
   },
   "file_extension": ".py",
   "mimetype": "text/x-python",
   "name": "python",
   "nbconvert_exporter": "python",
   "pygments_lexer": "ipython3",
   "version": "3.11.9"
  }
 },
 "nbformat": 4,
 "nbformat_minor": 5
}
