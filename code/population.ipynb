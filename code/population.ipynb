{
 "cells": [
  {
   "cell_type": "markdown",
   "id": "f36942b2-488b-4d74-a3ce-82307685d9a8",
   "metadata": {},
   "source": [
    "worldpop data: https://www.worldpop.org/geodata/listing?id=64"
   ]
  },
  {
   "cell_type": "code",
   "execution_count": 26,
   "id": "4e5607e3-ac05-44ee-a793-557f84c4f5ae",
   "metadata": {
    "tags": []
   },
   "outputs": [],
   "source": [
    "import os\n",
    "import copy\n",
    "import time\n",
    "import datetime\n",
    "import warnings\n",
    "import requests\n",
    "import pandas as pd"
   ]
  },
  {
   "cell_type": "code",
   "execution_count": 27,
   "id": "f7a92522-2894-487d-b5a4-6b69724c3f96",
   "metadata": {
    "tags": []
   },
   "outputs": [],
   "source": [
    "def download_file(url, local_filename):\n",
    "    \"\"\"Download a file from url to local_filename\n",
    "\n",
    "    Downloads in chunks\n",
    "    \"\"\"\n",
    "    with requests.get(url, stream=True, verify=True) as r:\n",
    "        r.raise_for_status()\n",
    "        with open(local_filename, 'wb') as f:\n",
    "            for chunk in r.iter_content(chunk_size=1024*1024):\n",
    "                f.write(chunk)"
   ]
  },
  {
   "cell_type": "code",
   "execution_count": 28,
   "id": "a9da8e8d-98f7-4647-abed-ee1b972676f5",
   "metadata": {
    "tags": []
   },
   "outputs": [],
   "source": [
    "def file_exists(path):\n",
    "    return os.path.isfile(path)"
   ]
  },
  {
   "cell_type": "code",
   "execution_count": 29,
   "id": "f1ecb86a-3dc7-48c6-905c-4473c606fcd1",
   "metadata": {
    "tags": []
   },
   "outputs": [],
   "source": [
    "def get_current_timestamp(format_str=None):\n",
    "    if format_str is None:\n",
    "        format_str = '%Y_%m_%d_%H_%M'\n",
    "    timestamp = datetime.datetime.fromtimestamp(int(time.time())).strftime(format_str)\n",
    "    return timestamp"
   ]
  },
  {
   "cell_type": "code",
   "execution_count": 30,
   "id": "3fdee281-61a0-4bad-a123-eba1661790c8",
   "metadata": {
    "tags": []
   },
   "outputs": [],
   "source": [
    "def read_csv(path):\n",
    "    df = pd.read_csv(\n",
    "        path, quotechar='\\\"',\n",
    "        na_values='', keep_default_na=False,\n",
    "        encoding='utf-8')\n",
    "    return df"
   ]
  },
  {
   "cell_type": "code",
   "execution_count": 31,
   "id": "5425459d-7860-4ae1-99b6-393f0a88bedc",
   "metadata": {
    "tags": []
   },
   "outputs": [],
   "source": [
    "def task_wrapper(func, args):\n",
    "    try:\n",
    "        result = func(*args)\n",
    "        return (0, \"Success\", args, result)\n",
    "    except Exception as e:\n",
    "        return (1, repr(e), args, None)"
   ]
  },
  {
   "cell_type": "code",
   "execution_count": 32,
   "id": "f1a50763-0caa-4863-889d-3035978c89df",
   "metadata": {
    "tags": []
   },
   "outputs": [],
   "source": [
    "def run_tasks(func, flist, parallel, max_workers=None, chunksize=1):\n",
    "    # run all downloads (parallel and serial options)\n",
    "    wrapper_list = [(func, i) for i in flist]\n",
    "    if parallel:\n",
    "        # see: https://mpi4py.readthedocs.io/en/stable/mpi4py.futures.html\n",
    "        # and: https://docs.python.org/3/library/concurrent.futures.html\n",
    "        try:\n",
    "            from mpi4py.futures import MPIPoolExecutor\n",
    "            mpi = True\n",
    "        except:\n",
    "            from concurrent.futures import ProcessPoolExecutor\n",
    "            mpi = False\n",
    "        if max_workers is None:\n",
    "            if mpi:\n",
    "                if \"OMPI_UNIVERSE_SIZE\" not in os.environ:\n",
    "                    raise ValueError(\"Parallel set to True and mpi4py is installed but max_workers not specified and OMPI_UNIVERSE_SIZE env var not found\")\n",
    "                max_workers = os.environ[\"OMPI_UNIVERSE_SIZE\"]\n",
    "                warnings.warn(f\"Parallel set to True (mpi4py is installed) but max_workers not specified. Defaulting to OMPI_UNIVERSE_SIZE env var value ({max_workers})\")\n",
    "            else:\n",
    "                import multiprocessing\n",
    "                max_workers = multiprocessing.cpu_count()\n",
    "                warnings.warn(f\"Parallel set to True (mpi4py is not installed) but max_workers not specified. Defaulting to CPU count ({max_workers})\")\n",
    "        if mpi:\n",
    "            with MPIPoolExecutor(max_workers=max_workers) as executor:\n",
    "                results_gen = executor.starmap(task_wrapper, wrapper_list, chunksize=chunksize)\n",
    "        else:\n",
    "            with ProcessPoolExecutor(max_workers=max_workers) as executor:\n",
    "                results_gen = executor.map(task_wrapper, *zip(*wrapper_list), chunksize=chunksize)\n",
    "        results = list(results_gen)\n",
    "    else:\n",
    "        results = []\n",
    "        # for i in flist:\n",
    "            # results.append(func(*i))\n",
    "        for i in wrapper_list:\n",
    "            results.append(task_wrapper(*i))\n",
    "    return results"
   ]
  },
  {
   "cell_type": "code",
   "execution_count": 33,
   "id": "29151224-3553-4f49-b839-4e981c58821e",
   "metadata": {
    "tags": []
   },
   "outputs": [],
   "source": [
    "template_url = \"https://data.worldpop.org/GIS/Population/Global_2000_2020/{YEAR}/0_Mosaicked/ppp_{YEAR}_1km_Aggregated.tif\"\n",
    "timestamp = get_current_timestamp('%Y_%m_%d_%H_%M')"
   ]
  },
  {
   "cell_type": "markdown",
   "id": "a27acf41-2b12-469a-8634-ccd92e57cf15",
   "metadata": {},
   "source": [
    "Edit variables in cell below to your preference"
   ]
  },
  {
   "cell_type": "code",
   "execution_count": 34,
   "id": "f0bc16ed-1dd0-40dd-a80c-1eae5df0fc94",
   "metadata": {
    "tags": []
   },
   "outputs": [],
   "source": [
    "output_dir = \"/home/jovyan/data/population/\"\n",
    "year_list = [2001, 2011]\n",
    "run_parallel = True\n",
    "max_workers = 3"
   ]
  },
  {
   "cell_type": "code",
   "execution_count": 35,
   "id": "c445be6e-f32b-4337-aaa2-10b916dc9a82",
   "metadata": {
    "tags": []
   },
   "outputs": [],
   "source": [
    "def manage_download(url, local_filename):\n",
    "    overwrite = True\n",
    "    max_attempts = 5\n",
    "    if file_exists(local_filename) and not overwrite:\n",
    "        return (0, \"Exists\", url)\n",
    "    attempts = 1\n",
    "    while attempts <= max_attempts:\n",
    "        try:\n",
    "            download_file(url, local_filename)\n",
    "            return (0, \"Downloaded\", url)\n",
    "        except Exception as e:\n",
    "            attempts += 1\n",
    "            if attempts > max_attempts:\n",
    "                raise"
   ]
  },
  {
   "cell_type": "code",
   "execution_count": 36,
   "id": "f14f8d16-9c0e-47b6-bbe5-60e8070235a2",
   "metadata": {
    "tags": []
   },
   "outputs": [],
   "source": [
    "test_request = requests.get(\"https://data.worldpop.org/GIS/\", verify=True)\n",
    "test_request.raise_for_status()"
   ]
  },
  {
   "cell_type": "markdown",
   "id": "c101958f-a5f5-403b-8aa1-469a0730a35b",
   "metadata": {},
   "source": [
    "Preparing download"
   ]
  },
  {
   "cell_type": "code",
   "execution_count": 37,
   "id": "e196438d-6c19-4390-b6de-9b2c9e0fa9fa",
   "metadata": {
    "tags": []
   },
   "outputs": [],
   "source": [
    "year_file_list = []\n",
    "for year in year_list:\n",
    "    year_url = template_url.replace(\"{YEAR}\", str(year))\n",
    "    year_file_list.append(year_url)"
   ]
  },
  {
   "cell_type": "code",
   "execution_count": 38,
   "id": "2e50fc9b-9b44-4e92-89c3-5ebc900cf714",
   "metadata": {
    "tags": []
   },
   "outputs": [],
   "source": [
    "df = pd.DataFrame({\"raw_url\": year_file_list})\n",
    "df[\"output\"] = df[\"raw_url\"].apply(lambda x: os.path.join(output_dir, os.path.basename(x)))"
   ]
  },
  {
   "cell_type": "code",
   "execution_count": 39,
   "id": "ebb01462-feed-4187-9693-95d7a46548c9",
   "metadata": {
    "tags": []
   },
   "outputs": [],
   "source": [
    "os.makedirs(output_dir, exist_ok=True)\n",
    "flist = list(zip(df[\"raw_url\"], df[\"output\"]))"
   ]
  },
  {
   "cell_type": "markdown",
   "id": "638a677a-e3a0-4f4c-b6d3-1485a5df1b56",
   "metadata": {},
   "source": [
    "Running data download"
   ]
  },
  {
   "cell_type": "code",
   "execution_count": 40,
   "id": "941d0b43-ce64-43d1-a887-f70e551db8c1",
   "metadata": {
    "tags": []
   },
   "outputs": [],
   "source": [
    "results = run_tasks(manage_download, flist, run_parallel, max_workers=max_workers, chunksize=1)"
   ]
  },
  {
   "cell_type": "code",
   "execution_count": 41,
   "id": "ce23fb23-293a-4797-8024-f1e24da1c11a",
   "metadata": {
    "tags": []
   },
   "outputs": [],
   "source": [
    "results_join_field_name = \"raw_url\"\n",
    "results_join_field_loc = 2"
   ]
  },
  {
   "cell_type": "code",
   "execution_count": 42,
   "id": "0e3e0483-4de4-45cd-94d0-b41e8773a7d2",
   "metadata": {
    "tags": []
   },
   "outputs": [],
   "source": [
    "results_df = pd.DataFrame(results, columns=[\"status\", \"message\", \"args\", results_join_field_name])\n",
    "results_df[results_join_field_name] = results_df[results_join_field_name].apply(lambda x: x[results_join_field_loc])\n",
    "output_df = df.merge(results_df, on=results_join_field_name, how=\"left\")"
   ]
  },
  {
   "cell_type": "raw",
   "id": "226c4505-6f39-4fa1-ac80-b772dfc32c84",
   "metadata": {},
   "source": [
    "Results"
   ]
  },
  {
   "cell_type": "code",
   "execution_count": 43,
   "id": "0a18387d-a7ae-4e6a-9123-da33e531679b",
   "metadata": {
    "tags": []
   },
   "outputs": [
    {
     "name": "stdout",
     "output_type": "stream",
     "text": [
      "0 errors found out of 2 tasks\n"
     ]
    }
   ],
   "source": [
    "errors_df = output_df[output_df[\"status\"] != 0]\n",
    "print(\"{} errors found out of {} tasks\".format(len(errors_df), len(output_df)))"
   ]
  },
  {
   "cell_type": "code",
   "execution_count": 44,
   "id": "153471dd-d00d-4e6a-89e9-c505cad6ca81",
   "metadata": {
    "tags": []
   },
   "outputs": [],
   "source": [
    "os.makedirs(os.path.join(output_dir, \"results\"), exist_ok=True)\n",
    "output_path = os.path.join(output_dir, \"results\", f\"data_download_{timestamp}.csv\")\n",
    "output_df.to_csv(output_path, index=False)"
   ]
  },
  {
   "cell_type": "code",
   "execution_count": null,
   "id": "c7bafe5d-3bbd-42e9-bd14-195e63a03ff6",
   "metadata": {},
   "outputs": [],
   "source": []
  }
 ],
 "metadata": {
  "kernelspec": {
   "display_name": "Python 3 (ipykernel)",
   "language": "python",
   "name": "python3"
  },
  "language_info": {
   "codemirror_mode": {
    "name": "ipython",
    "version": 3
   },
   "file_extension": ".py",
   "mimetype": "text/x-python",
   "name": "python",
   "nbconvert_exporter": "python",
   "pygments_lexer": "ipython3",
   "version": "3.11.9"
  }
 },
 "nbformat": 4,
 "nbformat_minor": 5
}
