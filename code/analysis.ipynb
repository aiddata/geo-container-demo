{
 "cells": [
  {
   "cell_type": "code",
   "execution_count": 1,
   "id": "9f9a78e7-c18e-4135-b817-fa492af7189a",
   "metadata": {},
   "outputs": [],
   "source": [
    "from pathlib import Path"
   ]
  },
  {
   "cell_type": "code",
   "execution_count": 36,
   "id": "2c1a69be-886e-405b-97a1-9e17de156bfe",
   "metadata": {},
   "outputs": [],
   "source": [
    "import pandas as pd\n",
    "import geopandas as gpd\n",
    "import rasterstats as rs"
   ]
  },
  {
   "cell_type": "code",
   "execution_count": 5,
   "id": "e7603dd0-7517-4a40-9993-5cc5d77474d0",
   "metadata": {},
   "outputs": [],
   "source": [
    "base_path = Path(\"/home/jovyan/data\")\n",
    "\n",
    "pre_ndvi_path = base_path / \"ndvi\" / \"output\" / \"yearly\" / \"avhrr_ndvi_v5_2001.tif\"\n",
    "post_ndvi_path = base_path / \"ndvi\" / \"output\" / \"yearly\" / \"avhrr_ndvi_v5_2011.tif\"\n",
    "\n",
    "pre_pop_path = base_path / \"population\" / \"ppp_2001_1km_Aggregated.tif\"\n",
    "post_pop_path = base_path / \"population\" / \"ppp_2011_1km_Aggregated.tif\"\n",
    "\n",
    "gcdf_path = base_path / \"gcdf\" / \"all_combined_global.gpkg\""
   ]
  },
  {
   "cell_type": "code",
   "execution_count": 6,
   "id": "0f1d156c-7928-40b6-98e4-664674408ad8",
   "metadata": {},
   "outputs": [
    {
     "name": "stderr",
     "output_type": "stream",
     "text": [
      "/opt/conda/lib/python3.11/site-packages/pyogrio/raw.py:196: RuntimeWarning: driver GPKG does not support open option DRIVER\n",
      "  return ogr_read(\n"
     ]
    }
   ],
   "source": [
    "gcdf_gdf = gpd.read_file(gcdf_path, driver=\"GPKG\")"
   ]
  },
  {
   "cell_type": "code",
   "execution_count": 22,
   "id": "67c40fd9-863f-47bb-aefc-59421c5b5e37",
   "metadata": {},
   "outputs": [],
   "source": [
    "mining_project_id_list = [256, 684, 694, 30068, 30100, 30396, 30950, 33786, 34115, 34207, 34478, 35306, 36064, 36134, 36135, 37231, 37480, 37541, 37914, 37940, 38159, 38293, 39557, 39943, 39997, 40198, 40267, 40326, 40479, 41175, 41176, 41600, 41941, 42515, 43054, 47065, 49813, 52175, 52483, 53453, 53755, 54315, 54478, 54489, 54832, 55410, 55424, 55426, 55427, 56098, 56099, 56386, 57211, 57683, 58675, 58676, 59968, 60236, 60249, 61056, 61142, 61252, 61904, 62117, 62119, 62273, 62275, 62557, 63266, 63663, 63670, 63778, 64096, 64488, 64491, 64520, 64583, 64615, 64616, 64653, 64763, 65745, 65848, 66207, 66216, 66369, 66382, 66397, 66466, 66587, 66590, 66670, 66678, 66689, 67074, 67085, 67103, 67801, 67852, 68929, 69238, 69239, 69488, 70000, 70174, 70220, 70235, 70301, 70319, 70407, 70430, 71391, 72514, 72776, 73061, 73145, 73204, 73371, 85267, 85371, 85372, 85817, 85885, 86577, 87033, 87514, 88007, 88341, 88390, 88608, 88843, 89485, 89486, 89494, 89495, 89496, 89497, 89498, 89500, 89502, 89508, 89509, 89512, 91509, 91511, 91801, 91886, 91890, 91895, 91897, 91899, 91902, 91923, 91926, 91968, 91977, 91979, 91980, 92120, 92353, 92367, 92461, 92497, 92518]\n",
    "\n",
    "start_year = 2001\n",
    "end_year = 2011"
   ]
  },
  {
   "cell_type": "code",
   "execution_count": 23,
   "id": "1e6f7f09-3203-4af2-aa8a-e5e152f73e0e",
   "metadata": {},
   "outputs": [],
   "source": [
    "mining_gdf = gcdf_gdf.loc[gcdf_gdf.id.isin(mining_project_id_list) & (gcdf_gdf[\"Commitment.Year\"] > start_year) & (gcdf_gdf[\"Completion.Year\"] < end_year)].copy()"
   ]
  },
  {
   "cell_type": "code",
   "execution_count": 40,
   "id": "d99e2957-f2e9-4844-bc54-db3922f13f23",
   "metadata": {},
   "outputs": [],
   "source": [
    "pre_ndvi_extract = rs.zonal_stats(mining_gdf.geometry, pre_ndvi_path, stats=\"mean\", geojson_out=True, all_touched=True)\n",
    "post_ndvi_extract = rs.zonal_stats(mining_gdf.geometry, post_ndvi_path, stats=\"mean\", geojson_out=True, all_touched=True)\n",
    "\n",
    "pre_ndvi_vals = [(i[\"id\"], i[\"properties\"][\"mean\"]) for i in pre_ndvi_extract]\n",
    "post_ndvi_vals = [(i[\"id\"], i[\"properties\"][\"mean\"]) for i in post_ndvi_extract]"
   ]
  },
  {
   "cell_type": "code",
   "execution_count": 41,
   "id": "f218c6ba-cbec-4e9c-b3da-c5d8f720c3eb",
   "metadata": {},
   "outputs": [],
   "source": [
    "pre_pop_extract = rs.zonal_stats(mining_gdf.geometry, pre_pop_path, stats=\"mean\", geojson_out=True, all_touched=True)\n",
    "post_pop_extract = rs.zonal_stats(mining_gdf.geometry, post_pop_path, stats=\"mean\", geojson_out=True, all_touched=True)\n",
    "\n",
    "pre_pop_vals = [(i[\"id\"], i[\"properties\"][\"mean\"]) for i in pre_pop_extract]\n",
    "post_pop_vals = [(i[\"id\"], i[\"properties\"][\"mean\"]) for i in post_pop_extract]"
   ]
  },
  {
   "cell_type": "code",
   "execution_count": 79,
   "id": "fe86705a-cc36-414e-8325-0b09d736b277",
   "metadata": {},
   "outputs": [],
   "source": [
    "df_list = [\n",
    "    pd.DataFrame(pre_ndvi_vals, columns=[\"id\", \"ndvi_2001\"]),\n",
    "    pd.DataFrame(post_ndvi_vals, columns=[\"id\", \"ndvi_2011\"]),\n",
    "    pd.DataFrame(pre_pop_vals, columns=[\"id\", \"pop_2001\"]),\n",
    "    pd.DataFrame(post_pop_vals, columns=[\"id\", \"pop_2011\"]),\n",
    "]\n",
    "\n",
    "df = pd.concat(df_list, axis=1)\n",
    "df = df.loc[:,~df.columns.duplicated()].copy()\n",
    "df.id = df.id.astype(int)\n",
    "df = df.set_index(\"id\")\n"
   ]
  },
  {
   "cell_type": "code",
   "execution_count": 84,
   "id": "eb707073-0a21-4f13-9875-1ad59167f71b",
   "metadata": {},
   "outputs": [],
   "source": [
    "\n",
    "gcdf_fields = [\"id\", \"Recipient\", \"Recipient.ISO-3\", \"Title\", \"Status\", \"Amount.(Constant.USD.2021)\"]\n",
    "dfx = df.merge(mining_gdf[gcdf_fields], left_index=True, right_index=True)\n",
    "dfx.to_csv(\"/home/jovyan/data/extract.csv\", index=False)"
   ]
  },
  {
   "cell_type": "code",
   "execution_count": null,
   "id": "e27c4542-e0ec-46a0-a211-babc84072df0",
   "metadata": {},
   "outputs": [],
   "source": []
  }
 ],
 "metadata": {
  "kernelspec": {
   "display_name": "Python 3 (ipykernel)",
   "language": "python",
   "name": "python3"
  },
  "language_info": {
   "codemirror_mode": {
    "name": "ipython",
    "version": 3
   },
   "file_extension": ".py",
   "mimetype": "text/x-python",
   "name": "python",
   "nbconvert_exporter": "python",
   "pygments_lexer": "ipython3",
   "version": "3.11.9"
  }
 },
 "nbformat": 4,
 "nbformat_minor": 5
}
