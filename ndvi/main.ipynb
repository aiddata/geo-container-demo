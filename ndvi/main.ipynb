{
 "cells": [
  {
   "cell_type": "markdown",
   "id": "7c999dee-222a-4458-a531-34a780acb6d8",
   "metadata": {},
   "source": [
    "for use with NDVI product from LTDR raw dataset\n",
    "\n",
    "- Prepares list of all files\n",
    "- Builds list of day files to process\n",
    "- Processes day files\n",
    "- Builds list of day files to aggregate to months\n",
    "- Run month aggregation\n",
    "- Builds list of month files to aggregate to years\n",
    "- Run year aggregation\n",
    "\n",
    "example LTDR product file names (ndvi product code is AVH13C1)\n",
    "\n",
    "AVH13C1.A1981181.N07.004.2013227210959.hdf\n",
    "\n",
    "split file name by \".\"\n",
    "eg:\n",
    "\n",
    "full file name - \"AVH13C1.A1981181.N07.004.2013227210959.hdf\"\n",
    "\n",
    "0     product code        AVH13C1\n",
    "1     date of image       A1981181\n",
    "2     sensor code         N07\n",
    "3     misc                004\n",
    "4     processed date      2013227210959\n",
    "5     extension           hdf"
   ]
  },
  {
   "cell_type": "code",
   "execution_count": 1,
   "id": "0685b62f-5ed3-4737-a8fc-7b898b3c11e4",
   "metadata": {
    "tags": []
   },
   "outputs": [],
   "source": [
    "import os\n",
    "import re\n",
    "import csv\n",
    "import ssl\n",
    "import sys\n",
    "import json\n",
    "import hashlib\n",
    "from io import StringIO\n",
    "from pathlib import Path\n",
    "from itertools import chain\n",
    "from datetime import datetime\n",
    "from urllib.parse import urljoin\n",
    "from collections import OrderedDict\n",
    "from configparser import ConfigParser\n",
    "from typing import Any, Generator, List, Literal, Tuple, Type, Union"
   ]
  },
  {
   "cell_type": "code",
   "execution_count": 2,
   "id": "6584b667-859e-4aa7-8bda-c7365d967b57",
   "metadata": {
    "tags": []
   },
   "outputs": [],
   "source": [
    "import rasterio\n",
    "from rasterio.crs import CRS\n",
    "import requests\n",
    "import numpy as np\n",
    "import pandas as pd"
   ]
  },
  {
   "cell_type": "code",
   "execution_count": 3,
   "id": "25f8fe1a-09c4-4bd5-9901-c7190e253dd5",
   "metadata": {
    "tags": []
   },
   "outputs": [],
   "source": [
    "from osgeo import gdal, osr"
   ]
  },
  {
   "cell_type": "markdown",
   "id": "1f3279c6-ccd6-4dbf-b2e7-b88c1befacd6",
   "metadata": {},
   "source": [
    "!conda env create -f ./geo-datasets/env.yml\n",
    "!conda run -n geodata38"
   ]
  },
  {
   "cell_type": "markdown",
   "id": "00c10465-9224-4f9c-8b86-a37e93d4245c",
   "metadata": {
    "tags": []
   },
   "source": [
    "!git clone --branch develop-k8s https://github.com/aiddata/geo-datasets"
   ]
  },
  {
   "cell_type": "markdown",
   "id": "b9357736-2280-4843-9898-22f51c5326be",
   "metadata": {
    "tags": []
   },
   "source": [
    "!pip install geo-datasets/global_scripts/data_manager"
   ]
  },
  {
   "cell_type": "code",
   "execution_count": 4,
   "id": "6036d3c8-05fd-4609-adcb-4d47fb9658ec",
   "metadata": {
    "tags": []
   },
   "outputs": [],
   "source": [
    "from data_manager import Dataset"
   ]
  },
  {
   "cell_type": "code",
   "execution_count": 5,
   "id": "ba39e8c4-4706-41e3-8105-1cc9164a5b55",
   "metadata": {
    "tags": []
   },
   "outputs": [],
   "source": [
    "class LTDR_NDVI(Dataset):\n",
    "\n",
    "    name = \"Long-term Data Record NDVI\"\n",
    "\n",
    "    def __init__(self,\n",
    "                 token:str,\n",
    "                 years: List[Union[int, str]],\n",
    "                 raw_dir: Union[str, os.PathLike],\n",
    "                 output_dir: Union[str, os.PathLike],\n",
    "                 overwrite_download: bool,\n",
    "                 validate_download: bool,\n",
    "                 overwrite_processing: bool):\n",
    "\n",
    "        self.build_list = [\n",
    "            \"daily\",\n",
    "            \"monthly\",\n",
    "            \"yearly\"\n",
    "        ]\n",
    "\n",
    "        self.auth_headers = { \"Authorization\": f\"Bearer {token}\" }\n",
    "\n",
    "        self.years = [int(y) for y in years]\n",
    "\n",
    "        # TODO: warn if raw_dir already points to a directory named \"465\", it's probably one too deep\n",
    "        self.raw_dir = Path(raw_dir) / \"466\"\n",
    "        self.output_dir = Path(output_dir)\n",
    "\n",
    "        self.overwrite_download = overwrite_download\n",
    "        self.validate_download = validate_download\n",
    "        self.overwrite_processing = overwrite_processing\n",
    "\n",
    "        self.dataset_url = \"https://ladsweb.modaps.eosdis.nasa.gov/api/v2/content/details/allData/466/\"\n",
    "\n",
    "        self.sensors = [\n",
    "            \"N07_AVH13C1\",\n",
    "            \"N09_AVH13C1\",\n",
    "            \"N11_AVH13C1\",\n",
    "            \"N14_AVH13C1\",\n",
    "            \"N16_AVH13C1\",\n",
    "            \"N18_AVH13C1\",\n",
    "            \"N19_AVH13C1\",\n",
    "        ]\n",
    "\n",
    "    def build_sensor_download_list(self, sensor: str):\n",
    "        logger = self.get_logger()\n",
    "\n",
    "        # generates dictionaries that represent each entry in a directory\n",
    "        def dir_contents(dir_url: str) -> List[dict]:\n",
    "            logger.debug(f\"Fetching {dir_url}\")\n",
    "            req_content = requests.get(dir_url).content\n",
    "            #TODO new add\n",
    "            # dir_url = \"https://ladsweb.modaps.eosdis.nasa.gov/api/v2/content/details/allData/466/\"\n",
    "            req_content = requests.get(dir_url).content\n",
    "            # print(dir_url)\n",
    "            description: dict = json.loads(requests.get(dir_url).content)\n",
    "            return description[\"content\"]\n",
    "\n",
    "        # validates md5 hash of a file\n",
    "        def validate(filepath: Union[str, os.PathLike], md5: str) -> bool:\n",
    "            with open(filepath, \"rb\") as chk:\n",
    "                data = chk.read()\n",
    "                return md5 == hashlib.md5(data).hexdigest()\n",
    "\n",
    "        # this is what we'll return\n",
    "        # list of tuples, each including:\n",
    "        #   1. a boolean \"does the file need to be downloaded?\"\n",
    "        #   2. another tuple: (url_of_download, dst_path_of_download)\n",
    "        download_list: List[Tuple[bool, Tuple[str, Type[Path]]]] = []\n",
    "\n",
    "        sensor_dir = str(urljoin(self.dataset_url, sensor))\n",
    "        # print(repr(sensor_dir))\n",
    "        # for each year the sensor collected data\n",
    "        for year_details in dir_contents(sensor_dir):\n",
    "            # is this a year we'd like data from?\n",
    "            if int(year_details[\"name\"]) in self.years:\n",
    "                # print(int(year_details[\"name\"]))\n",
    "                year_dir: str = \"/\".join([sensor_dir, year_details[\"name\"]])\n",
    "                print(year_dir)\n",
    "                # for each day the sensor collected data in this year\n",
    "                for day_details in dir_contents(year_dir):\n",
    "                    print(day_details)\n",
    "                    day_dir: str = \"/\".join([year_dir, day_details[\"name\"]])\n",
    "                    # for each file the sensor created for this day\n",
    "                    for file_detail in dir_contents(day_dir):\n",
    "                        day_download_url: str = file_detail[\"downloadsLink\"]\n",
    "                        dst = self.raw_dir / sensor / year_details[\"name\"] / day_details[\"name\"] / file_detail[\"name\"]\n",
    "                        # if file is already downloaded, and we aren't in overwrite mode\n",
    "                        if dst.exists() and not self.overwrite_download:\n",
    "                            if self.validate_download:\n",
    "                                if validate(dst, file_detail[\"md5sum\"]):\n",
    "                                    logger.info(f\"File validated: {dst.as_posix()}\")\n",
    "                                    download_list.append((False, (day_download_url, dst)))\n",
    "                                else:\n",
    "                                    logger.info(f\"File validation failed, queuing for download: {dst.as_posix()}\")\n",
    "                                    download_list.append((True, (day_download_url, dst)))\n",
    "                            else:\n",
    "                                logger.info(f\"File exists, skipping: {dst.as_posix()}\")\n",
    "                                download_list.append((False, (day_download_url, dst)))\n",
    "                        else:\n",
    "                            logger.info(f\"Queuing for download: {day_download_url}\")\n",
    "                            download_list.append((True, (day_download_url, dst)))\n",
    "        return download_list\n",
    "\n",
    "    def download(self, src_url: str, final_dst_path: Union[str, os.PathLike]) -> None:\n",
    "        logger = self.get_logger()\n",
    "        logger.info(f\"Downloading {str(final_dst_path)}...\")\n",
    "        with requests.get(src_url, headers=self.auth_headers, stream=True) as src:\n",
    "            src.raise_for_status()\n",
    "            with self.tmp_to_dst_file(final_dst_path) as dst_path:\n",
    "                # my addition\n",
    "                dst_parent = os.path.dirname(final_dst_path)\n",
    "                os.makedirs(dst_parent, exist_ok=True)\n",
    "\n",
    "                with open(dst_path, \"wb\") as dst:\n",
    "                    for chunk in src.iter_content(chunk_size=8192):\n",
    "                        dst.write(chunk)\n",
    "\n",
    "    def build_process_list(self, downloaded_files):\n",
    "\n",
    "        # filter options to accept/deny based on sensor, year\n",
    "        # all values must be strings\n",
    "        # do not enable/use both accept/deny for a given field\n",
    "\n",
    "        ops = {\n",
    "            \"use_sensor_accept\": False,\n",
    "            \"sensor_accept\": [],\n",
    "            \"use_sensor_deny\": False,\n",
    "            \"sensor_deny\": [],\n",
    "            \"use_year_accept\": True,\n",
    "            \"year_accept\": [\"2019\", \"2020\"],\n",
    "            \"use_year_deny\": False,\n",
    "            \"year_deny\": [\"2019\"]\n",
    "        }\n",
    "\n",
    "        df_dict_list = []\n",
    "\n",
    "        for input_path in downloaded_files:\n",
    "            items = input_path.stem.split(\".\")\n",
    "            year = items[1][1:5]\n",
    "            day = items[1][5:8]\n",
    "            sensor = items[2]\n",
    "            month = \"{0:02d}\".format(datetime.strptime(f\"{year}+{day}\", \"%Y+%j\").month)\n",
    "            output_path = self.output_dir / \"daily\" / f\"avhrr_ndvi_v5_{sensor}_{year}_{day}.tif\"\n",
    "            df_dict_list.append({\n",
    "                \"input_path\": input_path,\n",
    "                \"sensor\": sensor,\n",
    "                \"year\": year,\n",
    "                \"month\": month,\n",
    "                \"day\": day,\n",
    "                \"year_month\": year+\"_\"+month,\n",
    "                \"year_day\": year+\"_\"+day,\n",
    "                \"output_path\": output_path\n",
    "            })\n",
    "\n",
    "        df = pd.DataFrame(df_dict_list).sort_values(by=[\"input_path\"])\n",
    "\n",
    "        # df = df.drop_duplicates(subset=\"year_day\", take_last=True)\n",
    "        sensors = sorted(list(set(df[\"sensor\"])))\n",
    "        years = sorted(list(set(df[\"year\"])))\n",
    "        filter_sensors = None\n",
    "        if ops['use_sensor_accept']:\n",
    "            filter_sensors = [i for i in sensors if i in ops['sensor_accept']]\n",
    "        elif ops['use_sensor_deny']:\n",
    "            filter_sensors = [i for i in sensors if i not in ops['sensor_deny']]\n",
    "        if filter_sensors:\n",
    "            df = df.loc[df[\"sensor\"].isin(filter_sensors)]\n",
    "        filter_years = None\n",
    "        if ops['use_year_accept']:\n",
    "            filter_years = [i for i in years if i in ops['year_accept']]\n",
    "        elif ops['use_year_deny']:\n",
    "            filter_years = [i for i in years if i not in ops['year_deny']]\n",
    "        if filter_years:\n",
    "            df = df.loc[df[\"year\"].isin(filter_years)]\n",
    "        return df\n",
    "\n",
    "    @staticmethod\n",
    "    def create_mask(qa_array, mask_vals):\n",
    "        qa_mask_vals = [abs(x - 15) for x in mask_vals]\n",
    "        mask_bin_array = [0] * 16\n",
    "        for x in qa_mask_vals:\n",
    "            mask_bin_array[x] = 1\n",
    "        mask_bin = int(\"\".join(map(str, mask_bin_array)), 2)\n",
    "\n",
    "        flag = lambda i: (i & 65535 & mask_bin) != 0\n",
    "\n",
    "        qa_mask = pd.DataFrame(qa_array).applymap(flag).to_numpy()\n",
    "        return qa_mask\n",
    "\n",
    "    def process_daily_data(self, src: Union[str, os.PathLike], output_path):\n",
    "            \"\"\"\n",
    "            Process input raster and create output in output directory\n",
    "\n",
    "            Unpack NDVI subdataset from a HDF container\n",
    "            Reproject to EPSG:4326\n",
    "            Set values <0 (other than nodata) to 0\n",
    "            Write to COG\n",
    "\n",
    "            Parts of code pulled from:\n",
    "\n",
    "            https://gis.stackexchange.com/questions/174017/extract-scientific-layers-from-modis-hdf-dataeset-using-python-gdal\n",
    "            https://gis.stackexchange.com/questions/42584/how-to-call-gdal-translate-from-python-code\n",
    "            https://stackoverflow.com/questions/10454316/how-to-project-and-resample-a-grid-to-match-another-grid-with-gdal-python/10538634#10538634\n",
    "            https://jgomezdans.github.io/gdal_notes/reprojection.html\n",
    "\n",
    "            Notes:\n",
    "\n",
    "            Rebuilding geotransform is not really necessary in this case but might\n",
    "            be useful for future data prep scripts that can use this as startng point.\n",
    "\n",
    "            \"\"\"\n",
    "\n",
    "            logger = self.get_logger()\n",
    "\n",
    "            year = src.name.split(\".\")[1][1:5]\n",
    "            day = src.name.split(\".\")[1][5:8]\n",
    "            sensor = src.name.split(\".\")[2]\n",
    "\n",
    "            if output_path.exists() and not self.overwrite_processing:\n",
    "                logger.info(f\"Skipping day, already processed: {sensor} {year} {day}\")\n",
    "            else:\n",
    "                logger.info(f\"Processing day: {sensor} {year} {day}\")\n",
    "\n",
    "                # list of qa fields and bit numbers\n",
    "                # NOTE  link broken\n",
    "                # https://ltdr.modaps.eosdis.nasa.gov/ltdr/docs/AVHRR_LTDR_V5_Document.pdf\n",
    "\n",
    "                qa_bits = {\n",
    "                    15: \"Polar flag: latitude > 60deg (land) or > 50deg (ocean)\",\n",
    "                    14: \"BRDF-correction issues\",\n",
    "                    13: \"RHO3 value is invalid\",\n",
    "                    12: \"Channel 5 value is invalid\",\n",
    "                    11: \"Channel 4 value is invalid\",\n",
    "                    10: \"Channel 3 value is invalid\",\n",
    "                    9: \"Channel 2 (NIR) value is invalid\",\n",
    "                    8: \"Channel 1 (visible) value is invalid\",\n",
    "                    7: \"Channel 1-5 are invalid\",\n",
    "                    6: \"Pixel is at night (high solar zenith angle)\",\n",
    "                    5: \"Pixel is over dense dark vegetation\",\n",
    "                    4: \"Pixel is over sun glint\",\n",
    "                    3: \"Pixel is over water\",\n",
    "                    2: \"Pixel contains cloud shadow\",\n",
    "                    1: \"Pixel is cloudy\",\n",
    "                    0: \"Unused\"\n",
    "                }\n",
    "\n",
    "                # qa_mask_vals = [15, 9, 8, 6, 4, 3, 2, 1]\n",
    "                qa_mask_vals = [15, 9, 8, 1]\n",
    "\n",
    "                ndvi_gdal_path = f\"HDF4_EOS:EOS_GRID:\\\"{src.as_posix()}\\\":Grid:NDVI\"\n",
    "                # src_path = Path(src)\n",
    "                # ndvi_gdal_path = src_path\n",
    "                # print(self.output_dir)\n",
    "                # print(ndvi_gdal_path)\n",
    "                qa_gdal_path = f\"HDF4_EOS:EOS_GRID:\\\"{src.as_posix()}\\\":Grid:QA\"\n",
    "                # qa_gdal_path = src_path\n",
    "                \n",
    "                # my addition\n",
    "                # dst_parent_ndvi = os.path.dirname(ndvi_gdal_path)\n",
    "                # os.makedirs(dst_parent_ndvi, exist_ok=True)\n",
    "                # dst_parent_qa = os.path.dirname(qa_gdal_path)\n",
    "                # os.makedirs(dst_parent_qa, exist_ok=True)\n",
    "\n",
    "                # open data subdataset\n",
    "                \n",
    "                with rasterio.open(ndvi_gdal_path) as ndvi_src:\n",
    "                    ndvi_array = ndvi_src.read(1)\n",
    "\n",
    "                    # open quality assurance subdataset\n",
    "                    with rasterio.open(qa_gdal_path) as qa_src:\n",
    "                        qa_array = qa_src.read(1)\n",
    "\n",
    "                        # create mask array using our chosen mask values\n",
    "                        qa_mask = self.create_mask(qa_array, qa_mask_vals)\n",
    "\n",
    "                        # apply mask to dataset\n",
    "                        ndvi_array[qa_mask] = -9999\n",
    "\n",
    "                    ndvi_array[np.where((ndvi_array < 0) & (ndvi_array > -9999))] = 0\n",
    "                    ndvi_array[np.where(ndvi_array > 10000)] = 10000\n",
    "\n",
    "                    profile = {\n",
    "                        \"count\": 1,\n",
    "                        \"driver\": \"COG\",\n",
    "                        \"compress\": \"LZW\",\n",
    "                        \"dtype\": \"int16\",\n",
    "                        \"nodata\": -9999,\n",
    "                        \"height\": 3600,\n",
    "                        \"width\": 7200,\n",
    "                        \"crs\": CRS.from_epsg(4326),\n",
    "                        \"transform\": ndvi_src.transform,\n",
    "                    }\n",
    "\n",
    "                    with self.tmp_to_dst_file(output_path) as dst_path:\n",
    "                        with rasterio.open(dst_path, \"w\", **profile) as dst:\n",
    "                            # for some reason rasterio raises an exception if we don't specify that there is one index\n",
    "                            dst.write(ndvi_array, indexes=1)\n",
    "\n",
    "    def process_monthly_data(self, year_month, month_files, month_path):\n",
    "            logger = self.get_logger()\n",
    "            if os.path.exists(month_path) and not self.overwrite_processing:\n",
    "                logger.info(f\"Skipping month, already processed: {year_month}\")\n",
    "            else:\n",
    "                logger.info(f\"Processing month: {year_month}\")\n",
    "                data, meta = self.aggregate_rasters(file_list=month_files, method=\"max\")\n",
    "                self.write_raster(month_path, data, meta)\n",
    "\n",
    "    def process_yearly_data(self, year, year_files, year_path):\n",
    "        logger = self.get_logger()\n",
    "        if os.path.exists(year_path) and not self.overwrite_processing:\n",
    "            logger.info(f\"Skipping year, already processed: {year}\")\n",
    "        else:\n",
    "            logger.info(f\"Processing year: {year}\")\n",
    "            data, meta = self.aggregate_rasters(file_list=year_files, method=\"mean\")\n",
    "            self.write_raster(year_path, data, meta)\n",
    "\n",
    "    def aggregate_rasters(self, file_list, method=\"mean\"):\n",
    "            \"\"\"\n",
    "            Aggregate multiple rasters\n",
    "\n",
    "            Aggregates multiple rasters with same features (dimensions, transform,\n",
    "            pixel size, etc.) and creates single layer using aggregation method\n",
    "            specified.\n",
    "\n",
    "            Supported methods: mean (default), max, min, sum\n",
    "\n",
    "            Arguments\n",
    "                file_list (list): list of file paths for rasters to be aggregated\n",
    "                method (str): method used for aggregation\n",
    "\n",
    "            Return\n",
    "                result: rasterio Raster instance\n",
    "            \"\"\"\n",
    "            logger = self.get_logger()\n",
    "            store = None\n",
    "            for ix, file_path in enumerate(file_list):\n",
    "\n",
    "                try:\n",
    "                    raster = rasterio.open(file_path)\n",
    "                except:\n",
    "                    logger.error(f\"Could not include file in aggregation ({str(file_path)})\")\n",
    "                    continue\n",
    "\n",
    "                active = raster.read(masked=True)\n",
    "\n",
    "                if store is None:\n",
    "                    store = active.copy()\n",
    "\n",
    "                else:\n",
    "                    # make sure dimensions match\n",
    "                    if active.shape != store.shape:\n",
    "                        raise Exception(\"Dimensions of rasters do not match\")\n",
    "\n",
    "                    if method == \"max\":\n",
    "                        store = np.ma.array((store, active)).max(axis=0)\n",
    "\n",
    "                        # non masked array alternatives\n",
    "                        # store = np.maximum.reduce([store, active])\n",
    "                        # store = np.vstack([store, active]).max(axis=0)\n",
    "\n",
    "                    elif method == \"mean\":\n",
    "                        if ix == 1:\n",
    "                            weights = (~store.mask).astype(int)\n",
    "\n",
    "                        store = np.ma.average(np.ma.array((store, active)), axis=0, weights=[weights, (~active.mask).astype(int)])\n",
    "                        weights += (~active.mask).astype(int)\n",
    "\n",
    "                    elif method == \"min\":\n",
    "                        store = np.ma.array((store, active)).min(axis=0)\n",
    "\n",
    "                    elif method == \"sum\":\n",
    "                        store = np.ma.array((store, active)).sum(axis=0)\n",
    "\n",
    "                    else:\n",
    "                        raise Exception(\"Invalid method\")\n",
    "\n",
    "            store = store.filled(raster.nodata)\n",
    "            return store, raster.profile\n",
    "\n",
    "    def write_raster(self, path, data, meta):\n",
    "        logger = self.get_logger()\n",
    "        os.makedirs(os.path.dirname(path), exist_ok=True)\n",
    "        meta[\"dtype\"] = data.dtype\n",
    "        with self.tmp_to_dst_file(path) as write_path:\n",
    "            with rasterio.open(write_path, \"w\", **meta) as result:\n",
    "                try:\n",
    "                    result.write(data)\n",
    "                except:\n",
    "                    logger.exception(\"Error writing raster to {path}\")\n",
    "\n",
    "    def main(self):\n",
    "\n",
    "        # Build download list\n",
    "        raw_file_list = self.run_tasks(self.build_sensor_download_list, [[s] for s in self.sensors])\n",
    "\n",
    "        # We have a list of lists (from each sensor), merge them into one\n",
    "        file_list = [i for i in chain(*raw_file_list.results())]\n",
    "\n",
    "        # Extract list of files to download from file_list\n",
    "        download_list = [i[1] for i in file_list if i[0]]\n",
    "\n",
    "        # Download data\n",
    "        if len(download_list) > 0:\n",
    "            self.run_tasks(self.download, download_list).results()\n",
    "\n",
    "        # Make a list of all daily files, regardless of how the downloads went\n",
    "        day_files = [i[1][1] for i in file_list]\n",
    "\n",
    "        # Build day dataframe\n",
    "        day_df = self.build_process_list(day_files)\n",
    "\n",
    "        # build month dataframe\n",
    "\n",
    "        # Using pandas \"named aggregation\" to make ensure predictable column names in output.\n",
    "        # See bottom of this page:\n",
    "        # https://pandas.pydata.org/pandas-docs/stable/reference/api/pandas.core.groupby.DataFrameGroupBy.aggregate.html\n",
    "        # see also https://pandas.pydata.org/pandas-docs/stable/user_guide/groupby.html#groupby-aggregate-named\n",
    "        month_df = day_df[[\"output_path\", \"year\", \"year_month\"]].groupby(\"year_month\", as_index=False).aggregate(\n",
    "            day_path_list = pd.NamedAgg(column=\"output_path\",   aggfunc=lambda x: tuple(x)),\n",
    "            count =         pd.NamedAgg(column=\"output_path\",   aggfunc=\"count\"),\n",
    "            year =          pd.NamedAgg(column=\"year\",          aggfunc=\"last\")\n",
    "        )\n",
    "\n",
    "        minimum_days_in_month = 20\n",
    "\n",
    "        month_df = month_df.loc[month_df[\"count\"] >= minimum_days_in_month]\n",
    "\n",
    "        month_df[\"output_path\"] = month_df.apply(\n",
    "            lambda x: (self.output_dir / \"monthly/avhrr_ndvi_v5_{}.tif\".format(x[\"year_month\"])).as_posix(), axis=1\n",
    "        )\n",
    "\n",
    "        # build year dataframe\n",
    "        year_df = month_df[[\"output_path\", \"year\"]].groupby(\"year\", as_index=False).aggregate({\n",
    "            \"output_path\": [lambda x: tuple(x), \"count\"]\n",
    "        })\n",
    "        year_df.columns = [\"year\", \"month_path_list\", \"count\"]\n",
    "\n",
    "\n",
    "        year_df[\"output_path\"] = year_df[\"year\"].apply(\n",
    "            lambda x: (self.output_dir / f\"yearly/avhrr_ndvi_v5_{x}.tif\").as_posix()\n",
    "        )\n",
    "\n",
    "        # Make _qlist arrays, which are handled by prep_xxx_data functions as lists of tasks\n",
    "\n",
    "        day_qlist = []\n",
    "        for _, row in day_df.iterrows():\n",
    "            day_qlist.append([row[\"input_path\"], row[\"output_path\"]])\n",
    "\n",
    "        month_qlist = []\n",
    "        for _, row in month_df.iterrows():\n",
    "            month_qlist.append([row[\"year_month\"], row[\"day_path_list\"], row[\"output_path\"]])\n",
    "\n",
    "        year_qlist = []\n",
    "        for _, row in year_df.iterrows():\n",
    "            year_qlist.append([row[\"year\"], row[\"month_path_list\"], row[\"output_path\"]])\n",
    "\n",
    "        if \"daily\" in self.build_list:\n",
    "            os.makedirs(self.output_dir / \"daily\", exist_ok=True)\n",
    "            self.run_tasks(self.process_daily_data, day_qlist)\n",
    "\n",
    "        if \"monthly\" in self.build_list:\n",
    "            os.makedirs(self.output_dir / \"monthly\", exist_ok=True)\n",
    "            self.run_tasks(self.process_monthly_data, month_qlist)\n",
    "\n",
    "        if \"yearly\" in self.build_list:\n",
    "            os.makedirs(self.output_dir / \"yearly\", exist_ok=True)\n",
    "            self.run_tasks(self.process_yearly_data, year_qlist)\n"
   ]
  },
  {
   "cell_type": "code",
   "execution_count": 6,
   "id": "42d6c44e-1743-4297-913f-8802d4a519ec",
   "metadata": {
    "tags": []
   },
   "outputs": [],
   "source": [
    "def get_config_dict(config_file=\"config.ini\"):\n",
    "    config = ConfigParser()\n",
    "    config.read(config_file)\n",
    "\n",
    "    return {\n",
    "        \"token\": config[\"main\"][\"token\"],\n",
    "        \"years\": [int(y) for y in config[\"main\"][\"years\"].split(\", \")],\n",
    "        \"raw_dir\": Path(config[\"main\"][\"raw_dir\"]),\n",
    "        \"output_dir\": Path(config[\"main\"][\"output_dir\"]),\n",
    "        \"overwrite_download\": config[\"main\"].getboolean(\"overwrite_download\"),\n",
    "        \"validate_download\": config[\"main\"].getboolean(\"validate_download\"),\n",
    "        \"overwrite_processing\": config[\"main\"].getboolean(\"overwrite_processing\"),\n",
    "        \"backend\": config[\"run\"][\"backend\"],\n",
    "        \"task_runner\": config[\"run\"][\"task_runner\"],\n",
    "        \"run_parallel\": config[\"run\"].getboolean(\"run_parallel\"),\n",
    "        \"max_workers\": int(config[\"run\"][\"max_workers\"]),\n",
    "        \"log_dir\": Path(config[\"main\"][\"raw_dir\"]) / \"logs\"\n",
    "    }"
   ]
  },
  {
   "cell_type": "code",
   "execution_count": 7,
   "id": "2a9b8832-4cfc-474b-a596-80bfc853601f",
   "metadata": {
    "tags": []
   },
   "outputs": [],
   "source": [
    "config_dict = get_config_dict()\n",
    "\n",
    "log_dir = config_dict[\"log_dir\"]\n",
    "timestamp = datetime.today()\n",
    "time_format_str: str=\"%Y_%m_%d_%H_%M\"\n",
    "time_str = timestamp.strftime(time_format_str)\n",
    "timestamp_log_dir = Path(log_dir) / time_str\n",
    "timestamp_log_dir.mkdir(parents=True, exist_ok=True)    \n"
   ]
  },
  {
   "cell_type": "code",
   "execution_count": null,
   "id": "4d544efb-bdc2-4e7f-a7a7-fb3dcbc9ec95",
   "metadata": {
    "tags": []
   },
   "outputs": [
    {
     "name": "stderr",
     "output_type": "stream",
     "text": [
      "Your conda environment is base instead of the expected geodata38\n",
      "No $TMPDIR environment variable found!\n"
     ]
    },
    {
     "name": "stdout",
     "output_type": "stream",
     "text": [
      "https://ladsweb.modaps.eosdis.nasa.gov/api/v2/content/details/allData/466/N07_AVH13C1/1981\n",
      "{'downloadsLink': 'https://ladsweb.modaps.eosdis.nasa.gov/api/v2/content/archives/allData/466/N07_AVH13C1/1981/175', 'mtime': 1710527239, 'name': '175', 'resourceType': 'Directory', 'self': '/api/v2/content/details/allData/466/N07_AVH13C1/1981/175', 'size': 0}\n"
     ]
    },
    {
     "name": "stderr",
     "output_type": "stream",
     "text": [
      "File validation failed, queuing for download: /home/jovyan/ltdr_ndvi/raw/466/N07_AVH13C1/1981/175/N07_AVH13C1.A1981175.006.2022270161458.nc\n"
     ]
    },
    {
     "name": "stdout",
     "output_type": "stream",
     "text": [
      "{'downloadsLink': 'https://ladsweb.modaps.eosdis.nasa.gov/api/v2/content/archives/allData/466/N07_AVH13C1/1981/176', 'mtime': 1710527239, 'name': '176', 'resourceType': 'Directory', 'self': '/api/v2/content/details/allData/466/N07_AVH13C1/1981/176', 'size': 0}\n"
     ]
    },
    {
     "name": "stderr",
     "output_type": "stream",
     "text": [
      "File validation failed, queuing for download: /home/jovyan/ltdr_ndvi/raw/466/N07_AVH13C1/1981/176/N07_AVH13C1.A1981176.006.2022270172715.nc\n"
     ]
    },
    {
     "name": "stdout",
     "output_type": "stream",
     "text": [
      "{'downloadsLink': 'https://ladsweb.modaps.eosdis.nasa.gov/api/v2/content/archives/allData/466/N07_AVH13C1/1981/177', 'mtime': 1710527239, 'name': '177', 'resourceType': 'Directory', 'self': '/api/v2/content/details/allData/466/N07_AVH13C1/1981/177', 'size': 0}\n"
     ]
    },
    {
     "name": "stderr",
     "output_type": "stream",
     "text": [
      "File validation failed, queuing for download: /home/jovyan/ltdr_ndvi/raw/466/N07_AVH13C1/1981/177/N07_AVH13C1.A1981177.006.2022270163408.nc\n"
     ]
    },
    {
     "name": "stdout",
     "output_type": "stream",
     "text": [
      "{'downloadsLink': 'https://ladsweb.modaps.eosdis.nasa.gov/api/v2/content/archives/allData/466/N07_AVH13C1/1981/178', 'mtime': 1710527239, 'name': '178', 'resourceType': 'Directory', 'self': '/api/v2/content/details/allData/466/N07_AVH13C1/1981/178', 'size': 0}\n"
     ]
    },
    {
     "name": "stderr",
     "output_type": "stream",
     "text": [
      "File validation failed, queuing for download: /home/jovyan/ltdr_ndvi/raw/466/N07_AVH13C1/1981/178/N07_AVH13C1.A1981178.006.2022270165135.nc\n"
     ]
    },
    {
     "name": "stdout",
     "output_type": "stream",
     "text": [
      "{'downloadsLink': 'https://ladsweb.modaps.eosdis.nasa.gov/api/v2/content/archives/allData/466/N07_AVH13C1/1981/179', 'mtime': 1710527239, 'name': '179', 'resourceType': 'Directory', 'self': '/api/v2/content/details/allData/466/N07_AVH13C1/1981/179', 'size': 0}\n"
     ]
    },
    {
     "name": "stderr",
     "output_type": "stream",
     "text": [
      "File validation failed, queuing for download: /home/jovyan/ltdr_ndvi/raw/466/N07_AVH13C1/1981/179/N07_AVH13C1.A1981179.006.2022270173246.nc\n"
     ]
    },
    {
     "name": "stdout",
     "output_type": "stream",
     "text": [
      "{'downloadsLink': 'https://ladsweb.modaps.eosdis.nasa.gov/api/v2/content/archives/allData/466/N07_AVH13C1/1981/180', 'mtime': 1710527239, 'name': '180', 'resourceType': 'Directory', 'self': '/api/v2/content/details/allData/466/N07_AVH13C1/1981/180', 'size': 0}\n"
     ]
    },
    {
     "name": "stderr",
     "output_type": "stream",
     "text": [
      "File validation failed, queuing for download: /home/jovyan/ltdr_ndvi/raw/466/N07_AVH13C1/1981/180/N07_AVH13C1.A1981180.006.2022270162136.nc\n"
     ]
    },
    {
     "name": "stdout",
     "output_type": "stream",
     "text": [
      "{'downloadsLink': 'https://ladsweb.modaps.eosdis.nasa.gov/api/v2/content/archives/allData/466/N07_AVH13C1/1981/181', 'mtime': 1710527239, 'name': '181', 'resourceType': 'Directory', 'self': '/api/v2/content/details/allData/466/N07_AVH13C1/1981/181', 'size': 0}\n"
     ]
    },
    {
     "name": "stderr",
     "output_type": "stream",
     "text": [
      "File validation failed, queuing for download: /home/jovyan/ltdr_ndvi/raw/466/N07_AVH13C1/1981/181/N07_AVH13C1.A1981181.006.2022270162113.nc\n"
     ]
    },
    {
     "name": "stdout",
     "output_type": "stream",
     "text": [
      "{'downloadsLink': 'https://ladsweb.modaps.eosdis.nasa.gov/api/v2/content/archives/allData/466/N07_AVH13C1/1981/182', 'mtime': 1710527239, 'name': '182', 'resourceType': 'Directory', 'self': '/api/v2/content/details/allData/466/N07_AVH13C1/1981/182', 'size': 0}\n"
     ]
    },
    {
     "name": "stderr",
     "output_type": "stream",
     "text": [
      "File validation failed, queuing for download: /home/jovyan/ltdr_ndvi/raw/466/N07_AVH13C1/1981/182/N07_AVH13C1.A1981182.006.2022270165327.nc\n"
     ]
    },
    {
     "name": "stdout",
     "output_type": "stream",
     "text": [
      "{'downloadsLink': 'https://ladsweb.modaps.eosdis.nasa.gov/api/v2/content/archives/allData/466/N07_AVH13C1/1981/183', 'mtime': 1710527239, 'name': '183', 'resourceType': 'Directory', 'self': '/api/v2/content/details/allData/466/N07_AVH13C1/1981/183', 'size': 0}\n"
     ]
    },
    {
     "name": "stderr",
     "output_type": "stream",
     "text": [
      "File validation failed, queuing for download: /home/jovyan/ltdr_ndvi/raw/466/N07_AVH13C1/1981/183/N07_AVH13C1.A1981183.006.2022270171707.nc\n"
     ]
    },
    {
     "name": "stdout",
     "output_type": "stream",
     "text": [
      "{'downloadsLink': 'https://ladsweb.modaps.eosdis.nasa.gov/api/v2/content/archives/allData/466/N07_AVH13C1/1981/184', 'mtime': 1710527239, 'name': '184', 'resourceType': 'Directory', 'self': '/api/v2/content/details/allData/466/N07_AVH13C1/1981/184', 'size': 0}\n"
     ]
    },
    {
     "name": "stderr",
     "output_type": "stream",
     "text": [
      "File validation failed, queuing for download: /home/jovyan/ltdr_ndvi/raw/466/N07_AVH13C1/1981/184/N07_AVH13C1.A1981184.006.2022270163934.nc\n"
     ]
    },
    {
     "name": "stdout",
     "output_type": "stream",
     "text": [
      "{'downloadsLink': 'https://ladsweb.modaps.eosdis.nasa.gov/api/v2/content/archives/allData/466/N07_AVH13C1/1981/185', 'mtime': 1710527239, 'name': '185', 'resourceType': 'Directory', 'self': '/api/v2/content/details/allData/466/N07_AVH13C1/1981/185', 'size': 0}\n"
     ]
    },
    {
     "name": "stderr",
     "output_type": "stream",
     "text": [
      "File validation failed, queuing for download: /home/jovyan/ltdr_ndvi/raw/466/N07_AVH13C1/1981/185/N07_AVH13C1.A1981185.006.2022270172201.nc\n"
     ]
    },
    {
     "name": "stdout",
     "output_type": "stream",
     "text": [
      "{'downloadsLink': 'https://ladsweb.modaps.eosdis.nasa.gov/api/v2/content/archives/allData/466/N07_AVH13C1/1981/186', 'mtime': 1710527239, 'name': '186', 'resourceType': 'Directory', 'self': '/api/v2/content/details/allData/466/N07_AVH13C1/1981/186', 'size': 0}\n"
     ]
    },
    {
     "name": "stderr",
     "output_type": "stream",
     "text": [
      "File validation failed, queuing for download: /home/jovyan/ltdr_ndvi/raw/466/N07_AVH13C1/1981/186/N07_AVH13C1.A1981186.006.2022270173946.nc\n"
     ]
    },
    {
     "name": "stdout",
     "output_type": "stream",
     "text": [
      "{'downloadsLink': 'https://ladsweb.modaps.eosdis.nasa.gov/api/v2/content/archives/allData/466/N07_AVH13C1/1981/187', 'mtime': 1710527239, 'name': '187', 'resourceType': 'Directory', 'self': '/api/v2/content/details/allData/466/N07_AVH13C1/1981/187', 'size': 0}\n"
     ]
    },
    {
     "name": "stderr",
     "output_type": "stream",
     "text": [
      "File validation failed, queuing for download: /home/jovyan/ltdr_ndvi/raw/466/N07_AVH13C1/1981/187/N07_AVH13C1.A1981187.006.2022270175137.nc\n"
     ]
    },
    {
     "name": "stdout",
     "output_type": "stream",
     "text": [
      "{'downloadsLink': 'https://ladsweb.modaps.eosdis.nasa.gov/api/v2/content/archives/allData/466/N07_AVH13C1/1981/188', 'mtime': 1710527239, 'name': '188', 'resourceType': 'Directory', 'self': '/api/v2/content/details/allData/466/N07_AVH13C1/1981/188', 'size': 0}\n"
     ]
    },
    {
     "name": "stderr",
     "output_type": "stream",
     "text": [
      "File validation failed, queuing for download: /home/jovyan/ltdr_ndvi/raw/466/N07_AVH13C1/1981/188/N07_AVH13C1.A1981188.006.2022270171813.nc\n"
     ]
    },
    {
     "name": "stdout",
     "output_type": "stream",
     "text": [
      "{'downloadsLink': 'https://ladsweb.modaps.eosdis.nasa.gov/api/v2/content/archives/allData/466/N07_AVH13C1/1981/189', 'mtime': 1710527239, 'name': '189', 'resourceType': 'Directory', 'self': '/api/v2/content/details/allData/466/N07_AVH13C1/1981/189', 'size': 0}\n"
     ]
    },
    {
     "name": "stderr",
     "output_type": "stream",
     "text": [
      "File validation failed, queuing for download: /home/jovyan/ltdr_ndvi/raw/466/N07_AVH13C1/1981/189/N07_AVH13C1.A1981189.006.2022270171838.nc\n"
     ]
    },
    {
     "name": "stdout",
     "output_type": "stream",
     "text": [
      "{'downloadsLink': 'https://ladsweb.modaps.eosdis.nasa.gov/api/v2/content/archives/allData/466/N07_AVH13C1/1981/190', 'mtime': 1710527239, 'name': '190', 'resourceType': 'Directory', 'self': '/api/v2/content/details/allData/466/N07_AVH13C1/1981/190', 'size': 0}\n"
     ]
    },
    {
     "name": "stderr",
     "output_type": "stream",
     "text": [
      "File validation failed, queuing for download: /home/jovyan/ltdr_ndvi/raw/466/N07_AVH13C1/1981/190/N07_AVH13C1.A1981190.006.2022270184022.nc\n"
     ]
    },
    {
     "name": "stdout",
     "output_type": "stream",
     "text": [
      "{'downloadsLink': 'https://ladsweb.modaps.eosdis.nasa.gov/api/v2/content/archives/allData/466/N07_AVH13C1/1981/191', 'mtime': 1710527239, 'name': '191', 'resourceType': 'Directory', 'self': '/api/v2/content/details/allData/466/N07_AVH13C1/1981/191', 'size': 0}\n"
     ]
    },
    {
     "name": "stderr",
     "output_type": "stream",
     "text": [
      "File validation failed, queuing for download: /home/jovyan/ltdr_ndvi/raw/466/N07_AVH13C1/1981/191/N07_AVH13C1.A1981191.006.2022270184250.nc\n"
     ]
    },
    {
     "name": "stdout",
     "output_type": "stream",
     "text": [
      "{'downloadsLink': 'https://ladsweb.modaps.eosdis.nasa.gov/api/v2/content/archives/allData/466/N07_AVH13C1/1981/192', 'mtime': 1710527239, 'name': '192', 'resourceType': 'Directory', 'self': '/api/v2/content/details/allData/466/N07_AVH13C1/1981/192', 'size': 0}\n"
     ]
    },
    {
     "name": "stderr",
     "output_type": "stream",
     "text": [
      "File validation failed, queuing for download: /home/jovyan/ltdr_ndvi/raw/466/N07_AVH13C1/1981/192/N07_AVH13C1.A1981192.006.2022270173429.nc\n"
     ]
    },
    {
     "name": "stdout",
     "output_type": "stream",
     "text": [
      "{'downloadsLink': 'https://ladsweb.modaps.eosdis.nasa.gov/api/v2/content/archives/allData/466/N07_AVH13C1/1981/193', 'mtime': 1710527239, 'name': '193', 'resourceType': 'Directory', 'self': '/api/v2/content/details/allData/466/N07_AVH13C1/1981/193', 'size': 0}\n"
     ]
    },
    {
     "name": "stderr",
     "output_type": "stream",
     "text": [
      "File validation failed, queuing for download: /home/jovyan/ltdr_ndvi/raw/466/N07_AVH13C1/1981/193/N07_AVH13C1.A1981193.006.2022270183929.nc\n"
     ]
    },
    {
     "name": "stdout",
     "output_type": "stream",
     "text": [
      "{'downloadsLink': 'https://ladsweb.modaps.eosdis.nasa.gov/api/v2/content/archives/allData/466/N07_AVH13C1/1981/194', 'mtime': 1710527239, 'name': '194', 'resourceType': 'Directory', 'self': '/api/v2/content/details/allData/466/N07_AVH13C1/1981/194', 'size': 0}\n"
     ]
    },
    {
     "name": "stderr",
     "output_type": "stream",
     "text": [
      "File validation failed, queuing for download: /home/jovyan/ltdr_ndvi/raw/466/N07_AVH13C1/1981/194/N07_AVH13C1.A1981194.006.2022270182926.nc\n"
     ]
    },
    {
     "name": "stdout",
     "output_type": "stream",
     "text": [
      "{'downloadsLink': 'https://ladsweb.modaps.eosdis.nasa.gov/api/v2/content/archives/allData/466/N07_AVH13C1/1981/195', 'mtime': 1710527239, 'name': '195', 'resourceType': 'Directory', 'self': '/api/v2/content/details/allData/466/N07_AVH13C1/1981/195', 'size': 0}\n"
     ]
    },
    {
     "name": "stderr",
     "output_type": "stream",
     "text": [
      "File validation failed, queuing for download: /home/jovyan/ltdr_ndvi/raw/466/N07_AVH13C1/1981/195/N07_AVH13C1.A1981195.006.2022270183901.nc\n"
     ]
    },
    {
     "name": "stdout",
     "output_type": "stream",
     "text": [
      "{'downloadsLink': 'https://ladsweb.modaps.eosdis.nasa.gov/api/v2/content/archives/allData/466/N07_AVH13C1/1981/196', 'mtime': 1710527239, 'name': '196', 'resourceType': 'Directory', 'self': '/api/v2/content/details/allData/466/N07_AVH13C1/1981/196', 'size': 0}\n"
     ]
    },
    {
     "name": "stderr",
     "output_type": "stream",
     "text": [
      "File validation failed, queuing for download: /home/jovyan/ltdr_ndvi/raw/466/N07_AVH13C1/1981/196/N07_AVH13C1.A1981196.006.2022270182858.nc\n"
     ]
    },
    {
     "name": "stdout",
     "output_type": "stream",
     "text": [
      "{'downloadsLink': 'https://ladsweb.modaps.eosdis.nasa.gov/api/v2/content/archives/allData/466/N07_AVH13C1/1981/197', 'mtime': 1710527239, 'name': '197', 'resourceType': 'Directory', 'self': '/api/v2/content/details/allData/466/N07_AVH13C1/1981/197', 'size': 0}\n"
     ]
    },
    {
     "name": "stderr",
     "output_type": "stream",
     "text": [
      "File validation failed, queuing for download: /home/jovyan/ltdr_ndvi/raw/466/N07_AVH13C1/1981/197/N07_AVH13C1.A1981197.006.2022270180010.nc\n"
     ]
    },
    {
     "name": "stdout",
     "output_type": "stream",
     "text": [
      "{'downloadsLink': 'https://ladsweb.modaps.eosdis.nasa.gov/api/v2/content/archives/allData/466/N07_AVH13C1/1981/198', 'mtime': 1710527239, 'name': '198', 'resourceType': 'Directory', 'self': '/api/v2/content/details/allData/466/N07_AVH13C1/1981/198', 'size': 0}\n"
     ]
    },
    {
     "name": "stderr",
     "output_type": "stream",
     "text": [
      "File validation failed, queuing for download: /home/jovyan/ltdr_ndvi/raw/466/N07_AVH13C1/1981/198/N07_AVH13C1.A1981198.006.2022270190922.nc\n"
     ]
    },
    {
     "name": "stdout",
     "output_type": "stream",
     "text": [
      "{'downloadsLink': 'https://ladsweb.modaps.eosdis.nasa.gov/api/v2/content/archives/allData/466/N07_AVH13C1/1981/199', 'mtime': 1710527239, 'name': '199', 'resourceType': 'Directory', 'self': '/api/v2/content/details/allData/466/N07_AVH13C1/1981/199', 'size': 0}\n"
     ]
    },
    {
     "name": "stderr",
     "output_type": "stream",
     "text": [
      "File validation failed, queuing for download: /home/jovyan/ltdr_ndvi/raw/466/N07_AVH13C1/1981/199/N07_AVH13C1.A1981199.006.2022270181113.nc\n"
     ]
    },
    {
     "name": "stdout",
     "output_type": "stream",
     "text": [
      "{'downloadsLink': 'https://ladsweb.modaps.eosdis.nasa.gov/api/v2/content/archives/allData/466/N07_AVH13C1/1981/200', 'mtime': 1710527239, 'name': '200', 'resourceType': 'Directory', 'self': '/api/v2/content/details/allData/466/N07_AVH13C1/1981/200', 'size': 0}\n"
     ]
    },
    {
     "name": "stderr",
     "output_type": "stream",
     "text": [
      "File validation failed, queuing for download: /home/jovyan/ltdr_ndvi/raw/466/N07_AVH13C1/1981/200/N07_AVH13C1.A1981200.006.2022270184809.nc\n"
     ]
    },
    {
     "name": "stdout",
     "output_type": "stream",
     "text": [
      "{'downloadsLink': 'https://ladsweb.modaps.eosdis.nasa.gov/api/v2/content/archives/allData/466/N07_AVH13C1/1981/201', 'mtime': 1710527239, 'name': '201', 'resourceType': 'Directory', 'self': '/api/v2/content/details/allData/466/N07_AVH13C1/1981/201', 'size': 0}\n"
     ]
    },
    {
     "name": "stderr",
     "output_type": "stream",
     "text": [
      "File validation failed, queuing for download: /home/jovyan/ltdr_ndvi/raw/466/N07_AVH13C1/1981/201/N07_AVH13C1.A1981201.006.2022270195738.nc\n"
     ]
    },
    {
     "name": "stdout",
     "output_type": "stream",
     "text": [
      "{'downloadsLink': 'https://ladsweb.modaps.eosdis.nasa.gov/api/v2/content/archives/allData/466/N07_AVH13C1/1981/202', 'mtime': 1710527239, 'name': '202', 'resourceType': 'Directory', 'self': '/api/v2/content/details/allData/466/N07_AVH13C1/1981/202', 'size': 0}\n"
     ]
    },
    {
     "name": "stderr",
     "output_type": "stream",
     "text": [
      "File validation failed, queuing for download: /home/jovyan/ltdr_ndvi/raw/466/N07_AVH13C1/1981/202/N07_AVH13C1.A1981202.006.2022270184631.nc\n"
     ]
    },
    {
     "name": "stdout",
     "output_type": "stream",
     "text": [
      "{'downloadsLink': 'https://ladsweb.modaps.eosdis.nasa.gov/api/v2/content/archives/allData/466/N07_AVH13C1/1981/203', 'mtime': 1710527239, 'name': '203', 'resourceType': 'Directory', 'self': '/api/v2/content/details/allData/466/N07_AVH13C1/1981/203', 'size': 0}\n"
     ]
    },
    {
     "name": "stderr",
     "output_type": "stream",
     "text": [
      "File validation failed, queuing for download: /home/jovyan/ltdr_ndvi/raw/466/N07_AVH13C1/1981/203/N07_AVH13C1.A1981203.006.2022270191013.nc\n"
     ]
    },
    {
     "name": "stdout",
     "output_type": "stream",
     "text": [
      "{'downloadsLink': 'https://ladsweb.modaps.eosdis.nasa.gov/api/v2/content/archives/allData/466/N07_AVH13C1/1981/204', 'mtime': 1710527239, 'name': '204', 'resourceType': 'Directory', 'self': '/api/v2/content/details/allData/466/N07_AVH13C1/1981/204', 'size': 0}\n"
     ]
    },
    {
     "name": "stderr",
     "output_type": "stream",
     "text": [
      "File validation failed, queuing for download: /home/jovyan/ltdr_ndvi/raw/466/N07_AVH13C1/1981/204/N07_AVH13C1.A1981204.006.2022270193248.nc\n"
     ]
    },
    {
     "name": "stdout",
     "output_type": "stream",
     "text": [
      "{'downloadsLink': 'https://ladsweb.modaps.eosdis.nasa.gov/api/v2/content/archives/allData/466/N07_AVH13C1/1981/205', 'mtime': 1710527239, 'name': '205', 'resourceType': 'Directory', 'self': '/api/v2/content/details/allData/466/N07_AVH13C1/1981/205', 'size': 0}\n"
     ]
    },
    {
     "name": "stderr",
     "output_type": "stream",
     "text": [
      "File validation failed, queuing for download: /home/jovyan/ltdr_ndvi/raw/466/N07_AVH13C1/1981/205/N07_AVH13C1.A1981205.006.2022270193111.nc\n"
     ]
    },
    {
     "name": "stdout",
     "output_type": "stream",
     "text": [
      "{'downloadsLink': 'https://ladsweb.modaps.eosdis.nasa.gov/api/v2/content/archives/allData/466/N07_AVH13C1/1981/206', 'mtime': 1710527239, 'name': '206', 'resourceType': 'Directory', 'self': '/api/v2/content/details/allData/466/N07_AVH13C1/1981/206', 'size': 0}\n"
     ]
    },
    {
     "name": "stderr",
     "output_type": "stream",
     "text": [
      "File validation failed, queuing for download: /home/jovyan/ltdr_ndvi/raw/466/N07_AVH13C1/1981/206/N07_AVH13C1.A1981206.006.2022270201118.nc\n"
     ]
    },
    {
     "name": "stdout",
     "output_type": "stream",
     "text": [
      "{'downloadsLink': 'https://ladsweb.modaps.eosdis.nasa.gov/api/v2/content/archives/allData/466/N07_AVH13C1/1981/207', 'mtime': 1710527239, 'name': '207', 'resourceType': 'Directory', 'self': '/api/v2/content/details/allData/466/N07_AVH13C1/1981/207', 'size': 0}\n"
     ]
    },
    {
     "name": "stderr",
     "output_type": "stream",
     "text": [
      "File validation failed, queuing for download: /home/jovyan/ltdr_ndvi/raw/466/N07_AVH13C1/1981/207/N07_AVH13C1.A1981207.006.2022270200634.nc\n"
     ]
    },
    {
     "name": "stdout",
     "output_type": "stream",
     "text": [
      "{'downloadsLink': 'https://ladsweb.modaps.eosdis.nasa.gov/api/v2/content/archives/allData/466/N07_AVH13C1/1981/208', 'mtime': 1710527239, 'name': '208', 'resourceType': 'Directory', 'self': '/api/v2/content/details/allData/466/N07_AVH13C1/1981/208', 'size': 0}\n"
     ]
    },
    {
     "name": "stderr",
     "output_type": "stream",
     "text": [
      "File validation failed, queuing for download: /home/jovyan/ltdr_ndvi/raw/466/N07_AVH13C1/1981/208/N07_AVH13C1.A1981208.006.2022270190444.nc\n"
     ]
    },
    {
     "name": "stdout",
     "output_type": "stream",
     "text": [
      "{'downloadsLink': 'https://ladsweb.modaps.eosdis.nasa.gov/api/v2/content/archives/allData/466/N07_AVH13C1/1981/209', 'mtime': 1710527239, 'name': '209', 'resourceType': 'Directory', 'self': '/api/v2/content/details/allData/466/N07_AVH13C1/1981/209', 'size': 0}\n"
     ]
    },
    {
     "name": "stderr",
     "output_type": "stream",
     "text": [
      "File validation failed, queuing for download: /home/jovyan/ltdr_ndvi/raw/466/N07_AVH13C1/1981/209/N07_AVH13C1.A1981209.006.2022270203814.nc\n"
     ]
    },
    {
     "name": "stdout",
     "output_type": "stream",
     "text": [
      "{'downloadsLink': 'https://ladsweb.modaps.eosdis.nasa.gov/api/v2/content/archives/allData/466/N07_AVH13C1/1981/210', 'mtime': 1710527239, 'name': '210', 'resourceType': 'Directory', 'self': '/api/v2/content/details/allData/466/N07_AVH13C1/1981/210', 'size': 0}\n"
     ]
    },
    {
     "name": "stderr",
     "output_type": "stream",
     "text": [
      "File validation failed, queuing for download: /home/jovyan/ltdr_ndvi/raw/466/N07_AVH13C1/1981/210/N07_AVH13C1.A1981210.006.2022270205551.nc\n"
     ]
    },
    {
     "name": "stdout",
     "output_type": "stream",
     "text": [
      "{'downloadsLink': 'https://ladsweb.modaps.eosdis.nasa.gov/api/v2/content/archives/allData/466/N07_AVH13C1/1981/211', 'mtime': 1710527239, 'name': '211', 'resourceType': 'Directory', 'self': '/api/v2/content/details/allData/466/N07_AVH13C1/1981/211', 'size': 0}\n"
     ]
    },
    {
     "name": "stderr",
     "output_type": "stream",
     "text": [
      "File validation failed, queuing for download: /home/jovyan/ltdr_ndvi/raw/466/N07_AVH13C1/1981/211/N07_AVH13C1.A1981211.006.2022270192552.nc\n"
     ]
    },
    {
     "name": "stdout",
     "output_type": "stream",
     "text": [
      "{'downloadsLink': 'https://ladsweb.modaps.eosdis.nasa.gov/api/v2/content/archives/allData/466/N07_AVH13C1/1981/212', 'mtime': 1710527239, 'name': '212', 'resourceType': 'Directory', 'self': '/api/v2/content/details/allData/466/N07_AVH13C1/1981/212', 'size': 0}\n"
     ]
    },
    {
     "name": "stderr",
     "output_type": "stream",
     "text": [
      "File validation failed, queuing for download: /home/jovyan/ltdr_ndvi/raw/466/N07_AVH13C1/1981/212/N07_AVH13C1.A1981212.006.2022270202440.nc\n"
     ]
    },
    {
     "name": "stdout",
     "output_type": "stream",
     "text": [
      "{'downloadsLink': 'https://ladsweb.modaps.eosdis.nasa.gov/api/v2/content/archives/allData/466/N07_AVH13C1/1981/213', 'mtime': 1710527239, 'name': '213', 'resourceType': 'Directory', 'self': '/api/v2/content/details/allData/466/N07_AVH13C1/1981/213', 'size': 0}\n"
     ]
    },
    {
     "name": "stderr",
     "output_type": "stream",
     "text": [
      "File validation failed, queuing for download: /home/jovyan/ltdr_ndvi/raw/466/N07_AVH13C1/1981/213/N07_AVH13C1.A1981213.006.2022270201809.nc\n"
     ]
    },
    {
     "name": "stdout",
     "output_type": "stream",
     "text": [
      "{'downloadsLink': 'https://ladsweb.modaps.eosdis.nasa.gov/api/v2/content/archives/allData/466/N07_AVH13C1/1981/214', 'mtime': 1710527239, 'name': '214', 'resourceType': 'Directory', 'self': '/api/v2/content/details/allData/466/N07_AVH13C1/1981/214', 'size': 0}\n"
     ]
    },
    {
     "name": "stderr",
     "output_type": "stream",
     "text": [
      "File validation failed, queuing for download: /home/jovyan/ltdr_ndvi/raw/466/N07_AVH13C1/1981/214/N07_AVH13C1.A1981214.006.2022270204650.nc\n"
     ]
    },
    {
     "name": "stdout",
     "output_type": "stream",
     "text": [
      "{'downloadsLink': 'https://ladsweb.modaps.eosdis.nasa.gov/api/v2/content/archives/allData/466/N07_AVH13C1/1981/215', 'mtime': 1710527239, 'name': '215', 'resourceType': 'Directory', 'self': '/api/v2/content/details/allData/466/N07_AVH13C1/1981/215', 'size': 0}\n"
     ]
    },
    {
     "name": "stderr",
     "output_type": "stream",
     "text": [
      "File validation failed, queuing for download: /home/jovyan/ltdr_ndvi/raw/466/N07_AVH13C1/1981/215/N07_AVH13C1.A1981215.006.2022270201812.nc\n"
     ]
    },
    {
     "name": "stdout",
     "output_type": "stream",
     "text": [
      "{'downloadsLink': 'https://ladsweb.modaps.eosdis.nasa.gov/api/v2/content/archives/allData/466/N07_AVH13C1/1981/216', 'mtime': 1710527239, 'name': '216', 'resourceType': 'Directory', 'self': '/api/v2/content/details/allData/466/N07_AVH13C1/1981/216', 'size': 0}\n"
     ]
    },
    {
     "name": "stderr",
     "output_type": "stream",
     "text": [
      "File validation failed, queuing for download: /home/jovyan/ltdr_ndvi/raw/466/N07_AVH13C1/1981/216/N07_AVH13C1.A1981216.006.2022270202655.nc\n"
     ]
    },
    {
     "name": "stdout",
     "output_type": "stream",
     "text": [
      "{'downloadsLink': 'https://ladsweb.modaps.eosdis.nasa.gov/api/v2/content/archives/allData/466/N07_AVH13C1/1981/217', 'mtime': 1710527239, 'name': '217', 'resourceType': 'Directory', 'self': '/api/v2/content/details/allData/466/N07_AVH13C1/1981/217', 'size': 0}\n"
     ]
    },
    {
     "name": "stderr",
     "output_type": "stream",
     "text": [
      "File validation failed, queuing for download: /home/jovyan/ltdr_ndvi/raw/466/N07_AVH13C1/1981/217/N07_AVH13C1.A1981217.006.2022270212442.nc\n"
     ]
    },
    {
     "name": "stdout",
     "output_type": "stream",
     "text": [
      "{'downloadsLink': 'https://ladsweb.modaps.eosdis.nasa.gov/api/v2/content/archives/allData/466/N07_AVH13C1/1981/218', 'mtime': 1710527239, 'name': '218', 'resourceType': 'Directory', 'self': '/api/v2/content/details/allData/466/N07_AVH13C1/1981/218', 'size': 0}\n"
     ]
    },
    {
     "name": "stderr",
     "output_type": "stream",
     "text": [
      "File validation failed, queuing for download: /home/jovyan/ltdr_ndvi/raw/466/N07_AVH13C1/1981/218/N07_AVH13C1.A1981218.006.2022270203617.nc\n"
     ]
    },
    {
     "name": "stdout",
     "output_type": "stream",
     "text": [
      "{'downloadsLink': 'https://ladsweb.modaps.eosdis.nasa.gov/api/v2/content/archives/allData/466/N07_AVH13C1/1981/219', 'mtime': 1710527239, 'name': '219', 'resourceType': 'Directory', 'self': '/api/v2/content/details/allData/466/N07_AVH13C1/1981/219', 'size': 0}\n"
     ]
    },
    {
     "name": "stderr",
     "output_type": "stream",
     "text": [
      "File validation failed, queuing for download: /home/jovyan/ltdr_ndvi/raw/466/N07_AVH13C1/1981/219/N07_AVH13C1.A1981219.006.2022270203712.nc\n"
     ]
    },
    {
     "name": "stdout",
     "output_type": "stream",
     "text": [
      "{'downloadsLink': 'https://ladsweb.modaps.eosdis.nasa.gov/api/v2/content/archives/allData/466/N07_AVH13C1/1981/220', 'mtime': 1710527239, 'name': '220', 'resourceType': 'Directory', 'self': '/api/v2/content/details/allData/466/N07_AVH13C1/1981/220', 'size': 0}\n"
     ]
    },
    {
     "name": "stderr",
     "output_type": "stream",
     "text": [
      "File validation failed, queuing for download: /home/jovyan/ltdr_ndvi/raw/466/N07_AVH13C1/1981/220/N07_AVH13C1.A1981220.006.2022270204004.nc\n"
     ]
    },
    {
     "name": "stdout",
     "output_type": "stream",
     "text": [
      "{'downloadsLink': 'https://ladsweb.modaps.eosdis.nasa.gov/api/v2/content/archives/allData/466/N07_AVH13C1/1981/221', 'mtime': 1710527239, 'name': '221', 'resourceType': 'Directory', 'self': '/api/v2/content/details/allData/466/N07_AVH13C1/1981/221', 'size': 0}\n"
     ]
    },
    {
     "name": "stderr",
     "output_type": "stream",
     "text": [
      "File validation failed, queuing for download: /home/jovyan/ltdr_ndvi/raw/466/N07_AVH13C1/1981/221/N07_AVH13C1.A1981221.006.2022270203922.nc\n"
     ]
    },
    {
     "name": "stdout",
     "output_type": "stream",
     "text": [
      "{'downloadsLink': 'https://ladsweb.modaps.eosdis.nasa.gov/api/v2/content/archives/allData/466/N07_AVH13C1/1981/222', 'mtime': 1710527239, 'name': '222', 'resourceType': 'Directory', 'self': '/api/v2/content/details/allData/466/N07_AVH13C1/1981/222', 'size': 0}\n"
     ]
    },
    {
     "name": "stderr",
     "output_type": "stream",
     "text": [
      "File validation failed, queuing for download: /home/jovyan/ltdr_ndvi/raw/466/N07_AVH13C1/1981/222/N07_AVH13C1.A1981222.006.2022270205155.nc\n"
     ]
    },
    {
     "name": "stdout",
     "output_type": "stream",
     "text": [
      "{'downloadsLink': 'https://ladsweb.modaps.eosdis.nasa.gov/api/v2/content/archives/allData/466/N07_AVH13C1/1981/223', 'mtime': 1710527239, 'name': '223', 'resourceType': 'Directory', 'self': '/api/v2/content/details/allData/466/N07_AVH13C1/1981/223', 'size': 0}\n"
     ]
    },
    {
     "name": "stderr",
     "output_type": "stream",
     "text": [
      "File validation failed, queuing for download: /home/jovyan/ltdr_ndvi/raw/466/N07_AVH13C1/1981/223/N07_AVH13C1.A1981223.006.2022270213627.nc\n"
     ]
    },
    {
     "name": "stdout",
     "output_type": "stream",
     "text": [
      "{'downloadsLink': 'https://ladsweb.modaps.eosdis.nasa.gov/api/v2/content/archives/allData/466/N07_AVH13C1/1981/224', 'mtime': 1710527239, 'name': '224', 'resourceType': 'Directory', 'self': '/api/v2/content/details/allData/466/N07_AVH13C1/1981/224', 'size': 0}\n"
     ]
    },
    {
     "name": "stderr",
     "output_type": "stream",
     "text": [
      "File validation failed, queuing for download: /home/jovyan/ltdr_ndvi/raw/466/N07_AVH13C1/1981/224/N07_AVH13C1.A1981224.006.2022270211219.nc\n"
     ]
    },
    {
     "name": "stdout",
     "output_type": "stream",
     "text": [
      "{'downloadsLink': 'https://ladsweb.modaps.eosdis.nasa.gov/api/v2/content/archives/allData/466/N07_AVH13C1/1981/225', 'mtime': 1710527239, 'name': '225', 'resourceType': 'Directory', 'self': '/api/v2/content/details/allData/466/N07_AVH13C1/1981/225', 'size': 0}\n"
     ]
    },
    {
     "name": "stderr",
     "output_type": "stream",
     "text": [
      "File validation failed, queuing for download: /home/jovyan/ltdr_ndvi/raw/466/N07_AVH13C1/1981/225/N07_AVH13C1.A1981225.006.2022270212053.nc\n"
     ]
    },
    {
     "name": "stdout",
     "output_type": "stream",
     "text": [
      "{'downloadsLink': 'https://ladsweb.modaps.eosdis.nasa.gov/api/v2/content/archives/allData/466/N07_AVH13C1/1981/226', 'mtime': 1710527239, 'name': '226', 'resourceType': 'Directory', 'self': '/api/v2/content/details/allData/466/N07_AVH13C1/1981/226', 'size': 0}\n"
     ]
    },
    {
     "name": "stderr",
     "output_type": "stream",
     "text": [
      "File validation failed, queuing for download: /home/jovyan/ltdr_ndvi/raw/466/N07_AVH13C1/1981/226/N07_AVH13C1.A1981226.006.2022270205300.nc\n"
     ]
    },
    {
     "name": "stdout",
     "output_type": "stream",
     "text": [
      "{'downloadsLink': 'https://ladsweb.modaps.eosdis.nasa.gov/api/v2/content/archives/allData/466/N07_AVH13C1/1981/227', 'mtime': 1710527239, 'name': '227', 'resourceType': 'Directory', 'self': '/api/v2/content/details/allData/466/N07_AVH13C1/1981/227', 'size': 0}\n"
     ]
    },
    {
     "name": "stderr",
     "output_type": "stream",
     "text": [
      "File validation failed, queuing for download: /home/jovyan/ltdr_ndvi/raw/466/N07_AVH13C1/1981/227/N07_AVH13C1.A1981227.006.2022270211123.nc\n"
     ]
    },
    {
     "name": "stdout",
     "output_type": "stream",
     "text": [
      "{'downloadsLink': 'https://ladsweb.modaps.eosdis.nasa.gov/api/v2/content/archives/allData/466/N07_AVH13C1/1981/228', 'mtime': 1710527239, 'name': '228', 'resourceType': 'Directory', 'self': '/api/v2/content/details/allData/466/N07_AVH13C1/1981/228', 'size': 0}\n"
     ]
    },
    {
     "name": "stderr",
     "output_type": "stream",
     "text": [
      "File validation failed, queuing for download: /home/jovyan/ltdr_ndvi/raw/466/N07_AVH13C1/1981/228/N07_AVH13C1.A1981228.006.2022270212147.nc\n"
     ]
    },
    {
     "name": "stdout",
     "output_type": "stream",
     "text": [
      "{'downloadsLink': 'https://ladsweb.modaps.eosdis.nasa.gov/api/v2/content/archives/allData/466/N07_AVH13C1/1981/229', 'mtime': 1710527239, 'name': '229', 'resourceType': 'Directory', 'self': '/api/v2/content/details/allData/466/N07_AVH13C1/1981/229', 'size': 0}\n"
     ]
    },
    {
     "name": "stderr",
     "output_type": "stream",
     "text": [
      "File validation failed, queuing for download: /home/jovyan/ltdr_ndvi/raw/466/N07_AVH13C1/1981/229/N07_AVH13C1.A1981229.006.2022270210406.nc\n"
     ]
    },
    {
     "name": "stdout",
     "output_type": "stream",
     "text": [
      "{'downloadsLink': 'https://ladsweb.modaps.eosdis.nasa.gov/api/v2/content/archives/allData/466/N07_AVH13C1/1981/230', 'mtime': 1710527239, 'name': '230', 'resourceType': 'Directory', 'self': '/api/v2/content/details/allData/466/N07_AVH13C1/1981/230', 'size': 0}\n"
     ]
    },
    {
     "name": "stderr",
     "output_type": "stream",
     "text": [
      "File validation failed, queuing for download: /home/jovyan/ltdr_ndvi/raw/466/N07_AVH13C1/1981/230/N07_AVH13C1.A1981230.006.2022270211747.nc\n"
     ]
    },
    {
     "name": "stdout",
     "output_type": "stream",
     "text": [
      "{'downloadsLink': 'https://ladsweb.modaps.eosdis.nasa.gov/api/v2/content/archives/allData/466/N07_AVH13C1/1981/231', 'mtime': 1710527239, 'name': '231', 'resourceType': 'Directory', 'self': '/api/v2/content/details/allData/466/N07_AVH13C1/1981/231', 'size': 0}\n"
     ]
    },
    {
     "name": "stderr",
     "output_type": "stream",
     "text": [
      "File validation failed, queuing for download: /home/jovyan/ltdr_ndvi/raw/466/N07_AVH13C1/1981/231/N07_AVH13C1.A1981231.006.2022270211951.nc\n"
     ]
    },
    {
     "name": "stdout",
     "output_type": "stream",
     "text": [
      "{'downloadsLink': 'https://ladsweb.modaps.eosdis.nasa.gov/api/v2/content/archives/allData/466/N07_AVH13C1/1981/232', 'mtime': 1710527239, 'name': '232', 'resourceType': 'Directory', 'self': '/api/v2/content/details/allData/466/N07_AVH13C1/1981/232', 'size': 0}\n"
     ]
    },
    {
     "name": "stderr",
     "output_type": "stream",
     "text": [
      "File validation failed, queuing for download: /home/jovyan/ltdr_ndvi/raw/466/N07_AVH13C1/1981/232/N07_AVH13C1.A1981232.006.2022270223610.nc\n"
     ]
    },
    {
     "name": "stdout",
     "output_type": "stream",
     "text": [
      "{'downloadsLink': 'https://ladsweb.modaps.eosdis.nasa.gov/api/v2/content/archives/allData/466/N07_AVH13C1/1981/233', 'mtime': 1710527239, 'name': '233', 'resourceType': 'Directory', 'self': '/api/v2/content/details/allData/466/N07_AVH13C1/1981/233', 'size': 0}\n"
     ]
    },
    {
     "name": "stderr",
     "output_type": "stream",
     "text": [
      "File validation failed, queuing for download: /home/jovyan/ltdr_ndvi/raw/466/N07_AVH13C1/1981/233/N07_AVH13C1.A1981233.006.2022270212957.nc\n"
     ]
    },
    {
     "name": "stdout",
     "output_type": "stream",
     "text": [
      "{'downloadsLink': 'https://ladsweb.modaps.eosdis.nasa.gov/api/v2/content/archives/allData/466/N07_AVH13C1/1981/234', 'mtime': 1710527239, 'name': '234', 'resourceType': 'Directory', 'self': '/api/v2/content/details/allData/466/N07_AVH13C1/1981/234', 'size': 0}\n"
     ]
    },
    {
     "name": "stderr",
     "output_type": "stream",
     "text": [
      "File validation failed, queuing for download: /home/jovyan/ltdr_ndvi/raw/466/N07_AVH13C1/1981/234/N07_AVH13C1.A1981234.006.2022270223015.nc\n"
     ]
    },
    {
     "name": "stdout",
     "output_type": "stream",
     "text": [
      "{'downloadsLink': 'https://ladsweb.modaps.eosdis.nasa.gov/api/v2/content/archives/allData/466/N07_AVH13C1/1981/235', 'mtime': 1710527239, 'name': '235', 'resourceType': 'Directory', 'self': '/api/v2/content/details/allData/466/N07_AVH13C1/1981/235', 'size': 0}\n"
     ]
    },
    {
     "name": "stderr",
     "output_type": "stream",
     "text": [
      "File validation failed, queuing for download: /home/jovyan/ltdr_ndvi/raw/466/N07_AVH13C1/1981/235/N07_AVH13C1.A1981235.006.2022270225108.nc\n"
     ]
    },
    {
     "name": "stdout",
     "output_type": "stream",
     "text": [
      "{'downloadsLink': 'https://ladsweb.modaps.eosdis.nasa.gov/api/v2/content/archives/allData/466/N07_AVH13C1/1981/236', 'mtime': 1710527239, 'name': '236', 'resourceType': 'Directory', 'self': '/api/v2/content/details/allData/466/N07_AVH13C1/1981/236', 'size': 0}\n"
     ]
    },
    {
     "name": "stderr",
     "output_type": "stream",
     "text": [
      "File validation failed, queuing for download: /home/jovyan/ltdr_ndvi/raw/466/N07_AVH13C1/1981/236/N07_AVH13C1.A1981236.006.2022270213536.nc\n"
     ]
    },
    {
     "name": "stdout",
     "output_type": "stream",
     "text": [
      "{'downloadsLink': 'https://ladsweb.modaps.eosdis.nasa.gov/api/v2/content/archives/allData/466/N07_AVH13C1/1981/237', 'mtime': 1710527239, 'name': '237', 'resourceType': 'Directory', 'self': '/api/v2/content/details/allData/466/N07_AVH13C1/1981/237', 'size': 0}\n"
     ]
    },
    {
     "name": "stderr",
     "output_type": "stream",
     "text": [
      "File validation failed, queuing for download: /home/jovyan/ltdr_ndvi/raw/466/N07_AVH13C1/1981/237/N07_AVH13C1.A1981237.006.2022270225330.nc\n"
     ]
    },
    {
     "name": "stdout",
     "output_type": "stream",
     "text": [
      "{'downloadsLink': 'https://ladsweb.modaps.eosdis.nasa.gov/api/v2/content/archives/allData/466/N07_AVH13C1/1981/238', 'mtime': 1710527239, 'name': '238', 'resourceType': 'Directory', 'self': '/api/v2/content/details/allData/466/N07_AVH13C1/1981/238', 'size': 0}\n"
     ]
    },
    {
     "name": "stderr",
     "output_type": "stream",
     "text": [
      "File validation failed, queuing for download: /home/jovyan/ltdr_ndvi/raw/466/N07_AVH13C1/1981/238/N07_AVH13C1.A1981238.006.2022270213810.nc\n"
     ]
    },
    {
     "name": "stdout",
     "output_type": "stream",
     "text": [
      "{'downloadsLink': 'https://ladsweb.modaps.eosdis.nasa.gov/api/v2/content/archives/allData/466/N07_AVH13C1/1981/239', 'mtime': 1710527239, 'name': '239', 'resourceType': 'Directory', 'self': '/api/v2/content/details/allData/466/N07_AVH13C1/1981/239', 'size': 0}\n"
     ]
    },
    {
     "name": "stderr",
     "output_type": "stream",
     "text": [
      "File validation failed, queuing for download: /home/jovyan/ltdr_ndvi/raw/466/N07_AVH13C1/1981/239/N07_AVH13C1.A1981239.006.2022270215512.nc\n"
     ]
    },
    {
     "name": "stdout",
     "output_type": "stream",
     "text": [
      "{'downloadsLink': 'https://ladsweb.modaps.eosdis.nasa.gov/api/v2/content/archives/allData/466/N07_AVH13C1/1981/240', 'mtime': 1710527239, 'name': '240', 'resourceType': 'Directory', 'self': '/api/v2/content/details/allData/466/N07_AVH13C1/1981/240', 'size': 0}\n"
     ]
    },
    {
     "name": "stderr",
     "output_type": "stream",
     "text": [
      "File validation failed, queuing for download: /home/jovyan/ltdr_ndvi/raw/466/N07_AVH13C1/1981/240/N07_AVH13C1.A1981240.006.2022270230210.nc\n"
     ]
    },
    {
     "name": "stdout",
     "output_type": "stream",
     "text": [
      "{'downloadsLink': 'https://ladsweb.modaps.eosdis.nasa.gov/api/v2/content/archives/allData/466/N07_AVH13C1/1981/241', 'mtime': 1710527239, 'name': '241', 'resourceType': 'Directory', 'self': '/api/v2/content/details/allData/466/N07_AVH13C1/1981/241', 'size': 0}\n"
     ]
    },
    {
     "name": "stderr",
     "output_type": "stream",
     "text": [
      "File validation failed, queuing for download: /home/jovyan/ltdr_ndvi/raw/466/N07_AVH13C1/1981/241/N07_AVH13C1.A1981241.006.2022270224010.nc\n"
     ]
    },
    {
     "name": "stdout",
     "output_type": "stream",
     "text": [
      "{'downloadsLink': 'https://ladsweb.modaps.eosdis.nasa.gov/api/v2/content/archives/allData/466/N07_AVH13C1/1981/242', 'mtime': 1710527239, 'name': '242', 'resourceType': 'Directory', 'self': '/api/v2/content/details/allData/466/N07_AVH13C1/1981/242', 'size': 0}\n"
     ]
    },
    {
     "name": "stderr",
     "output_type": "stream",
     "text": [
      "File validation failed, queuing for download: /home/jovyan/ltdr_ndvi/raw/466/N07_AVH13C1/1981/242/N07_AVH13C1.A1981242.006.2022270215151.nc\n"
     ]
    },
    {
     "name": "stdout",
     "output_type": "stream",
     "text": [
      "{'downloadsLink': 'https://ladsweb.modaps.eosdis.nasa.gov/api/v2/content/archives/allData/466/N07_AVH13C1/1981/243', 'mtime': 1710527239, 'name': '243', 'resourceType': 'Directory', 'self': '/api/v2/content/details/allData/466/N07_AVH13C1/1981/243', 'size': 0}\n"
     ]
    },
    {
     "name": "stderr",
     "output_type": "stream",
     "text": [
      "File validation failed, queuing for download: /home/jovyan/ltdr_ndvi/raw/466/N07_AVH13C1/1981/243/N07_AVH13C1.A1981243.006.2022270220554.nc\n"
     ]
    },
    {
     "name": "stdout",
     "output_type": "stream",
     "text": [
      "{'downloadsLink': 'https://ladsweb.modaps.eosdis.nasa.gov/api/v2/content/archives/allData/466/N07_AVH13C1/1981/244', 'mtime': 1710527239, 'name': '244', 'resourceType': 'Directory', 'self': '/api/v2/content/details/allData/466/N07_AVH13C1/1981/244', 'size': 0}\n"
     ]
    },
    {
     "name": "stderr",
     "output_type": "stream",
     "text": [
      "File validation failed, queuing for download: /home/jovyan/ltdr_ndvi/raw/466/N07_AVH13C1/1981/244/N07_AVH13C1.A1981244.006.2022270230847.nc\n"
     ]
    },
    {
     "name": "stdout",
     "output_type": "stream",
     "text": [
      "{'downloadsLink': 'https://ladsweb.modaps.eosdis.nasa.gov/api/v2/content/archives/allData/466/N07_AVH13C1/1981/245', 'mtime': 1710527239, 'name': '245', 'resourceType': 'Directory', 'self': '/api/v2/content/details/allData/466/N07_AVH13C1/1981/245', 'size': 0}\n"
     ]
    },
    {
     "name": "stderr",
     "output_type": "stream",
     "text": [
      "File validation failed, queuing for download: /home/jovyan/ltdr_ndvi/raw/466/N07_AVH13C1/1981/245/N07_AVH13C1.A1981245.006.2022270225444.nc\n"
     ]
    },
    {
     "name": "stdout",
     "output_type": "stream",
     "text": [
      "{'downloadsLink': 'https://ladsweb.modaps.eosdis.nasa.gov/api/v2/content/archives/allData/466/N07_AVH13C1/1981/246', 'mtime': 1710527239, 'name': '246', 'resourceType': 'Directory', 'self': '/api/v2/content/details/allData/466/N07_AVH13C1/1981/246', 'size': 0}\n"
     ]
    },
    {
     "name": "stderr",
     "output_type": "stream",
     "text": [
      "File validation failed, queuing for download: /home/jovyan/ltdr_ndvi/raw/466/N07_AVH13C1/1981/246/N07_AVH13C1.A1981246.006.2022270224905.nc\n"
     ]
    },
    {
     "name": "stdout",
     "output_type": "stream",
     "text": [
      "{'downloadsLink': 'https://ladsweb.modaps.eosdis.nasa.gov/api/v2/content/archives/allData/466/N07_AVH13C1/1981/247', 'mtime': 1710527239, 'name': '247', 'resourceType': 'Directory', 'self': '/api/v2/content/details/allData/466/N07_AVH13C1/1981/247', 'size': 0}\n"
     ]
    },
    {
     "name": "stderr",
     "output_type": "stream",
     "text": [
      "File validation failed, queuing for download: /home/jovyan/ltdr_ndvi/raw/466/N07_AVH13C1/1981/247/N07_AVH13C1.A1981247.006.2022270230910.nc\n"
     ]
    },
    {
     "name": "stdout",
     "output_type": "stream",
     "text": [
      "{'downloadsLink': 'https://ladsweb.modaps.eosdis.nasa.gov/api/v2/content/archives/allData/466/N07_AVH13C1/1981/248', 'mtime': 1710527239, 'name': '248', 'resourceType': 'Directory', 'self': '/api/v2/content/details/allData/466/N07_AVH13C1/1981/248', 'size': 0}\n"
     ]
    },
    {
     "name": "stderr",
     "output_type": "stream",
     "text": [
      "File validation failed, queuing for download: /home/jovyan/ltdr_ndvi/raw/466/N07_AVH13C1/1981/248/N07_AVH13C1.A1981248.006.2022270230020.nc\n"
     ]
    },
    {
     "name": "stdout",
     "output_type": "stream",
     "text": [
      "{'downloadsLink': 'https://ladsweb.modaps.eosdis.nasa.gov/api/v2/content/archives/allData/466/N07_AVH13C1/1981/249', 'mtime': 1710527239, 'name': '249', 'resourceType': 'Directory', 'self': '/api/v2/content/details/allData/466/N07_AVH13C1/1981/249', 'size': 0}\n"
     ]
    },
    {
     "name": "stderr",
     "output_type": "stream",
     "text": [
      "File validation failed, queuing for download: /home/jovyan/ltdr_ndvi/raw/466/N07_AVH13C1/1981/249/N07_AVH13C1.A1981249.006.2022270230641.nc\n"
     ]
    },
    {
     "name": "stdout",
     "output_type": "stream",
     "text": [
      "{'downloadsLink': 'https://ladsweb.modaps.eosdis.nasa.gov/api/v2/content/archives/allData/466/N07_AVH13C1/1981/250', 'mtime': 1710527239, 'name': '250', 'resourceType': 'Directory', 'self': '/api/v2/content/details/allData/466/N07_AVH13C1/1981/250', 'size': 0}\n"
     ]
    },
    {
     "name": "stderr",
     "output_type": "stream",
     "text": [
      "File validation failed, queuing for download: /home/jovyan/ltdr_ndvi/raw/466/N07_AVH13C1/1981/250/N07_AVH13C1.A1981250.006.2022270231233.nc\n"
     ]
    },
    {
     "name": "stdout",
     "output_type": "stream",
     "text": [
      "{'downloadsLink': 'https://ladsweb.modaps.eosdis.nasa.gov/api/v2/content/archives/allData/466/N07_AVH13C1/1981/251', 'mtime': 1710527239, 'name': '251', 'resourceType': 'Directory', 'self': '/api/v2/content/details/allData/466/N07_AVH13C1/1981/251', 'size': 0}\n"
     ]
    },
    {
     "name": "stderr",
     "output_type": "stream",
     "text": [
      "File validation failed, queuing for download: /home/jovyan/ltdr_ndvi/raw/466/N07_AVH13C1/1981/251/N07_AVH13C1.A1981251.006.2022270231349.nc\n"
     ]
    },
    {
     "name": "stdout",
     "output_type": "stream",
     "text": [
      "{'downloadsLink': 'https://ladsweb.modaps.eosdis.nasa.gov/api/v2/content/archives/allData/466/N07_AVH13C1/1981/252', 'mtime': 1710527239, 'name': '252', 'resourceType': 'Directory', 'self': '/api/v2/content/details/allData/466/N07_AVH13C1/1981/252', 'size': 0}\n"
     ]
    },
    {
     "name": "stderr",
     "output_type": "stream",
     "text": [
      "File validation failed, queuing for download: /home/jovyan/ltdr_ndvi/raw/466/N07_AVH13C1/1981/252/N07_AVH13C1.A1981252.006.2022270231349.nc\n"
     ]
    },
    {
     "name": "stdout",
     "output_type": "stream",
     "text": [
      "{'downloadsLink': 'https://ladsweb.modaps.eosdis.nasa.gov/api/v2/content/archives/allData/466/N07_AVH13C1/1981/253', 'mtime': 1710527239, 'name': '253', 'resourceType': 'Directory', 'self': '/api/v2/content/details/allData/466/N07_AVH13C1/1981/253', 'size': 0}\n"
     ]
    },
    {
     "name": "stderr",
     "output_type": "stream",
     "text": [
      "File validation failed, queuing for download: /home/jovyan/ltdr_ndvi/raw/466/N07_AVH13C1/1981/253/N07_AVH13C1.A1981253.006.2022270231316.nc\n"
     ]
    },
    {
     "name": "stdout",
     "output_type": "stream",
     "text": [
      "{'downloadsLink': 'https://ladsweb.modaps.eosdis.nasa.gov/api/v2/content/archives/allData/466/N07_AVH13C1/1981/254', 'mtime': 1710527239, 'name': '254', 'resourceType': 'Directory', 'self': '/api/v2/content/details/allData/466/N07_AVH13C1/1981/254', 'size': 0}\n"
     ]
    },
    {
     "name": "stderr",
     "output_type": "stream",
     "text": [
      "File validation failed, queuing for download: /home/jovyan/ltdr_ndvi/raw/466/N07_AVH13C1/1981/254/N07_AVH13C1.A1981254.006.2022270231458.nc\n"
     ]
    },
    {
     "name": "stdout",
     "output_type": "stream",
     "text": [
      "{'downloadsLink': 'https://ladsweb.modaps.eosdis.nasa.gov/api/v2/content/archives/allData/466/N07_AVH13C1/1981/255', 'mtime': 1710527239, 'name': '255', 'resourceType': 'Directory', 'self': '/api/v2/content/details/allData/466/N07_AVH13C1/1981/255', 'size': 0}\n"
     ]
    },
    {
     "name": "stderr",
     "output_type": "stream",
     "text": [
      "File validation failed, queuing for download: /home/jovyan/ltdr_ndvi/raw/466/N07_AVH13C1/1981/255/N07_AVH13C1.A1981255.006.2022270232240.nc\n"
     ]
    },
    {
     "name": "stdout",
     "output_type": "stream",
     "text": [
      "{'downloadsLink': 'https://ladsweb.modaps.eosdis.nasa.gov/api/v2/content/archives/allData/466/N07_AVH13C1/1981/256', 'mtime': 1710527239, 'name': '256', 'resourceType': 'Directory', 'self': '/api/v2/content/details/allData/466/N07_AVH13C1/1981/256', 'size': 0}\n"
     ]
    },
    {
     "name": "stderr",
     "output_type": "stream",
     "text": [
      "File validation failed, queuing for download: /home/jovyan/ltdr_ndvi/raw/466/N07_AVH13C1/1981/256/N07_AVH13C1.A1981256.006.2022270232732.nc\n"
     ]
    },
    {
     "name": "stdout",
     "output_type": "stream",
     "text": [
      "{'downloadsLink': 'https://ladsweb.modaps.eosdis.nasa.gov/api/v2/content/archives/allData/466/N07_AVH13C1/1981/257', 'mtime': 1710527239, 'name': '257', 'resourceType': 'Directory', 'self': '/api/v2/content/details/allData/466/N07_AVH13C1/1981/257', 'size': 0}\n"
     ]
    },
    {
     "name": "stderr",
     "output_type": "stream",
     "text": [
      "File validation failed, queuing for download: /home/jovyan/ltdr_ndvi/raw/466/N07_AVH13C1/1981/257/N07_AVH13C1.A1981257.006.2022271000836.nc\n"
     ]
    },
    {
     "name": "stdout",
     "output_type": "stream",
     "text": [
      "{'downloadsLink': 'https://ladsweb.modaps.eosdis.nasa.gov/api/v2/content/archives/allData/466/N07_AVH13C1/1981/258', 'mtime': 1710527239, 'name': '258', 'resourceType': 'Directory', 'self': '/api/v2/content/details/allData/466/N07_AVH13C1/1981/258', 'size': 0}\n"
     ]
    },
    {
     "name": "stderr",
     "output_type": "stream",
     "text": [
      "File validation failed, queuing for download: /home/jovyan/ltdr_ndvi/raw/466/N07_AVH13C1/1981/258/N07_AVH13C1.A1981258.006.2022270232629.nc\n"
     ]
    },
    {
     "name": "stdout",
     "output_type": "stream",
     "text": [
      "{'downloadsLink': 'https://ladsweb.modaps.eosdis.nasa.gov/api/v2/content/archives/allData/466/N07_AVH13C1/1981/259', 'mtime': 1710527239, 'name': '259', 'resourceType': 'Directory', 'self': '/api/v2/content/details/allData/466/N07_AVH13C1/1981/259', 'size': 0}\n"
     ]
    },
    {
     "name": "stderr",
     "output_type": "stream",
     "text": [
      "File validation failed, queuing for download: /home/jovyan/ltdr_ndvi/raw/466/N07_AVH13C1/1981/259/N07_AVH13C1.A1981259.006.2022271004855.nc\n"
     ]
    },
    {
     "name": "stdout",
     "output_type": "stream",
     "text": [
      "{'downloadsLink': 'https://ladsweb.modaps.eosdis.nasa.gov/api/v2/content/archives/allData/466/N07_AVH13C1/1981/260', 'mtime': 1710527239, 'name': '260', 'resourceType': 'Directory', 'self': '/api/v2/content/details/allData/466/N07_AVH13C1/1981/260', 'size': 0}\n"
     ]
    },
    {
     "name": "stderr",
     "output_type": "stream",
     "text": [
      "File validation failed, queuing for download: /home/jovyan/ltdr_ndvi/raw/466/N07_AVH13C1/1981/260/N07_AVH13C1.A1981260.006.2022270233017.nc\n"
     ]
    },
    {
     "name": "stdout",
     "output_type": "stream",
     "text": [
      "{'downloadsLink': 'https://ladsweb.modaps.eosdis.nasa.gov/api/v2/content/archives/allData/466/N07_AVH13C1/1981/261', 'mtime': 1710527239, 'name': '261', 'resourceType': 'Directory', 'self': '/api/v2/content/details/allData/466/N07_AVH13C1/1981/261', 'size': 0}\n"
     ]
    },
    {
     "name": "stderr",
     "output_type": "stream",
     "text": [
      "File validation failed, queuing for download: /home/jovyan/ltdr_ndvi/raw/466/N07_AVH13C1/1981/261/N07_AVH13C1.A1981261.006.2022271001730.nc\n"
     ]
    },
    {
     "name": "stdout",
     "output_type": "stream",
     "text": [
      "{'downloadsLink': 'https://ladsweb.modaps.eosdis.nasa.gov/api/v2/content/archives/allData/466/N07_AVH13C1/1981/262', 'mtime': 1710527239, 'name': '262', 'resourceType': 'Directory', 'self': '/api/v2/content/details/allData/466/N07_AVH13C1/1981/262', 'size': 0}\n"
     ]
    },
    {
     "name": "stderr",
     "output_type": "stream",
     "text": [
      "File validation failed, queuing for download: /home/jovyan/ltdr_ndvi/raw/466/N07_AVH13C1/1981/262/N07_AVH13C1.A1981262.006.2022271005147.nc\n"
     ]
    },
    {
     "name": "stdout",
     "output_type": "stream",
     "text": [
      "{'downloadsLink': 'https://ladsweb.modaps.eosdis.nasa.gov/api/v2/content/archives/allData/466/N07_AVH13C1/1981/263', 'mtime': 1710527239, 'name': '263', 'resourceType': 'Directory', 'self': '/api/v2/content/details/allData/466/N07_AVH13C1/1981/263', 'size': 0}\n"
     ]
    },
    {
     "name": "stderr",
     "output_type": "stream",
     "text": [
      "File validation failed, queuing for download: /home/jovyan/ltdr_ndvi/raw/466/N07_AVH13C1/1981/263/N07_AVH13C1.A1981263.006.2022270233603.nc\n"
     ]
    },
    {
     "name": "stdout",
     "output_type": "stream",
     "text": [
      "{'downloadsLink': 'https://ladsweb.modaps.eosdis.nasa.gov/api/v2/content/archives/allData/466/N07_AVH13C1/1981/264', 'mtime': 1710527239, 'name': '264', 'resourceType': 'Directory', 'self': '/api/v2/content/details/allData/466/N07_AVH13C1/1981/264', 'size': 0}\n"
     ]
    },
    {
     "name": "stderr",
     "output_type": "stream",
     "text": [
      "File validation failed, queuing for download: /home/jovyan/ltdr_ndvi/raw/466/N07_AVH13C1/1981/264/N07_AVH13C1.A1981264.006.2022271002213.nc\n"
     ]
    },
    {
     "name": "stdout",
     "output_type": "stream",
     "text": [
      "{'downloadsLink': 'https://ladsweb.modaps.eosdis.nasa.gov/api/v2/content/archives/allData/466/N07_AVH13C1/1981/265', 'mtime': 1710527239, 'name': '265', 'resourceType': 'Directory', 'self': '/api/v2/content/details/allData/466/N07_AVH13C1/1981/265', 'size': 0}\n"
     ]
    },
    {
     "name": "stderr",
     "output_type": "stream",
     "text": [
      "File validation failed, queuing for download: /home/jovyan/ltdr_ndvi/raw/466/N07_AVH13C1/1981/265/N07_AVH13C1.A1981265.006.2022271001551.nc\n"
     ]
    },
    {
     "name": "stdout",
     "output_type": "stream",
     "text": [
      "{'downloadsLink': 'https://ladsweb.modaps.eosdis.nasa.gov/api/v2/content/archives/allData/466/N07_AVH13C1/1981/266', 'mtime': 1710527239, 'name': '266', 'resourceType': 'Directory', 'self': '/api/v2/content/details/allData/466/N07_AVH13C1/1981/266', 'size': 0}\n"
     ]
    },
    {
     "name": "stderr",
     "output_type": "stream",
     "text": [
      "File validation failed, queuing for download: /home/jovyan/ltdr_ndvi/raw/466/N07_AVH13C1/1981/266/N07_AVH13C1.A1981266.006.2022271001453.nc\n"
     ]
    },
    {
     "name": "stdout",
     "output_type": "stream",
     "text": [
      "{'downloadsLink': 'https://ladsweb.modaps.eosdis.nasa.gov/api/v2/content/archives/allData/466/N07_AVH13C1/1981/267', 'mtime': 1710527239, 'name': '267', 'resourceType': 'Directory', 'self': '/api/v2/content/details/allData/466/N07_AVH13C1/1981/267', 'size': 0}\n"
     ]
    },
    {
     "name": "stderr",
     "output_type": "stream",
     "text": [
      "File validation failed, queuing for download: /home/jovyan/ltdr_ndvi/raw/466/N07_AVH13C1/1981/267/N07_AVH13C1.A1981267.006.2022271004836.nc\n"
     ]
    },
    {
     "name": "stdout",
     "output_type": "stream",
     "text": [
      "{'downloadsLink': 'https://ladsweb.modaps.eosdis.nasa.gov/api/v2/content/archives/allData/466/N07_AVH13C1/1981/268', 'mtime': 1710527239, 'name': '268', 'resourceType': 'Directory', 'self': '/api/v2/content/details/allData/466/N07_AVH13C1/1981/268', 'size': 0}\n"
     ]
    },
    {
     "name": "stderr",
     "output_type": "stream",
     "text": [
      "File validation failed, queuing for download: /home/jovyan/ltdr_ndvi/raw/466/N07_AVH13C1/1981/268/N07_AVH13C1.A1981268.006.2022271003400.nc\n"
     ]
    },
    {
     "name": "stdout",
     "output_type": "stream",
     "text": [
      "{'downloadsLink': 'https://ladsweb.modaps.eosdis.nasa.gov/api/v2/content/archives/allData/466/N07_AVH13C1/1981/269', 'mtime': 1710527239, 'name': '269', 'resourceType': 'Directory', 'self': '/api/v2/content/details/allData/466/N07_AVH13C1/1981/269', 'size': 0}\n"
     ]
    },
    {
     "name": "stderr",
     "output_type": "stream",
     "text": [
      "File validation failed, queuing for download: /home/jovyan/ltdr_ndvi/raw/466/N07_AVH13C1/1981/269/N07_AVH13C1.A1981269.006.2022271004420.nc\n"
     ]
    },
    {
     "name": "stdout",
     "output_type": "stream",
     "text": [
      "{'downloadsLink': 'https://ladsweb.modaps.eosdis.nasa.gov/api/v2/content/archives/allData/466/N07_AVH13C1/1981/270', 'mtime': 1710527239, 'name': '270', 'resourceType': 'Directory', 'self': '/api/v2/content/details/allData/466/N07_AVH13C1/1981/270', 'size': 0}\n"
     ]
    },
    {
     "name": "stderr",
     "output_type": "stream",
     "text": [
      "File validation failed, queuing for download: /home/jovyan/ltdr_ndvi/raw/466/N07_AVH13C1/1981/270/N07_AVH13C1.A1981270.006.2022271003602.nc\n"
     ]
    },
    {
     "name": "stdout",
     "output_type": "stream",
     "text": [
      "{'downloadsLink': 'https://ladsweb.modaps.eosdis.nasa.gov/api/v2/content/archives/allData/466/N07_AVH13C1/1981/271', 'mtime': 1710527239, 'name': '271', 'resourceType': 'Directory', 'self': '/api/v2/content/details/allData/466/N07_AVH13C1/1981/271', 'size': 0}\n"
     ]
    },
    {
     "name": "stderr",
     "output_type": "stream",
     "text": [
      "File validation failed, queuing for download: /home/jovyan/ltdr_ndvi/raw/466/N07_AVH13C1/1981/271/N07_AVH13C1.A1981271.006.2022271011537.nc\n"
     ]
    },
    {
     "name": "stdout",
     "output_type": "stream",
     "text": [
      "{'downloadsLink': 'https://ladsweb.modaps.eosdis.nasa.gov/api/v2/content/archives/allData/466/N07_AVH13C1/1981/272', 'mtime': 1710527239, 'name': '272', 'resourceType': 'Directory', 'self': '/api/v2/content/details/allData/466/N07_AVH13C1/1981/272', 'size': 0}\n"
     ]
    },
    {
     "name": "stderr",
     "output_type": "stream",
     "text": [
      "File validation failed, queuing for download: /home/jovyan/ltdr_ndvi/raw/466/N07_AVH13C1/1981/272/N07_AVH13C1.A1981272.006.2022271011543.nc\n"
     ]
    },
    {
     "name": "stdout",
     "output_type": "stream",
     "text": [
      "{'downloadsLink': 'https://ladsweb.modaps.eosdis.nasa.gov/api/v2/content/archives/allData/466/N07_AVH13C1/1981/273', 'mtime': 1710527239, 'name': '273', 'resourceType': 'Directory', 'self': '/api/v2/content/details/allData/466/N07_AVH13C1/1981/273', 'size': 0}\n"
     ]
    },
    {
     "name": "stderr",
     "output_type": "stream",
     "text": [
      "File validation failed, queuing for download: /home/jovyan/ltdr_ndvi/raw/466/N07_AVH13C1/1981/273/N07_AVH13C1.A1981273.006.2022271015507.nc\n"
     ]
    },
    {
     "name": "stdout",
     "output_type": "stream",
     "text": [
      "{'downloadsLink': 'https://ladsweb.modaps.eosdis.nasa.gov/api/v2/content/archives/allData/466/N07_AVH13C1/1981/274', 'mtime': 1710527239, 'name': '274', 'resourceType': 'Directory', 'self': '/api/v2/content/details/allData/466/N07_AVH13C1/1981/274', 'size': 0}\n"
     ]
    },
    {
     "name": "stderr",
     "output_type": "stream",
     "text": [
      "File validation failed, queuing for download: /home/jovyan/ltdr_ndvi/raw/466/N07_AVH13C1/1981/274/N07_AVH13C1.A1981274.006.2022271013729.nc\n"
     ]
    },
    {
     "name": "stdout",
     "output_type": "stream",
     "text": [
      "{'downloadsLink': 'https://ladsweb.modaps.eosdis.nasa.gov/api/v2/content/archives/allData/466/N07_AVH13C1/1981/275', 'mtime': 1710527239, 'name': '275', 'resourceType': 'Directory', 'self': '/api/v2/content/details/allData/466/N07_AVH13C1/1981/275', 'size': 0}\n"
     ]
    },
    {
     "name": "stderr",
     "output_type": "stream",
     "text": [
      "File validation failed, queuing for download: /home/jovyan/ltdr_ndvi/raw/466/N07_AVH13C1/1981/275/N07_AVH13C1.A1981275.006.2022271021427.nc\n"
     ]
    },
    {
     "name": "stdout",
     "output_type": "stream",
     "text": [
      "{'downloadsLink': 'https://ladsweb.modaps.eosdis.nasa.gov/api/v2/content/archives/allData/466/N07_AVH13C1/1981/276', 'mtime': 1710527239, 'name': '276', 'resourceType': 'Directory', 'self': '/api/v2/content/details/allData/466/N07_AVH13C1/1981/276', 'size': 0}\n"
     ]
    },
    {
     "name": "stderr",
     "output_type": "stream",
     "text": [
      "File validation failed, queuing for download: /home/jovyan/ltdr_ndvi/raw/466/N07_AVH13C1/1981/276/N07_AVH13C1.A1981276.006.2022271014555.nc\n"
     ]
    },
    {
     "name": "stdout",
     "output_type": "stream",
     "text": [
      "{'downloadsLink': 'https://ladsweb.modaps.eosdis.nasa.gov/api/v2/content/archives/allData/466/N07_AVH13C1/1981/277', 'mtime': 1710527239, 'name': '277', 'resourceType': 'Directory', 'self': '/api/v2/content/details/allData/466/N07_AVH13C1/1981/277', 'size': 0}\n"
     ]
    },
    {
     "name": "stderr",
     "output_type": "stream",
     "text": [
      "File validation failed, queuing for download: /home/jovyan/ltdr_ndvi/raw/466/N07_AVH13C1/1981/277/N07_AVH13C1.A1981277.006.2022271011418.nc\n"
     ]
    },
    {
     "name": "stdout",
     "output_type": "stream",
     "text": [
      "{'downloadsLink': 'https://ladsweb.modaps.eosdis.nasa.gov/api/v2/content/archives/allData/466/N07_AVH13C1/1981/278', 'mtime': 1710527239, 'name': '278', 'resourceType': 'Directory', 'self': '/api/v2/content/details/allData/466/N07_AVH13C1/1981/278', 'size': 0}\n"
     ]
    },
    {
     "name": "stderr",
     "output_type": "stream",
     "text": [
      "File validation failed, queuing for download: /home/jovyan/ltdr_ndvi/raw/466/N07_AVH13C1/1981/278/N07_AVH13C1.A1981278.006.2022271011817.nc\n"
     ]
    },
    {
     "name": "stdout",
     "output_type": "stream",
     "text": [
      "{'downloadsLink': 'https://ladsweb.modaps.eosdis.nasa.gov/api/v2/content/archives/allData/466/N07_AVH13C1/1981/279', 'mtime': 1710527239, 'name': '279', 'resourceType': 'Directory', 'self': '/api/v2/content/details/allData/466/N07_AVH13C1/1981/279', 'size': 0}\n"
     ]
    },
    {
     "name": "stderr",
     "output_type": "stream",
     "text": [
      "File validation failed, queuing for download: /home/jovyan/ltdr_ndvi/raw/466/N07_AVH13C1/1981/279/N07_AVH13C1.A1981279.006.2022271014715.nc\n"
     ]
    },
    {
     "name": "stdout",
     "output_type": "stream",
     "text": [
      "{'downloadsLink': 'https://ladsweb.modaps.eosdis.nasa.gov/api/v2/content/archives/allData/466/N07_AVH13C1/1981/280', 'mtime': 1710527239, 'name': '280', 'resourceType': 'Directory', 'self': '/api/v2/content/details/allData/466/N07_AVH13C1/1981/280', 'size': 0}\n"
     ]
    },
    {
     "name": "stderr",
     "output_type": "stream",
     "text": [
      "File validation failed, queuing for download: /home/jovyan/ltdr_ndvi/raw/466/N07_AVH13C1/1981/280/N07_AVH13C1.A1981280.006.2022271023238.nc\n"
     ]
    },
    {
     "name": "stdout",
     "output_type": "stream",
     "text": [
      "{'downloadsLink': 'https://ladsweb.modaps.eosdis.nasa.gov/api/v2/content/archives/allData/466/N07_AVH13C1/1981/281', 'mtime': 1710527239, 'name': '281', 'resourceType': 'Directory', 'self': '/api/v2/content/details/allData/466/N07_AVH13C1/1981/281', 'size': 0}\n"
     ]
    },
    {
     "name": "stderr",
     "output_type": "stream",
     "text": [
      "File validation failed, queuing for download: /home/jovyan/ltdr_ndvi/raw/466/N07_AVH13C1/1981/281/N07_AVH13C1.A1981281.006.2022271014931.nc\n"
     ]
    },
    {
     "name": "stdout",
     "output_type": "stream",
     "text": [
      "{'downloadsLink': 'https://ladsweb.modaps.eosdis.nasa.gov/api/v2/content/archives/allData/466/N07_AVH13C1/1981/282', 'mtime': 1710527239, 'name': '282', 'resourceType': 'Directory', 'self': '/api/v2/content/details/allData/466/N07_AVH13C1/1981/282', 'size': 0}\n"
     ]
    },
    {
     "name": "stderr",
     "output_type": "stream",
     "text": [
      "File validation failed, queuing for download: /home/jovyan/ltdr_ndvi/raw/466/N07_AVH13C1/1981/282/N07_AVH13C1.A1981282.006.2022271014056.nc\n"
     ]
    },
    {
     "name": "stdout",
     "output_type": "stream",
     "text": [
      "{'downloadsLink': 'https://ladsweb.modaps.eosdis.nasa.gov/api/v2/content/archives/allData/466/N07_AVH13C1/1981/283', 'mtime': 1710527239, 'name': '283', 'resourceType': 'Directory', 'self': '/api/v2/content/details/allData/466/N07_AVH13C1/1981/283', 'size': 0}\n"
     ]
    },
    {
     "name": "stderr",
     "output_type": "stream",
     "text": [
      "File validation failed, queuing for download: /home/jovyan/ltdr_ndvi/raw/466/N07_AVH13C1/1981/283/N07_AVH13C1.A1981283.006.2022271023510.nc\n"
     ]
    },
    {
     "name": "stdout",
     "output_type": "stream",
     "text": [
      "{'downloadsLink': 'https://ladsweb.modaps.eosdis.nasa.gov/api/v2/content/archives/allData/466/N07_AVH13C1/1981/284', 'mtime': 1710527239, 'name': '284', 'resourceType': 'Directory', 'self': '/api/v2/content/details/allData/466/N07_AVH13C1/1981/284', 'size': 0}\n"
     ]
    },
    {
     "name": "stderr",
     "output_type": "stream",
     "text": [
      "File validation failed, queuing for download: /home/jovyan/ltdr_ndvi/raw/466/N07_AVH13C1/1981/284/N07_AVH13C1.A1981284.006.2022271024447.nc\n"
     ]
    },
    {
     "name": "stdout",
     "output_type": "stream",
     "text": [
      "{'downloadsLink': 'https://ladsweb.modaps.eosdis.nasa.gov/api/v2/content/archives/allData/466/N07_AVH13C1/1981/285', 'mtime': 1710527239, 'name': '285', 'resourceType': 'Directory', 'self': '/api/v2/content/details/allData/466/N07_AVH13C1/1981/285', 'size': 0}\n"
     ]
    },
    {
     "name": "stderr",
     "output_type": "stream",
     "text": [
      "File validation failed, queuing for download: /home/jovyan/ltdr_ndvi/raw/466/N07_AVH13C1/1981/285/N07_AVH13C1.A1981285.006.2022271020248.nc\n"
     ]
    },
    {
     "name": "stdout",
     "output_type": "stream",
     "text": [
      "{'downloadsLink': 'https://ladsweb.modaps.eosdis.nasa.gov/api/v2/content/archives/allData/466/N07_AVH13C1/1981/286', 'mtime': 1710527239, 'name': '286', 'resourceType': 'Directory', 'self': '/api/v2/content/details/allData/466/N07_AVH13C1/1981/286', 'size': 0}\n"
     ]
    },
    {
     "name": "stderr",
     "output_type": "stream",
     "text": [
      "File validation failed, queuing for download: /home/jovyan/ltdr_ndvi/raw/466/N07_AVH13C1/1981/286/N07_AVH13C1.A1981286.006.2022271025021.nc\n"
     ]
    },
    {
     "name": "stdout",
     "output_type": "stream",
     "text": [
      "{'downloadsLink': 'https://ladsweb.modaps.eosdis.nasa.gov/api/v2/content/archives/allData/466/N07_AVH13C1/1981/287', 'mtime': 1710527239, 'name': '287', 'resourceType': 'Directory', 'self': '/api/v2/content/details/allData/466/N07_AVH13C1/1981/287', 'size': 0}\n"
     ]
    },
    {
     "name": "stderr",
     "output_type": "stream",
     "text": [
      "File validation failed, queuing for download: /home/jovyan/ltdr_ndvi/raw/466/N07_AVH13C1/1981/287/N07_AVH13C1.A1981287.006.2022271024318.nc\n"
     ]
    },
    {
     "name": "stdout",
     "output_type": "stream",
     "text": [
      "{'downloadsLink': 'https://ladsweb.modaps.eosdis.nasa.gov/api/v2/content/archives/allData/466/N07_AVH13C1/1981/288', 'mtime': 1710527239, 'name': '288', 'resourceType': 'Directory', 'self': '/api/v2/content/details/allData/466/N07_AVH13C1/1981/288', 'size': 0}\n"
     ]
    },
    {
     "name": "stderr",
     "output_type": "stream",
     "text": [
      "File validation failed, queuing for download: /home/jovyan/ltdr_ndvi/raw/466/N07_AVH13C1/1981/288/N07_AVH13C1.A1981288.006.2022271022832.nc\n"
     ]
    },
    {
     "name": "stdout",
     "output_type": "stream",
     "text": [
      "{'downloadsLink': 'https://ladsweb.modaps.eosdis.nasa.gov/api/v2/content/archives/allData/466/N07_AVH13C1/1981/289', 'mtime': 1710527239, 'name': '289', 'resourceType': 'Directory', 'self': '/api/v2/content/details/allData/466/N07_AVH13C1/1981/289', 'size': 0}\n"
     ]
    },
    {
     "name": "stderr",
     "output_type": "stream",
     "text": [
      "File validation failed, queuing for download: /home/jovyan/ltdr_ndvi/raw/466/N07_AVH13C1/1981/289/N07_AVH13C1.A1981289.006.2022271033850.nc\n"
     ]
    },
    {
     "name": "stdout",
     "output_type": "stream",
     "text": [
      "{'downloadsLink': 'https://ladsweb.modaps.eosdis.nasa.gov/api/v2/content/archives/allData/466/N07_AVH13C1/1981/290', 'mtime': 1710527239, 'name': '290', 'resourceType': 'Directory', 'self': '/api/v2/content/details/allData/466/N07_AVH13C1/1981/290', 'size': 0}\n"
     ]
    },
    {
     "name": "stderr",
     "output_type": "stream",
     "text": [
      "File validation failed, queuing for download: /home/jovyan/ltdr_ndvi/raw/466/N07_AVH13C1/1981/290/N07_AVH13C1.A1981290.006.2022271023035.nc\n"
     ]
    },
    {
     "name": "stdout",
     "output_type": "stream",
     "text": [
      "{'downloadsLink': 'https://ladsweb.modaps.eosdis.nasa.gov/api/v2/content/archives/allData/466/N07_AVH13C1/1981/291', 'mtime': 1710527239, 'name': '291', 'resourceType': 'Directory', 'self': '/api/v2/content/details/allData/466/N07_AVH13C1/1981/291', 'size': 0}\n"
     ]
    },
    {
     "name": "stderr",
     "output_type": "stream",
     "text": [
      "File validation failed, queuing for download: /home/jovyan/ltdr_ndvi/raw/466/N07_AVH13C1/1981/291/N07_AVH13C1.A1981291.006.2022271031416.nc\n"
     ]
    },
    {
     "name": "stdout",
     "output_type": "stream",
     "text": [
      "{'downloadsLink': 'https://ladsweb.modaps.eosdis.nasa.gov/api/v2/content/archives/allData/466/N07_AVH13C1/1981/292', 'mtime': 1710527239, 'name': '292', 'resourceType': 'Directory', 'self': '/api/v2/content/details/allData/466/N07_AVH13C1/1981/292', 'size': 0}\n"
     ]
    },
    {
     "name": "stderr",
     "output_type": "stream",
     "text": [
      "File validation failed, queuing for download: /home/jovyan/ltdr_ndvi/raw/466/N07_AVH13C1/1981/292/N07_AVH13C1.A1981292.006.2022271033625.nc\n"
     ]
    },
    {
     "name": "stdout",
     "output_type": "stream",
     "text": [
      "{'downloadsLink': 'https://ladsweb.modaps.eosdis.nasa.gov/api/v2/content/archives/allData/466/N07_AVH13C1/1981/293', 'mtime': 1710527239, 'name': '293', 'resourceType': 'Directory', 'self': '/api/v2/content/details/allData/466/N07_AVH13C1/1981/293', 'size': 0}\n"
     ]
    },
    {
     "name": "stderr",
     "output_type": "stream",
     "text": [
      "File validation failed, queuing for download: /home/jovyan/ltdr_ndvi/raw/466/N07_AVH13C1/1981/293/N07_AVH13C1.A1981293.006.2022271025402.nc\n"
     ]
    },
    {
     "name": "stdout",
     "output_type": "stream",
     "text": [
      "{'downloadsLink': 'https://ladsweb.modaps.eosdis.nasa.gov/api/v2/content/archives/allData/466/N07_AVH13C1/1981/294', 'mtime': 1710527239, 'name': '294', 'resourceType': 'Directory', 'self': '/api/v2/content/details/allData/466/N07_AVH13C1/1981/294', 'size': 0}\n"
     ]
    },
    {
     "name": "stderr",
     "output_type": "stream",
     "text": [
      "File validation failed, queuing for download: /home/jovyan/ltdr_ndvi/raw/466/N07_AVH13C1/1981/294/N07_AVH13C1.A1981294.006.2022271040618.nc\n"
     ]
    },
    {
     "name": "stdout",
     "output_type": "stream",
     "text": [
      "{'downloadsLink': 'https://ladsweb.modaps.eosdis.nasa.gov/api/v2/content/archives/allData/466/N07_AVH13C1/1981/295', 'mtime': 1710527239, 'name': '295', 'resourceType': 'Directory', 'self': '/api/v2/content/details/allData/466/N07_AVH13C1/1981/295', 'size': 0}\n"
     ]
    },
    {
     "name": "stderr",
     "output_type": "stream",
     "text": [
      "File validation failed, queuing for download: /home/jovyan/ltdr_ndvi/raw/466/N07_AVH13C1/1981/295/N07_AVH13C1.A1981295.006.2022271025808.nc\n"
     ]
    },
    {
     "name": "stdout",
     "output_type": "stream",
     "text": [
      "{'downloadsLink': 'https://ladsweb.modaps.eosdis.nasa.gov/api/v2/content/archives/allData/466/N07_AVH13C1/1981/296', 'mtime': 1710527239, 'name': '296', 'resourceType': 'Directory', 'self': '/api/v2/content/details/allData/466/N07_AVH13C1/1981/296', 'size': 0}\n"
     ]
    },
    {
     "name": "stderr",
     "output_type": "stream",
     "text": [
      "File validation failed, queuing for download: /home/jovyan/ltdr_ndvi/raw/466/N07_AVH13C1/1981/296/N07_AVH13C1.A1981296.006.2022271030930.nc\n"
     ]
    },
    {
     "name": "stdout",
     "output_type": "stream",
     "text": [
      "{'downloadsLink': 'https://ladsweb.modaps.eosdis.nasa.gov/api/v2/content/archives/allData/466/N07_AVH13C1/1981/297', 'mtime': 1710527239, 'name': '297', 'resourceType': 'Directory', 'self': '/api/v2/content/details/allData/466/N07_AVH13C1/1981/297', 'size': 0}\n"
     ]
    },
    {
     "name": "stderr",
     "output_type": "stream",
     "text": [
      "File validation failed, queuing for download: /home/jovyan/ltdr_ndvi/raw/466/N07_AVH13C1/1981/297/N07_AVH13C1.A1981297.006.2022271031001.nc\n"
     ]
    },
    {
     "name": "stdout",
     "output_type": "stream",
     "text": [
      "{'downloadsLink': 'https://ladsweb.modaps.eosdis.nasa.gov/api/v2/content/archives/allData/466/N07_AVH13C1/1981/298', 'mtime': 1710527239, 'name': '298', 'resourceType': 'Directory', 'self': '/api/v2/content/details/allData/466/N07_AVH13C1/1981/298', 'size': 0}\n"
     ]
    },
    {
     "name": "stderr",
     "output_type": "stream",
     "text": [
      "File validation failed, queuing for download: /home/jovyan/ltdr_ndvi/raw/466/N07_AVH13C1/1981/298/N07_AVH13C1.A1981298.006.2022271040313.nc\n"
     ]
    },
    {
     "name": "stdout",
     "output_type": "stream",
     "text": [
      "{'downloadsLink': 'https://ladsweb.modaps.eosdis.nasa.gov/api/v2/content/archives/allData/466/N07_AVH13C1/1981/299', 'mtime': 1710527239, 'name': '299', 'resourceType': 'Directory', 'self': '/api/v2/content/details/allData/466/N07_AVH13C1/1981/299', 'size': 0}\n"
     ]
    },
    {
     "name": "stderr",
     "output_type": "stream",
     "text": [
      "File validation failed, queuing for download: /home/jovyan/ltdr_ndvi/raw/466/N07_AVH13C1/1981/299/N07_AVH13C1.A1981299.006.2022271031148.nc\n"
     ]
    },
    {
     "name": "stdout",
     "output_type": "stream",
     "text": [
      "{'downloadsLink': 'https://ladsweb.modaps.eosdis.nasa.gov/api/v2/content/archives/allData/466/N07_AVH13C1/1981/300', 'mtime': 1710527239, 'name': '300', 'resourceType': 'Directory', 'self': '/api/v2/content/details/allData/466/N07_AVH13C1/1981/300', 'size': 0}\n"
     ]
    },
    {
     "name": "stderr",
     "output_type": "stream",
     "text": [
      "File validation failed, queuing for download: /home/jovyan/ltdr_ndvi/raw/466/N07_AVH13C1/1981/300/N07_AVH13C1.A1981300.006.2022271040835.nc\n"
     ]
    },
    {
     "name": "stdout",
     "output_type": "stream",
     "text": [
      "{'downloadsLink': 'https://ladsweb.modaps.eosdis.nasa.gov/api/v2/content/archives/allData/466/N07_AVH13C1/1981/301', 'mtime': 1710527239, 'name': '301', 'resourceType': 'Directory', 'self': '/api/v2/content/details/allData/466/N07_AVH13C1/1981/301', 'size': 0}\n"
     ]
    },
    {
     "name": "stderr",
     "output_type": "stream",
     "text": [
      "File validation failed, queuing for download: /home/jovyan/ltdr_ndvi/raw/466/N07_AVH13C1/1981/301/N07_AVH13C1.A1981301.006.2022271032521.nc\n"
     ]
    },
    {
     "name": "stdout",
     "output_type": "stream",
     "text": [
      "{'downloadsLink': 'https://ladsweb.modaps.eosdis.nasa.gov/api/v2/content/archives/allData/466/N07_AVH13C1/1981/302', 'mtime': 1710527239, 'name': '302', 'resourceType': 'Directory', 'self': '/api/v2/content/details/allData/466/N07_AVH13C1/1981/302', 'size': 0}\n"
     ]
    },
    {
     "name": "stderr",
     "output_type": "stream",
     "text": [
      "File validation failed, queuing for download: /home/jovyan/ltdr_ndvi/raw/466/N07_AVH13C1/1981/302/N07_AVH13C1.A1981302.006.2022271060542.nc\n"
     ]
    },
    {
     "name": "stdout",
     "output_type": "stream",
     "text": [
      "{'downloadsLink': 'https://ladsweb.modaps.eosdis.nasa.gov/api/v2/content/archives/allData/466/N07_AVH13C1/1981/303', 'mtime': 1710527239, 'name': '303', 'resourceType': 'Directory', 'self': '/api/v2/content/details/allData/466/N07_AVH13C1/1981/303', 'size': 0}\n"
     ]
    },
    {
     "name": "stderr",
     "output_type": "stream",
     "text": [
      "File validation failed, queuing for download: /home/jovyan/ltdr_ndvi/raw/466/N07_AVH13C1/1981/303/N07_AVH13C1.A1981303.006.2022271041017.nc\n"
     ]
    },
    {
     "name": "stdout",
     "output_type": "stream",
     "text": [
      "{'downloadsLink': 'https://ladsweb.modaps.eosdis.nasa.gov/api/v2/content/archives/allData/466/N07_AVH13C1/1981/304', 'mtime': 1710527239, 'name': '304', 'resourceType': 'Directory', 'self': '/api/v2/content/details/allData/466/N07_AVH13C1/1981/304', 'size': 0}\n"
     ]
    },
    {
     "name": "stderr",
     "output_type": "stream",
     "text": [
      "File validation failed, queuing for download: /home/jovyan/ltdr_ndvi/raw/466/N07_AVH13C1/1981/304/N07_AVH13C1.A1981304.006.2022271040316.nc\n"
     ]
    },
    {
     "name": "stdout",
     "output_type": "stream",
     "text": [
      "{'downloadsLink': 'https://ladsweb.modaps.eosdis.nasa.gov/api/v2/content/archives/allData/466/N07_AVH13C1/1981/305', 'mtime': 1710527239, 'name': '305', 'resourceType': 'Directory', 'self': '/api/v2/content/details/allData/466/N07_AVH13C1/1981/305', 'size': 0}\n"
     ]
    },
    {
     "name": "stderr",
     "output_type": "stream",
     "text": [
      "File validation failed, queuing for download: /home/jovyan/ltdr_ndvi/raw/466/N07_AVH13C1/1981/305/N07_AVH13C1.A1981305.006.2022271040906.nc\n"
     ]
    },
    {
     "name": "stdout",
     "output_type": "stream",
     "text": [
      "{'downloadsLink': 'https://ladsweb.modaps.eosdis.nasa.gov/api/v2/content/archives/allData/466/N07_AVH13C1/1981/306', 'mtime': 1710527239, 'name': '306', 'resourceType': 'Directory', 'self': '/api/v2/content/details/allData/466/N07_AVH13C1/1981/306', 'size': 0}\n"
     ]
    },
    {
     "name": "stderr",
     "output_type": "stream",
     "text": [
      "File validation failed, queuing for download: /home/jovyan/ltdr_ndvi/raw/466/N07_AVH13C1/1981/306/N07_AVH13C1.A1981306.006.2022271045226.nc\n"
     ]
    },
    {
     "name": "stdout",
     "output_type": "stream",
     "text": [
      "{'downloadsLink': 'https://ladsweb.modaps.eosdis.nasa.gov/api/v2/content/archives/allData/466/N07_AVH13C1/1981/307', 'mtime': 1710527239, 'name': '307', 'resourceType': 'Directory', 'self': '/api/v2/content/details/allData/466/N07_AVH13C1/1981/307', 'size': 0}\n"
     ]
    },
    {
     "name": "stderr",
     "output_type": "stream",
     "text": [
      "File validation failed, queuing for download: /home/jovyan/ltdr_ndvi/raw/466/N07_AVH13C1/1981/307/N07_AVH13C1.A1981307.006.2022271042148.nc\n"
     ]
    },
    {
     "name": "stdout",
     "output_type": "stream",
     "text": [
      "{'downloadsLink': 'https://ladsweb.modaps.eosdis.nasa.gov/api/v2/content/archives/allData/466/N07_AVH13C1/1981/308', 'mtime': 1710527239, 'name': '308', 'resourceType': 'Directory', 'self': '/api/v2/content/details/allData/466/N07_AVH13C1/1981/308', 'size': 0}\n"
     ]
    },
    {
     "name": "stderr",
     "output_type": "stream",
     "text": [
      "File validation failed, queuing for download: /home/jovyan/ltdr_ndvi/raw/466/N07_AVH13C1/1981/308/N07_AVH13C1.A1981308.006.2022271042115.nc\n"
     ]
    },
    {
     "name": "stdout",
     "output_type": "stream",
     "text": [
      "{'downloadsLink': 'https://ladsweb.modaps.eosdis.nasa.gov/api/v2/content/archives/allData/466/N07_AVH13C1/1981/309', 'mtime': 1710527239, 'name': '309', 'resourceType': 'Directory', 'self': '/api/v2/content/details/allData/466/N07_AVH13C1/1981/309', 'size': 0}\n"
     ]
    },
    {
     "name": "stderr",
     "output_type": "stream",
     "text": [
      "File validation failed, queuing for download: /home/jovyan/ltdr_ndvi/raw/466/N07_AVH13C1/1981/309/N07_AVH13C1.A1981309.006.2022271045827.nc\n"
     ]
    },
    {
     "name": "stdout",
     "output_type": "stream",
     "text": [
      "{'downloadsLink': 'https://ladsweb.modaps.eosdis.nasa.gov/api/v2/content/archives/allData/466/N07_AVH13C1/1981/310', 'mtime': 1710527239, 'name': '310', 'resourceType': 'Directory', 'self': '/api/v2/content/details/allData/466/N07_AVH13C1/1981/310', 'size': 0}\n"
     ]
    },
    {
     "name": "stderr",
     "output_type": "stream",
     "text": [
      "File validation failed, queuing for download: /home/jovyan/ltdr_ndvi/raw/466/N07_AVH13C1/1981/310/N07_AVH13C1.A1981310.006.2022271042725.nc\n"
     ]
    },
    {
     "name": "stdout",
     "output_type": "stream",
     "text": [
      "{'downloadsLink': 'https://ladsweb.modaps.eosdis.nasa.gov/api/v2/content/archives/allData/466/N07_AVH13C1/1981/311', 'mtime': 1710527239, 'name': '311', 'resourceType': 'Directory', 'self': '/api/v2/content/details/allData/466/N07_AVH13C1/1981/311', 'size': 0}\n"
     ]
    },
    {
     "name": "stderr",
     "output_type": "stream",
     "text": [
      "File validation failed, queuing for download: /home/jovyan/ltdr_ndvi/raw/466/N07_AVH13C1/1981/311/N07_AVH13C1.A1981311.006.2022271042808.nc\n"
     ]
    },
    {
     "name": "stdout",
     "output_type": "stream",
     "text": [
      "{'downloadsLink': 'https://ladsweb.modaps.eosdis.nasa.gov/api/v2/content/archives/allData/466/N07_AVH13C1/1981/312', 'mtime': 1710527239, 'name': '312', 'resourceType': 'Directory', 'self': '/api/v2/content/details/allData/466/N07_AVH13C1/1981/312', 'size': 0}\n"
     ]
    },
    {
     "name": "stderr",
     "output_type": "stream",
     "text": [
      "File validation failed, queuing for download: /home/jovyan/ltdr_ndvi/raw/466/N07_AVH13C1/1981/312/N07_AVH13C1.A1981312.006.2022271055557.nc\n"
     ]
    },
    {
     "name": "stdout",
     "output_type": "stream",
     "text": [
      "{'downloadsLink': 'https://ladsweb.modaps.eosdis.nasa.gov/api/v2/content/archives/allData/466/N07_AVH13C1/1981/313', 'mtime': 1710527239, 'name': '313', 'resourceType': 'Directory', 'self': '/api/v2/content/details/allData/466/N07_AVH13C1/1981/313', 'size': 0}\n"
     ]
    },
    {
     "name": "stderr",
     "output_type": "stream",
     "text": [
      "File validation failed, queuing for download: /home/jovyan/ltdr_ndvi/raw/466/N07_AVH13C1/1981/313/N07_AVH13C1.A1981313.006.2022271052419.nc\n"
     ]
    },
    {
     "name": "stdout",
     "output_type": "stream",
     "text": [
      "{'downloadsLink': 'https://ladsweb.modaps.eosdis.nasa.gov/api/v2/content/archives/allData/466/N07_AVH13C1/1981/314', 'mtime': 1710527239, 'name': '314', 'resourceType': 'Directory', 'self': '/api/v2/content/details/allData/466/N07_AVH13C1/1981/314', 'size': 0}\n"
     ]
    },
    {
     "name": "stderr",
     "output_type": "stream",
     "text": [
      "File validation failed, queuing for download: /home/jovyan/ltdr_ndvi/raw/466/N07_AVH13C1/1981/314/N07_AVH13C1.A1981314.006.2022271043435.nc\n"
     ]
    },
    {
     "name": "stdout",
     "output_type": "stream",
     "text": [
      "{'downloadsLink': 'https://ladsweb.modaps.eosdis.nasa.gov/api/v2/content/archives/allData/466/N07_AVH13C1/1981/315', 'mtime': 1710527239, 'name': '315', 'resourceType': 'Directory', 'self': '/api/v2/content/details/allData/466/N07_AVH13C1/1981/315', 'size': 0}\n"
     ]
    },
    {
     "name": "stderr",
     "output_type": "stream",
     "text": [
      "File validation failed, queuing for download: /home/jovyan/ltdr_ndvi/raw/466/N07_AVH13C1/1981/315/N07_AVH13C1.A1981315.006.2022271050422.nc\n"
     ]
    },
    {
     "name": "stdout",
     "output_type": "stream",
     "text": [
      "{'downloadsLink': 'https://ladsweb.modaps.eosdis.nasa.gov/api/v2/content/archives/allData/466/N07_AVH13C1/1981/316', 'mtime': 1710527239, 'name': '316', 'resourceType': 'Directory', 'self': '/api/v2/content/details/allData/466/N07_AVH13C1/1981/316', 'size': 0}\n"
     ]
    },
    {
     "name": "stderr",
     "output_type": "stream",
     "text": [
      "File validation failed, queuing for download: /home/jovyan/ltdr_ndvi/raw/466/N07_AVH13C1/1981/316/N07_AVH13C1.A1981316.006.2022271045336.nc\n"
     ]
    },
    {
     "name": "stdout",
     "output_type": "stream",
     "text": [
      "{'downloadsLink': 'https://ladsweb.modaps.eosdis.nasa.gov/api/v2/content/archives/allData/466/N07_AVH13C1/1981/317', 'mtime': 1710527239, 'name': '317', 'resourceType': 'Directory', 'self': '/api/v2/content/details/allData/466/N07_AVH13C1/1981/317', 'size': 0}\n"
     ]
    },
    {
     "name": "stderr",
     "output_type": "stream",
     "text": [
      "File validation failed, queuing for download: /home/jovyan/ltdr_ndvi/raw/466/N07_AVH13C1/1981/317/N07_AVH13C1.A1981317.006.2022271044802.nc\n"
     ]
    },
    {
     "name": "stdout",
     "output_type": "stream",
     "text": [
      "{'downloadsLink': 'https://ladsweb.modaps.eosdis.nasa.gov/api/v2/content/archives/allData/466/N07_AVH13C1/1981/318', 'mtime': 1710527239, 'name': '318', 'resourceType': 'Directory', 'self': '/api/v2/content/details/allData/466/N07_AVH13C1/1981/318', 'size': 0}\n"
     ]
    },
    {
     "name": "stderr",
     "output_type": "stream",
     "text": [
      "File validation failed, queuing for download: /home/jovyan/ltdr_ndvi/raw/466/N07_AVH13C1/1981/318/N07_AVH13C1.A1981318.006.2022271060914.nc\n"
     ]
    },
    {
     "name": "stdout",
     "output_type": "stream",
     "text": [
      "{'downloadsLink': 'https://ladsweb.modaps.eosdis.nasa.gov/api/v2/content/archives/allData/466/N07_AVH13C1/1981/319', 'mtime': 1710527239, 'name': '319', 'resourceType': 'Directory', 'self': '/api/v2/content/details/allData/466/N07_AVH13C1/1981/319', 'size': 0}\n"
     ]
    },
    {
     "name": "stderr",
     "output_type": "stream",
     "text": [
      "File validation failed, queuing for download: /home/jovyan/ltdr_ndvi/raw/466/N07_AVH13C1/1981/319/N07_AVH13C1.A1981319.006.2022271051048.nc\n"
     ]
    },
    {
     "name": "stdout",
     "output_type": "stream",
     "text": [
      "{'downloadsLink': 'https://ladsweb.modaps.eosdis.nasa.gov/api/v2/content/archives/allData/466/N07_AVH13C1/1981/320', 'mtime': 1710527239, 'name': '320', 'resourceType': 'Directory', 'self': '/api/v2/content/details/allData/466/N07_AVH13C1/1981/320', 'size': 0}\n"
     ]
    },
    {
     "name": "stderr",
     "output_type": "stream",
     "text": [
      "File validation failed, queuing for download: /home/jovyan/ltdr_ndvi/raw/466/N07_AVH13C1/1981/320/N07_AVH13C1.A1981320.006.2022271054646.nc\n"
     ]
    },
    {
     "name": "stdout",
     "output_type": "stream",
     "text": [
      "{'downloadsLink': 'https://ladsweb.modaps.eosdis.nasa.gov/api/v2/content/archives/allData/466/N07_AVH13C1/1981/321', 'mtime': 1710527239, 'name': '321', 'resourceType': 'Directory', 'self': '/api/v2/content/details/allData/466/N07_AVH13C1/1981/321', 'size': 0}\n"
     ]
    },
    {
     "name": "stderr",
     "output_type": "stream",
     "text": [
      "File validation failed, queuing for download: /home/jovyan/ltdr_ndvi/raw/466/N07_AVH13C1/1981/321/N07_AVH13C1.A1981321.006.2022271051434.nc\n"
     ]
    },
    {
     "name": "stdout",
     "output_type": "stream",
     "text": [
      "{'downloadsLink': 'https://ladsweb.modaps.eosdis.nasa.gov/api/v2/content/archives/allData/466/N07_AVH13C1/1981/322', 'mtime': 1710527239, 'name': '322', 'resourceType': 'Directory', 'self': '/api/v2/content/details/allData/466/N07_AVH13C1/1981/322', 'size': 0}\n"
     ]
    },
    {
     "name": "stderr",
     "output_type": "stream",
     "text": [
      "File validation failed, queuing for download: /home/jovyan/ltdr_ndvi/raw/466/N07_AVH13C1/1981/322/N07_AVH13C1.A1981322.006.2022271051801.nc\n"
     ]
    },
    {
     "name": "stdout",
     "output_type": "stream",
     "text": [
      "{'downloadsLink': 'https://ladsweb.modaps.eosdis.nasa.gov/api/v2/content/archives/allData/466/N07_AVH13C1/1981/323', 'mtime': 1710527239, 'name': '323', 'resourceType': 'Directory', 'self': '/api/v2/content/details/allData/466/N07_AVH13C1/1981/323', 'size': 0}\n"
     ]
    },
    {
     "name": "stderr",
     "output_type": "stream",
     "text": [
      "File validation failed, queuing for download: /home/jovyan/ltdr_ndvi/raw/466/N07_AVH13C1/1981/323/N07_AVH13C1.A1981323.006.2022271061004.nc\n"
     ]
    },
    {
     "name": "stdout",
     "output_type": "stream",
     "text": [
      "{'downloadsLink': 'https://ladsweb.modaps.eosdis.nasa.gov/api/v2/content/archives/allData/466/N07_AVH13C1/1981/324', 'mtime': 1710527239, 'name': '324', 'resourceType': 'Directory', 'self': '/api/v2/content/details/allData/466/N07_AVH13C1/1981/324', 'size': 0}\n"
     ]
    },
    {
     "name": "stderr",
     "output_type": "stream",
     "text": [
      "File validation failed, queuing for download: /home/jovyan/ltdr_ndvi/raw/466/N07_AVH13C1/1981/324/N07_AVH13C1.A1981324.006.2022271052951.nc\n"
     ]
    },
    {
     "name": "stdout",
     "output_type": "stream",
     "text": [
      "{'downloadsLink': 'https://ladsweb.modaps.eosdis.nasa.gov/api/v2/content/archives/allData/466/N07_AVH13C1/1981/325', 'mtime': 1710527239, 'name': '325', 'resourceType': 'Directory', 'self': '/api/v2/content/details/allData/466/N07_AVH13C1/1981/325', 'size': 0}\n"
     ]
    },
    {
     "name": "stderr",
     "output_type": "stream",
     "text": [
      "File validation failed, queuing for download: /home/jovyan/ltdr_ndvi/raw/466/N07_AVH13C1/1981/325/N07_AVH13C1.A1981325.006.2022271061116.nc\n"
     ]
    },
    {
     "name": "stdout",
     "output_type": "stream",
     "text": [
      "{'downloadsLink': 'https://ladsweb.modaps.eosdis.nasa.gov/api/v2/content/archives/allData/466/N07_AVH13C1/1981/326', 'mtime': 1710527239, 'name': '326', 'resourceType': 'Directory', 'self': '/api/v2/content/details/allData/466/N07_AVH13C1/1981/326', 'size': 0}\n"
     ]
    },
    {
     "name": "stderr",
     "output_type": "stream",
     "text": [
      "File validation failed, queuing for download: /home/jovyan/ltdr_ndvi/raw/466/N07_AVH13C1/1981/326/N07_AVH13C1.A1981326.006.2022271061532.nc\n"
     ]
    },
    {
     "name": "stdout",
     "output_type": "stream",
     "text": [
      "{'downloadsLink': 'https://ladsweb.modaps.eosdis.nasa.gov/api/v2/content/archives/allData/466/N07_AVH13C1/1981/327', 'mtime': 1710527239, 'name': '327', 'resourceType': 'Directory', 'self': '/api/v2/content/details/allData/466/N07_AVH13C1/1981/327', 'size': 0}\n"
     ]
    },
    {
     "name": "stderr",
     "output_type": "stream",
     "text": [
      "File validation failed, queuing for download: /home/jovyan/ltdr_ndvi/raw/466/N07_AVH13C1/1981/327/N07_AVH13C1.A1981327.006.2022271055749.nc\n"
     ]
    },
    {
     "name": "stdout",
     "output_type": "stream",
     "text": [
      "{'downloadsLink': 'https://ladsweb.modaps.eosdis.nasa.gov/api/v2/content/archives/allData/466/N07_AVH13C1/1981/328', 'mtime': 1710527239, 'name': '328', 'resourceType': 'Directory', 'self': '/api/v2/content/details/allData/466/N07_AVH13C1/1981/328', 'size': 0}\n"
     ]
    },
    {
     "name": "stderr",
     "output_type": "stream",
     "text": [
      "File validation failed, queuing for download: /home/jovyan/ltdr_ndvi/raw/466/N07_AVH13C1/1981/328/N07_AVH13C1.A1981328.006.2022271064650.nc\n"
     ]
    },
    {
     "name": "stdout",
     "output_type": "stream",
     "text": [
      "{'downloadsLink': 'https://ladsweb.modaps.eosdis.nasa.gov/api/v2/content/archives/allData/466/N07_AVH13C1/1981/329', 'mtime': 1710527239, 'name': '329', 'resourceType': 'Directory', 'self': '/api/v2/content/details/allData/466/N07_AVH13C1/1981/329', 'size': 0}\n"
     ]
    },
    {
     "name": "stderr",
     "output_type": "stream",
     "text": [
      "File validation failed, queuing for download: /home/jovyan/ltdr_ndvi/raw/466/N07_AVH13C1/1981/329/N07_AVH13C1.A1981329.006.2022271061250.nc\n"
     ]
    },
    {
     "name": "stdout",
     "output_type": "stream",
     "text": [
      "{'downloadsLink': 'https://ladsweb.modaps.eosdis.nasa.gov/api/v2/content/archives/allData/466/N07_AVH13C1/1981/330', 'mtime': 1710527239, 'name': '330', 'resourceType': 'Directory', 'self': '/api/v2/content/details/allData/466/N07_AVH13C1/1981/330', 'size': 0}\n"
     ]
    },
    {
     "name": "stderr",
     "output_type": "stream",
     "text": [
      "File validation failed, queuing for download: /home/jovyan/ltdr_ndvi/raw/466/N07_AVH13C1/1981/330/N07_AVH13C1.A1981330.006.2022271064957.nc\n"
     ]
    },
    {
     "name": "stdout",
     "output_type": "stream",
     "text": [
      "{'downloadsLink': 'https://ladsweb.modaps.eosdis.nasa.gov/api/v2/content/archives/allData/466/N07_AVH13C1/1981/331', 'mtime': 1710527239, 'name': '331', 'resourceType': 'Directory', 'self': '/api/v2/content/details/allData/466/N07_AVH13C1/1981/331', 'size': 0}\n"
     ]
    },
    {
     "name": "stderr",
     "output_type": "stream",
     "text": [
      "File validation failed, queuing for download: /home/jovyan/ltdr_ndvi/raw/466/N07_AVH13C1/1981/331/N07_AVH13C1.A1981331.006.2022271065711.nc\n"
     ]
    },
    {
     "name": "stdout",
     "output_type": "stream",
     "text": [
      "{'downloadsLink': 'https://ladsweb.modaps.eosdis.nasa.gov/api/v2/content/archives/allData/466/N07_AVH13C1/1981/332', 'mtime': 1710527239, 'name': '332', 'resourceType': 'Directory', 'self': '/api/v2/content/details/allData/466/N07_AVH13C1/1981/332', 'size': 0}\n"
     ]
    },
    {
     "name": "stderr",
     "output_type": "stream",
     "text": [
      "File validation failed, queuing for download: /home/jovyan/ltdr_ndvi/raw/466/N07_AVH13C1/1981/332/N07_AVH13C1.A1981332.006.2022271075001.nc\n"
     ]
    },
    {
     "name": "stdout",
     "output_type": "stream",
     "text": [
      "{'downloadsLink': 'https://ladsweb.modaps.eosdis.nasa.gov/api/v2/content/archives/allData/466/N07_AVH13C1/1981/333', 'mtime': 1710527239, 'name': '333', 'resourceType': 'Directory', 'self': '/api/v2/content/details/allData/466/N07_AVH13C1/1981/333', 'size': 0}\n"
     ]
    },
    {
     "name": "stderr",
     "output_type": "stream",
     "text": [
      "File validation failed, queuing for download: /home/jovyan/ltdr_ndvi/raw/466/N07_AVH13C1/1981/333/N07_AVH13C1.A1981333.006.2022271062549.nc\n"
     ]
    },
    {
     "name": "stdout",
     "output_type": "stream",
     "text": [
      "{'downloadsLink': 'https://ladsweb.modaps.eosdis.nasa.gov/api/v2/content/archives/allData/466/N07_AVH13C1/1981/334', 'mtime': 1710527239, 'name': '334', 'resourceType': 'Directory', 'self': '/api/v2/content/details/allData/466/N07_AVH13C1/1981/334', 'size': 0}\n"
     ]
    },
    {
     "name": "stderr",
     "output_type": "stream",
     "text": [
      "File validation failed, queuing for download: /home/jovyan/ltdr_ndvi/raw/466/N07_AVH13C1/1981/334/N07_AVH13C1.A1981334.006.2022271065700.nc\n"
     ]
    },
    {
     "name": "stdout",
     "output_type": "stream",
     "text": [
      "{'downloadsLink': 'https://ladsweb.modaps.eosdis.nasa.gov/api/v2/content/archives/allData/466/N07_AVH13C1/1981/335', 'mtime': 1710527239, 'name': '335', 'resourceType': 'Directory', 'self': '/api/v2/content/details/allData/466/N07_AVH13C1/1981/335', 'size': 0}\n"
     ]
    },
    {
     "name": "stderr",
     "output_type": "stream",
     "text": [
      "File validation failed, queuing for download: /home/jovyan/ltdr_ndvi/raw/466/N07_AVH13C1/1981/335/N07_AVH13C1.A1981335.006.2022271063411.nc\n"
     ]
    },
    {
     "name": "stdout",
     "output_type": "stream",
     "text": [
      "{'downloadsLink': 'https://ladsweb.modaps.eosdis.nasa.gov/api/v2/content/archives/allData/466/N07_AVH13C1/1981/336', 'mtime': 1710527239, 'name': '336', 'resourceType': 'Directory', 'self': '/api/v2/content/details/allData/466/N07_AVH13C1/1981/336', 'size': 0}\n"
     ]
    },
    {
     "name": "stderr",
     "output_type": "stream",
     "text": [
      "File validation failed, queuing for download: /home/jovyan/ltdr_ndvi/raw/466/N07_AVH13C1/1981/336/N07_AVH13C1.A1981336.006.2022271063419.nc\n"
     ]
    },
    {
     "name": "stdout",
     "output_type": "stream",
     "text": [
      "{'downloadsLink': 'https://ladsweb.modaps.eosdis.nasa.gov/api/v2/content/archives/allData/466/N07_AVH13C1/1981/337', 'mtime': 1710527239, 'name': '337', 'resourceType': 'Directory', 'self': '/api/v2/content/details/allData/466/N07_AVH13C1/1981/337', 'size': 0}\n"
     ]
    },
    {
     "name": "stderr",
     "output_type": "stream",
     "text": [
      "File validation failed, queuing for download: /home/jovyan/ltdr_ndvi/raw/466/N07_AVH13C1/1981/337/N07_AVH13C1.A1981337.006.2022271074545.nc\n"
     ]
    },
    {
     "name": "stdout",
     "output_type": "stream",
     "text": [
      "{'downloadsLink': 'https://ladsweb.modaps.eosdis.nasa.gov/api/v2/content/archives/allData/466/N07_AVH13C1/1981/338', 'mtime': 1710527239, 'name': '338', 'resourceType': 'Directory', 'self': '/api/v2/content/details/allData/466/N07_AVH13C1/1981/338', 'size': 0}\n"
     ]
    },
    {
     "name": "stderr",
     "output_type": "stream",
     "text": [
      "File validation failed, queuing for download: /home/jovyan/ltdr_ndvi/raw/466/N07_AVH13C1/1981/338/N07_AVH13C1.A1981338.006.2022271065257.nc\n"
     ]
    },
    {
     "name": "stdout",
     "output_type": "stream",
     "text": [
      "{'downloadsLink': 'https://ladsweb.modaps.eosdis.nasa.gov/api/v2/content/archives/allData/466/N07_AVH13C1/1981/339', 'mtime': 1710527239, 'name': '339', 'resourceType': 'Directory', 'self': '/api/v2/content/details/allData/466/N07_AVH13C1/1981/339', 'size': 0}\n"
     ]
    },
    {
     "name": "stderr",
     "output_type": "stream",
     "text": [
      "File validation failed, queuing for download: /home/jovyan/ltdr_ndvi/raw/466/N07_AVH13C1/1981/339/N07_AVH13C1.A1981339.006.2022271073120.nc\n"
     ]
    },
    {
     "name": "stdout",
     "output_type": "stream",
     "text": [
      "{'downloadsLink': 'https://ladsweb.modaps.eosdis.nasa.gov/api/v2/content/archives/allData/466/N07_AVH13C1/1981/340', 'mtime': 1710527239, 'name': '340', 'resourceType': 'Directory', 'self': '/api/v2/content/details/allData/466/N07_AVH13C1/1981/340', 'size': 0}\n"
     ]
    },
    {
     "name": "stderr",
     "output_type": "stream",
     "text": [
      "File validation failed, queuing for download: /home/jovyan/ltdr_ndvi/raw/466/N07_AVH13C1/1981/340/N07_AVH13C1.A1981340.006.2022271070557.nc\n"
     ]
    },
    {
     "name": "stdout",
     "output_type": "stream",
     "text": [
      "{'downloadsLink': 'https://ladsweb.modaps.eosdis.nasa.gov/api/v2/content/archives/allData/466/N07_AVH13C1/1981/341', 'mtime': 1710527239, 'name': '341', 'resourceType': 'Directory', 'self': '/api/v2/content/details/allData/466/N07_AVH13C1/1981/341', 'size': 0}\n"
     ]
    },
    {
     "name": "stderr",
     "output_type": "stream",
     "text": [
      "File validation failed, queuing for download: /home/jovyan/ltdr_ndvi/raw/466/N07_AVH13C1/1981/341/N07_AVH13C1.A1981341.006.2022271074231.nc\n"
     ]
    },
    {
     "name": "stdout",
     "output_type": "stream",
     "text": [
      "{'downloadsLink': 'https://ladsweb.modaps.eosdis.nasa.gov/api/v2/content/archives/allData/466/N07_AVH13C1/1981/342', 'mtime': 1710527239, 'name': '342', 'resourceType': 'Directory', 'self': '/api/v2/content/details/allData/466/N07_AVH13C1/1981/342', 'size': 0}\n"
     ]
    },
    {
     "name": "stderr",
     "output_type": "stream",
     "text": [
      "File validation failed, queuing for download: /home/jovyan/ltdr_ndvi/raw/466/N07_AVH13C1/1981/342/N07_AVH13C1.A1981342.006.2022271084153.nc\n"
     ]
    },
    {
     "name": "stdout",
     "output_type": "stream",
     "text": [
      "{'downloadsLink': 'https://ladsweb.modaps.eosdis.nasa.gov/api/v2/content/archives/allData/466/N07_AVH13C1/1981/343', 'mtime': 1710527239, 'name': '343', 'resourceType': 'Directory', 'self': '/api/v2/content/details/allData/466/N07_AVH13C1/1981/343', 'size': 0}\n"
     ]
    },
    {
     "name": "stderr",
     "output_type": "stream",
     "text": [
      "File validation failed, queuing for download: /home/jovyan/ltdr_ndvi/raw/466/N07_AVH13C1/1981/343/N07_AVH13C1.A1981343.006.2022271081245.nc\n"
     ]
    },
    {
     "name": "stdout",
     "output_type": "stream",
     "text": [
      "{'downloadsLink': 'https://ladsweb.modaps.eosdis.nasa.gov/api/v2/content/archives/allData/466/N07_AVH13C1/1981/344', 'mtime': 1710527239, 'name': '344', 'resourceType': 'Directory', 'self': '/api/v2/content/details/allData/466/N07_AVH13C1/1981/344', 'size': 0}\n"
     ]
    },
    {
     "name": "stderr",
     "output_type": "stream",
     "text": [
      "File validation failed, queuing for download: /home/jovyan/ltdr_ndvi/raw/466/N07_AVH13C1/1981/344/N07_AVH13C1.A1981344.006.2022271075515.nc\n"
     ]
    },
    {
     "name": "stdout",
     "output_type": "stream",
     "text": [
      "{'downloadsLink': 'https://ladsweb.modaps.eosdis.nasa.gov/api/v2/content/archives/allData/466/N07_AVH13C1/1981/345', 'mtime': 1710527239, 'name': '345', 'resourceType': 'Directory', 'self': '/api/v2/content/details/allData/466/N07_AVH13C1/1981/345', 'size': 0}\n"
     ]
    },
    {
     "name": "stderr",
     "output_type": "stream",
     "text": [
      "File validation failed, queuing for download: /home/jovyan/ltdr_ndvi/raw/466/N07_AVH13C1/1981/345/N07_AVH13C1.A1981345.006.2022271082228.nc\n"
     ]
    },
    {
     "name": "stdout",
     "output_type": "stream",
     "text": [
      "{'downloadsLink': 'https://ladsweb.modaps.eosdis.nasa.gov/api/v2/content/archives/allData/466/N07_AVH13C1/1981/346', 'mtime': 1710527239, 'name': '346', 'resourceType': 'Directory', 'self': '/api/v2/content/details/allData/466/N07_AVH13C1/1981/346', 'size': 0}\n"
     ]
    },
    {
     "name": "stderr",
     "output_type": "stream",
     "text": [
      "File validation failed, queuing for download: /home/jovyan/ltdr_ndvi/raw/466/N07_AVH13C1/1981/346/N07_AVH13C1.A1981346.006.2022271075758.nc\n"
     ]
    },
    {
     "name": "stdout",
     "output_type": "stream",
     "text": [
      "{'downloadsLink': 'https://ladsweb.modaps.eosdis.nasa.gov/api/v2/content/archives/allData/466/N07_AVH13C1/1981/347', 'mtime': 1710527239, 'name': '347', 'resourceType': 'Directory', 'self': '/api/v2/content/details/allData/466/N07_AVH13C1/1981/347', 'size': 0}\n"
     ]
    },
    {
     "name": "stderr",
     "output_type": "stream",
     "text": [
      "File validation failed, queuing for download: /home/jovyan/ltdr_ndvi/raw/466/N07_AVH13C1/1981/347/N07_AVH13C1.A1981347.006.2022271080030.nc\n"
     ]
    },
    {
     "name": "stdout",
     "output_type": "stream",
     "text": [
      "{'downloadsLink': 'https://ladsweb.modaps.eosdis.nasa.gov/api/v2/content/archives/allData/466/N07_AVH13C1/1981/348', 'mtime': 1710527239, 'name': '348', 'resourceType': 'Directory', 'self': '/api/v2/content/details/allData/466/N07_AVH13C1/1981/348', 'size': 0}\n"
     ]
    },
    {
     "name": "stderr",
     "output_type": "stream",
     "text": [
      "File validation failed, queuing for download: /home/jovyan/ltdr_ndvi/raw/466/N07_AVH13C1/1981/348/N07_AVH13C1.A1981348.006.2022271082340.nc\n"
     ]
    },
    {
     "name": "stdout",
     "output_type": "stream",
     "text": [
      "{'downloadsLink': 'https://ladsweb.modaps.eosdis.nasa.gov/api/v2/content/archives/allData/466/N07_AVH13C1/1981/349', 'mtime': 1710527239, 'name': '349', 'resourceType': 'Directory', 'self': '/api/v2/content/details/allData/466/N07_AVH13C1/1981/349', 'size': 0}\n"
     ]
    },
    {
     "name": "stderr",
     "output_type": "stream",
     "text": [
      "File validation failed, queuing for download: /home/jovyan/ltdr_ndvi/raw/466/N07_AVH13C1/1981/349/N07_AVH13C1.A1981349.006.2022271081626.nc\n"
     ]
    },
    {
     "name": "stdout",
     "output_type": "stream",
     "text": [
      "{'downloadsLink': 'https://ladsweb.modaps.eosdis.nasa.gov/api/v2/content/archives/allData/466/N07_AVH13C1/1981/350', 'mtime': 1710527239, 'name': '350', 'resourceType': 'Directory', 'self': '/api/v2/content/details/allData/466/N07_AVH13C1/1981/350', 'size': 0}\n"
     ]
    },
    {
     "name": "stderr",
     "output_type": "stream",
     "text": [
      "File validation failed, queuing for download: /home/jovyan/ltdr_ndvi/raw/466/N07_AVH13C1/1981/350/N07_AVH13C1.A1981350.006.2022271084722.nc\n"
     ]
    },
    {
     "name": "stdout",
     "output_type": "stream",
     "text": [
      "{'downloadsLink': 'https://ladsweb.modaps.eosdis.nasa.gov/api/v2/content/archives/allData/466/N07_AVH13C1/1981/351', 'mtime': 1710527239, 'name': '351', 'resourceType': 'Directory', 'self': '/api/v2/content/details/allData/466/N07_AVH13C1/1981/351', 'size': 0}\n"
     ]
    },
    {
     "name": "stderr",
     "output_type": "stream",
     "text": [
      "File validation failed, queuing for download: /home/jovyan/ltdr_ndvi/raw/466/N07_AVH13C1/1981/351/N07_AVH13C1.A1981351.006.2022271083401.nc\n"
     ]
    },
    {
     "name": "stdout",
     "output_type": "stream",
     "text": [
      "{'downloadsLink': 'https://ladsweb.modaps.eosdis.nasa.gov/api/v2/content/archives/allData/466/N07_AVH13C1/1981/352', 'mtime': 1710527239, 'name': '352', 'resourceType': 'Directory', 'self': '/api/v2/content/details/allData/466/N07_AVH13C1/1981/352', 'size': 0}\n"
     ]
    },
    {
     "name": "stderr",
     "output_type": "stream",
     "text": [
      "File validation failed, queuing for download: /home/jovyan/ltdr_ndvi/raw/466/N07_AVH13C1/1981/352/N07_AVH13C1.A1981352.006.2022271091302.nc\n"
     ]
    },
    {
     "name": "stdout",
     "output_type": "stream",
     "text": [
      "{'downloadsLink': 'https://ladsweb.modaps.eosdis.nasa.gov/api/v2/content/archives/allData/466/N07_AVH13C1/1981/353', 'mtime': 1710527239, 'name': '353', 'resourceType': 'Directory', 'self': '/api/v2/content/details/allData/466/N07_AVH13C1/1981/353', 'size': 0}\n"
     ]
    },
    {
     "name": "stderr",
     "output_type": "stream",
     "text": [
      "File validation failed, queuing for download: /home/jovyan/ltdr_ndvi/raw/466/N07_AVH13C1/1981/353/N07_AVH13C1.A1981353.006.2022271083242.nc\n"
     ]
    },
    {
     "name": "stdout",
     "output_type": "stream",
     "text": [
      "{'downloadsLink': 'https://ladsweb.modaps.eosdis.nasa.gov/api/v2/content/archives/allData/466/N07_AVH13C1/1981/354', 'mtime': 1710527239, 'name': '354', 'resourceType': 'Directory', 'self': '/api/v2/content/details/allData/466/N07_AVH13C1/1981/354', 'size': 0}\n"
     ]
    },
    {
     "name": "stderr",
     "output_type": "stream",
     "text": [
      "File validation failed, queuing for download: /home/jovyan/ltdr_ndvi/raw/466/N07_AVH13C1/1981/354/N07_AVH13C1.A1981354.006.2022271091643.nc\n"
     ]
    },
    {
     "name": "stdout",
     "output_type": "stream",
     "text": [
      "{'downloadsLink': 'https://ladsweb.modaps.eosdis.nasa.gov/api/v2/content/archives/allData/466/N07_AVH13C1/1981/355', 'mtime': 1710527239, 'name': '355', 'resourceType': 'Directory', 'self': '/api/v2/content/details/allData/466/N07_AVH13C1/1981/355', 'size': 0}\n"
     ]
    },
    {
     "name": "stderr",
     "output_type": "stream",
     "text": [
      "File validation failed, queuing for download: /home/jovyan/ltdr_ndvi/raw/466/N07_AVH13C1/1981/355/N07_AVH13C1.A1981355.006.2022271090056.nc\n"
     ]
    },
    {
     "name": "stdout",
     "output_type": "stream",
     "text": [
      "{'downloadsLink': 'https://ladsweb.modaps.eosdis.nasa.gov/api/v2/content/archives/allData/466/N07_AVH13C1/1981/356', 'mtime': 1710527239, 'name': '356', 'resourceType': 'Directory', 'self': '/api/v2/content/details/allData/466/N07_AVH13C1/1981/356', 'size': 0}\n"
     ]
    },
    {
     "name": "stderr",
     "output_type": "stream",
     "text": [
      "File validation failed, queuing for download: /home/jovyan/ltdr_ndvi/raw/466/N07_AVH13C1/1981/356/N07_AVH13C1.A1981356.006.2022271093107.nc\n"
     ]
    },
    {
     "name": "stdout",
     "output_type": "stream",
     "text": [
      "{'downloadsLink': 'https://ladsweb.modaps.eosdis.nasa.gov/api/v2/content/archives/allData/466/N07_AVH13C1/1981/357', 'mtime': 1710527239, 'name': '357', 'resourceType': 'Directory', 'self': '/api/v2/content/details/allData/466/N07_AVH13C1/1981/357', 'size': 0}\n"
     ]
    },
    {
     "name": "stderr",
     "output_type": "stream",
     "text": [
      "File validation failed, queuing for download: /home/jovyan/ltdr_ndvi/raw/466/N07_AVH13C1/1981/357/N07_AVH13C1.A1981357.006.2022271084817.nc\n"
     ]
    },
    {
     "name": "stdout",
     "output_type": "stream",
     "text": [
      "{'downloadsLink': 'https://ladsweb.modaps.eosdis.nasa.gov/api/v2/content/archives/allData/466/N07_AVH13C1/1981/358', 'mtime': 1710527239, 'name': '358', 'resourceType': 'Directory', 'self': '/api/v2/content/details/allData/466/N07_AVH13C1/1981/358', 'size': 0}\n"
     ]
    },
    {
     "name": "stderr",
     "output_type": "stream",
     "text": [
      "File validation failed, queuing for download: /home/jovyan/ltdr_ndvi/raw/466/N07_AVH13C1/1981/358/N07_AVH13C1.A1981358.006.2022271091410.nc\n"
     ]
    },
    {
     "name": "stdout",
     "output_type": "stream",
     "text": [
      "{'downloadsLink': 'https://ladsweb.modaps.eosdis.nasa.gov/api/v2/content/archives/allData/466/N07_AVH13C1/1981/359', 'mtime': 1710527239, 'name': '359', 'resourceType': 'Directory', 'self': '/api/v2/content/details/allData/466/N07_AVH13C1/1981/359', 'size': 0}\n"
     ]
    },
    {
     "name": "stderr",
     "output_type": "stream",
     "text": [
      "File validation failed, queuing for download: /home/jovyan/ltdr_ndvi/raw/466/N07_AVH13C1/1981/359/N07_AVH13C1.A1981359.006.2022271090342.nc\n"
     ]
    },
    {
     "name": "stdout",
     "output_type": "stream",
     "text": [
      "{'downloadsLink': 'https://ladsweb.modaps.eosdis.nasa.gov/api/v2/content/archives/allData/466/N07_AVH13C1/1981/360', 'mtime': 1710527239, 'name': '360', 'resourceType': 'Directory', 'self': '/api/v2/content/details/allData/466/N07_AVH13C1/1981/360', 'size': 0}\n"
     ]
    },
    {
     "name": "stderr",
     "output_type": "stream",
     "text": [
      "File validation failed, queuing for download: /home/jovyan/ltdr_ndvi/raw/466/N07_AVH13C1/1981/360/N07_AVH13C1.A1981360.006.2022271090741.nc\n"
     ]
    },
    {
     "name": "stdout",
     "output_type": "stream",
     "text": [
      "{'downloadsLink': 'https://ladsweb.modaps.eosdis.nasa.gov/api/v2/content/archives/allData/466/N07_AVH13C1/1981/361', 'mtime': 1710527239, 'name': '361', 'resourceType': 'Directory', 'self': '/api/v2/content/details/allData/466/N07_AVH13C1/1981/361', 'size': 0}\n"
     ]
    },
    {
     "name": "stderr",
     "output_type": "stream",
     "text": [
      "File validation failed, queuing for download: /home/jovyan/ltdr_ndvi/raw/466/N07_AVH13C1/1981/361/N07_AVH13C1.A1981361.006.2022271090221.nc\n"
     ]
    },
    {
     "name": "stdout",
     "output_type": "stream",
     "text": [
      "{'downloadsLink': 'https://ladsweb.modaps.eosdis.nasa.gov/api/v2/content/archives/allData/466/N07_AVH13C1/1981/362', 'mtime': 1710527239, 'name': '362', 'resourceType': 'Directory', 'self': '/api/v2/content/details/allData/466/N07_AVH13C1/1981/362', 'size': 0}\n"
     ]
    },
    {
     "name": "stderr",
     "output_type": "stream",
     "text": [
      "File validation failed, queuing for download: /home/jovyan/ltdr_ndvi/raw/466/N07_AVH13C1/1981/362/N07_AVH13C1.A1981362.006.2022271091607.nc\n"
     ]
    },
    {
     "name": "stdout",
     "output_type": "stream",
     "text": [
      "{'downloadsLink': 'https://ladsweb.modaps.eosdis.nasa.gov/api/v2/content/archives/allData/466/N07_AVH13C1/1981/363', 'mtime': 1710527239, 'name': '363', 'resourceType': 'Directory', 'self': '/api/v2/content/details/allData/466/N07_AVH13C1/1981/363', 'size': 0}\n"
     ]
    },
    {
     "name": "stderr",
     "output_type": "stream",
     "text": [
      "File validation failed, queuing for download: /home/jovyan/ltdr_ndvi/raw/466/N07_AVH13C1/1981/363/N07_AVH13C1.A1981363.006.2022271095052.nc\n"
     ]
    },
    {
     "name": "stdout",
     "output_type": "stream",
     "text": [
      "{'downloadsLink': 'https://ladsweb.modaps.eosdis.nasa.gov/api/v2/content/archives/allData/466/N07_AVH13C1/1981/364', 'mtime': 1710527239, 'name': '364', 'resourceType': 'Directory', 'self': '/api/v2/content/details/allData/466/N07_AVH13C1/1981/364', 'size': 0}\n"
     ]
    },
    {
     "name": "stderr",
     "output_type": "stream",
     "text": [
      "File validation failed, queuing for download: /home/jovyan/ltdr_ndvi/raw/466/N07_AVH13C1/1981/364/N07_AVH13C1.A1981364.006.2022271092655.nc\n"
     ]
    },
    {
     "name": "stdout",
     "output_type": "stream",
     "text": [
      "{'downloadsLink': 'https://ladsweb.modaps.eosdis.nasa.gov/api/v2/content/archives/allData/466/N07_AVH13C1/1981/365', 'mtime': 1710527239, 'name': '365', 'resourceType': 'Directory', 'self': '/api/v2/content/details/allData/466/N07_AVH13C1/1981/365', 'size': 0}\n"
     ]
    },
    {
     "name": "stderr",
     "output_type": "stream",
     "text": [
      "File validation failed, queuing for download: /home/jovyan/ltdr_ndvi/raw/466/N07_AVH13C1/1981/365/N07_AVH13C1.A1981365.006.2023030130133.nc\n",
      "Task run build_sensor_download_list completed with 7 successes and no errors\n",
      "Downloading /home/jovyan/ltdr_ndvi/raw/466/N07_AVH13C1/1981/175/N07_AVH13C1.A1981175.006.2022270161458.nc...\n",
      "Downloading /home/jovyan/ltdr_ndvi/raw/466/N07_AVH13C1/1981/176/N07_AVH13C1.A1981176.006.2022270172715.nc...\n",
      "Downloading /home/jovyan/ltdr_ndvi/raw/466/N07_AVH13C1/1981/177/N07_AVH13C1.A1981177.006.2022270163408.nc...\n",
      "Downloading /home/jovyan/ltdr_ndvi/raw/466/N07_AVH13C1/1981/178/N07_AVH13C1.A1981178.006.2022270165135.nc...\n",
      "Downloading /home/jovyan/ltdr_ndvi/raw/466/N07_AVH13C1/1981/179/N07_AVH13C1.A1981179.006.2022270173246.nc...\n",
      "Downloading /home/jovyan/ltdr_ndvi/raw/466/N07_AVH13C1/1981/180/N07_AVH13C1.A1981180.006.2022270162136.nc...\n",
      "Downloading /home/jovyan/ltdr_ndvi/raw/466/N07_AVH13C1/1981/181/N07_AVH13C1.A1981181.006.2022270162113.nc...\n",
      "Downloading /home/jovyan/ltdr_ndvi/raw/466/N07_AVH13C1/1981/182/N07_AVH13C1.A1981182.006.2022270165327.nc...\n",
      "Downloading /home/jovyan/ltdr_ndvi/raw/466/N07_AVH13C1/1981/183/N07_AVH13C1.A1981183.006.2022270171707.nc...\n",
      "Downloading /home/jovyan/ltdr_ndvi/raw/466/N07_AVH13C1/1981/184/N07_AVH13C1.A1981184.006.2022270163934.nc...\n",
      "Downloading /home/jovyan/ltdr_ndvi/raw/466/N07_AVH13C1/1981/185/N07_AVH13C1.A1981185.006.2022270172201.nc...\n",
      "Downloading /home/jovyan/ltdr_ndvi/raw/466/N07_AVH13C1/1981/186/N07_AVH13C1.A1981186.006.2022270173946.nc...\n",
      "Downloading /home/jovyan/ltdr_ndvi/raw/466/N07_AVH13C1/1981/187/N07_AVH13C1.A1981187.006.2022270175137.nc...\n",
      "Downloading /home/jovyan/ltdr_ndvi/raw/466/N07_AVH13C1/1981/188/N07_AVH13C1.A1981188.006.2022270171813.nc...\n",
      "Downloading /home/jovyan/ltdr_ndvi/raw/466/N07_AVH13C1/1981/189/N07_AVH13C1.A1981189.006.2022270171838.nc...\n",
      "Downloading /home/jovyan/ltdr_ndvi/raw/466/N07_AVH13C1/1981/190/N07_AVH13C1.A1981190.006.2022270184022.nc...\n",
      "Downloading /home/jovyan/ltdr_ndvi/raw/466/N07_AVH13C1/1981/191/N07_AVH13C1.A1981191.006.2022270184250.nc...\n",
      "Downloading /home/jovyan/ltdr_ndvi/raw/466/N07_AVH13C1/1981/192/N07_AVH13C1.A1981192.006.2022270173429.nc...\n",
      "Downloading /home/jovyan/ltdr_ndvi/raw/466/N07_AVH13C1/1981/193/N07_AVH13C1.A1981193.006.2022270183929.nc...\n",
      "Downloading /home/jovyan/ltdr_ndvi/raw/466/N07_AVH13C1/1981/194/N07_AVH13C1.A1981194.006.2022270182926.nc...\n",
      "Downloading /home/jovyan/ltdr_ndvi/raw/466/N07_AVH13C1/1981/195/N07_AVH13C1.A1981195.006.2022270183901.nc...\n",
      "Downloading /home/jovyan/ltdr_ndvi/raw/466/N07_AVH13C1/1981/196/N07_AVH13C1.A1981196.006.2022270182858.nc...\n",
      "Downloading /home/jovyan/ltdr_ndvi/raw/466/N07_AVH13C1/1981/197/N07_AVH13C1.A1981197.006.2022270180010.nc...\n",
      "Downloading /home/jovyan/ltdr_ndvi/raw/466/N07_AVH13C1/1981/198/N07_AVH13C1.A1981198.006.2022270190922.nc...\n",
      "Downloading /home/jovyan/ltdr_ndvi/raw/466/N07_AVH13C1/1981/199/N07_AVH13C1.A1981199.006.2022270181113.nc...\n",
      "Downloading /home/jovyan/ltdr_ndvi/raw/466/N07_AVH13C1/1981/200/N07_AVH13C1.A1981200.006.2022270184809.nc...\n",
      "Downloading /home/jovyan/ltdr_ndvi/raw/466/N07_AVH13C1/1981/201/N07_AVH13C1.A1981201.006.2022270195738.nc...\n",
      "Downloading /home/jovyan/ltdr_ndvi/raw/466/N07_AVH13C1/1981/202/N07_AVH13C1.A1981202.006.2022270184631.nc...\n",
      "Downloading /home/jovyan/ltdr_ndvi/raw/466/N07_AVH13C1/1981/203/N07_AVH13C1.A1981203.006.2022270191013.nc...\n",
      "Downloading /home/jovyan/ltdr_ndvi/raw/466/N07_AVH13C1/1981/204/N07_AVH13C1.A1981204.006.2022270193248.nc...\n",
      "Downloading /home/jovyan/ltdr_ndvi/raw/466/N07_AVH13C1/1981/205/N07_AVH13C1.A1981205.006.2022270193111.nc...\n",
      "Downloading /home/jovyan/ltdr_ndvi/raw/466/N07_AVH13C1/1981/206/N07_AVH13C1.A1981206.006.2022270201118.nc...\n",
      "Downloading /home/jovyan/ltdr_ndvi/raw/466/N07_AVH13C1/1981/207/N07_AVH13C1.A1981207.006.2022270200634.nc...\n",
      "Downloading /home/jovyan/ltdr_ndvi/raw/466/N07_AVH13C1/1981/208/N07_AVH13C1.A1981208.006.2022270190444.nc...\n",
      "Downloading /home/jovyan/ltdr_ndvi/raw/466/N07_AVH13C1/1981/209/N07_AVH13C1.A1981209.006.2022270203814.nc...\n",
      "Downloading /home/jovyan/ltdr_ndvi/raw/466/N07_AVH13C1/1981/210/N07_AVH13C1.A1981210.006.2022270205551.nc...\n",
      "Downloading /home/jovyan/ltdr_ndvi/raw/466/N07_AVH13C1/1981/211/N07_AVH13C1.A1981211.006.2022270192552.nc...\n",
      "Downloading /home/jovyan/ltdr_ndvi/raw/466/N07_AVH13C1/1981/212/N07_AVH13C1.A1981212.006.2022270202440.nc...\n",
      "Downloading /home/jovyan/ltdr_ndvi/raw/466/N07_AVH13C1/1981/213/N07_AVH13C1.A1981213.006.2022270201809.nc...\n",
      "Downloading /home/jovyan/ltdr_ndvi/raw/466/N07_AVH13C1/1981/214/N07_AVH13C1.A1981214.006.2022270204650.nc...\n",
      "Downloading /home/jovyan/ltdr_ndvi/raw/466/N07_AVH13C1/1981/215/N07_AVH13C1.A1981215.006.2022270201812.nc...\n",
      "Downloading /home/jovyan/ltdr_ndvi/raw/466/N07_AVH13C1/1981/216/N07_AVH13C1.A1981216.006.2022270202655.nc...\n",
      "Downloading /home/jovyan/ltdr_ndvi/raw/466/N07_AVH13C1/1981/217/N07_AVH13C1.A1981217.006.2022270212442.nc...\n",
      "Downloading /home/jovyan/ltdr_ndvi/raw/466/N07_AVH13C1/1981/218/N07_AVH13C1.A1981218.006.2022270203617.nc...\n",
      "Downloading /home/jovyan/ltdr_ndvi/raw/466/N07_AVH13C1/1981/219/N07_AVH13C1.A1981219.006.2022270203712.nc...\n",
      "Downloading /home/jovyan/ltdr_ndvi/raw/466/N07_AVH13C1/1981/220/N07_AVH13C1.A1981220.006.2022270204004.nc...\n",
      "Downloading /home/jovyan/ltdr_ndvi/raw/466/N07_AVH13C1/1981/221/N07_AVH13C1.A1981221.006.2022270203922.nc...\n",
      "Downloading /home/jovyan/ltdr_ndvi/raw/466/N07_AVH13C1/1981/222/N07_AVH13C1.A1981222.006.2022270205155.nc...\n",
      "Downloading /home/jovyan/ltdr_ndvi/raw/466/N07_AVH13C1/1981/223/N07_AVH13C1.A1981223.006.2022270213627.nc...\n",
      "Downloading /home/jovyan/ltdr_ndvi/raw/466/N07_AVH13C1/1981/224/N07_AVH13C1.A1981224.006.2022270211219.nc...\n",
      "Downloading /home/jovyan/ltdr_ndvi/raw/466/N07_AVH13C1/1981/225/N07_AVH13C1.A1981225.006.2022270212053.nc...\n",
      "Downloading /home/jovyan/ltdr_ndvi/raw/466/N07_AVH13C1/1981/226/N07_AVH13C1.A1981226.006.2022270205300.nc...\n",
      "Downloading /home/jovyan/ltdr_ndvi/raw/466/N07_AVH13C1/1981/227/N07_AVH13C1.A1981227.006.2022270211123.nc...\n",
      "Downloading /home/jovyan/ltdr_ndvi/raw/466/N07_AVH13C1/1981/228/N07_AVH13C1.A1981228.006.2022270212147.nc...\n",
      "Downloading /home/jovyan/ltdr_ndvi/raw/466/N07_AVH13C1/1981/229/N07_AVH13C1.A1981229.006.2022270210406.nc...\n",
      "Downloading /home/jovyan/ltdr_ndvi/raw/466/N07_AVH13C1/1981/230/N07_AVH13C1.A1981230.006.2022270211747.nc...\n",
      "Downloading /home/jovyan/ltdr_ndvi/raw/466/N07_AVH13C1/1981/231/N07_AVH13C1.A1981231.006.2022270211951.nc...\n",
      "Downloading /home/jovyan/ltdr_ndvi/raw/466/N07_AVH13C1/1981/232/N07_AVH13C1.A1981232.006.2022270223610.nc...\n",
      "Downloading /home/jovyan/ltdr_ndvi/raw/466/N07_AVH13C1/1981/233/N07_AVH13C1.A1981233.006.2022270212957.nc...\n",
      "Downloading /home/jovyan/ltdr_ndvi/raw/466/N07_AVH13C1/1981/234/N07_AVH13C1.A1981234.006.2022270223015.nc...\n",
      "Downloading /home/jovyan/ltdr_ndvi/raw/466/N07_AVH13C1/1981/235/N07_AVH13C1.A1981235.006.2022270225108.nc...\n",
      "Downloading /home/jovyan/ltdr_ndvi/raw/466/N07_AVH13C1/1981/236/N07_AVH13C1.A1981236.006.2022270213536.nc...\n",
      "Downloading /home/jovyan/ltdr_ndvi/raw/466/N07_AVH13C1/1981/237/N07_AVH13C1.A1981237.006.2022270225330.nc...\n",
      "Downloading /home/jovyan/ltdr_ndvi/raw/466/N07_AVH13C1/1981/238/N07_AVH13C1.A1981238.006.2022270213810.nc...\n",
      "Downloading /home/jovyan/ltdr_ndvi/raw/466/N07_AVH13C1/1981/239/N07_AVH13C1.A1981239.006.2022270215512.nc...\n",
      "Downloading /home/jovyan/ltdr_ndvi/raw/466/N07_AVH13C1/1981/240/N07_AVH13C1.A1981240.006.2022270230210.nc...\n",
      "Downloading /home/jovyan/ltdr_ndvi/raw/466/N07_AVH13C1/1981/241/N07_AVH13C1.A1981241.006.2022270224010.nc...\n",
      "Downloading /home/jovyan/ltdr_ndvi/raw/466/N07_AVH13C1/1981/242/N07_AVH13C1.A1981242.006.2022270215151.nc...\n",
      "Downloading /home/jovyan/ltdr_ndvi/raw/466/N07_AVH13C1/1981/243/N07_AVH13C1.A1981243.006.2022270220554.nc...\n",
      "Downloading /home/jovyan/ltdr_ndvi/raw/466/N07_AVH13C1/1981/244/N07_AVH13C1.A1981244.006.2022270230847.nc...\n",
      "Downloading /home/jovyan/ltdr_ndvi/raw/466/N07_AVH13C1/1981/245/N07_AVH13C1.A1981245.006.2022270225444.nc...\n",
      "Downloading /home/jovyan/ltdr_ndvi/raw/466/N07_AVH13C1/1981/246/N07_AVH13C1.A1981246.006.2022270224905.nc...\n",
      "Downloading /home/jovyan/ltdr_ndvi/raw/466/N07_AVH13C1/1981/247/N07_AVH13C1.A1981247.006.2022270230910.nc...\n",
      "Downloading /home/jovyan/ltdr_ndvi/raw/466/N07_AVH13C1/1981/248/N07_AVH13C1.A1981248.006.2022270230020.nc...\n",
      "Downloading /home/jovyan/ltdr_ndvi/raw/466/N07_AVH13C1/1981/249/N07_AVH13C1.A1981249.006.2022270230641.nc...\n",
      "Downloading /home/jovyan/ltdr_ndvi/raw/466/N07_AVH13C1/1981/250/N07_AVH13C1.A1981250.006.2022270231233.nc...\n",
      "Downloading /home/jovyan/ltdr_ndvi/raw/466/N07_AVH13C1/1981/251/N07_AVH13C1.A1981251.006.2022270231349.nc...\n",
      "Downloading /home/jovyan/ltdr_ndvi/raw/466/N07_AVH13C1/1981/252/N07_AVH13C1.A1981252.006.2022270231349.nc...\n",
      "Downloading /home/jovyan/ltdr_ndvi/raw/466/N07_AVH13C1/1981/253/N07_AVH13C1.A1981253.006.2022270231316.nc...\n",
      "Downloading /home/jovyan/ltdr_ndvi/raw/466/N07_AVH13C1/1981/254/N07_AVH13C1.A1981254.006.2022270231458.nc...\n",
      "Downloading /home/jovyan/ltdr_ndvi/raw/466/N07_AVH13C1/1981/255/N07_AVH13C1.A1981255.006.2022270232240.nc...\n",
      "Downloading /home/jovyan/ltdr_ndvi/raw/466/N07_AVH13C1/1981/256/N07_AVH13C1.A1981256.006.2022270232732.nc...\n",
      "Downloading /home/jovyan/ltdr_ndvi/raw/466/N07_AVH13C1/1981/257/N07_AVH13C1.A1981257.006.2022271000836.nc...\n",
      "Downloading /home/jovyan/ltdr_ndvi/raw/466/N07_AVH13C1/1981/258/N07_AVH13C1.A1981258.006.2022270232629.nc...\n",
      "Downloading /home/jovyan/ltdr_ndvi/raw/466/N07_AVH13C1/1981/259/N07_AVH13C1.A1981259.006.2022271004855.nc...\n",
      "Downloading /home/jovyan/ltdr_ndvi/raw/466/N07_AVH13C1/1981/260/N07_AVH13C1.A1981260.006.2022270233017.nc...\n",
      "Downloading /home/jovyan/ltdr_ndvi/raw/466/N07_AVH13C1/1981/261/N07_AVH13C1.A1981261.006.2022271001730.nc...\n",
      "Downloading /home/jovyan/ltdr_ndvi/raw/466/N07_AVH13C1/1981/262/N07_AVH13C1.A1981262.006.2022271005147.nc...\n",
      "Downloading /home/jovyan/ltdr_ndvi/raw/466/N07_AVH13C1/1981/263/N07_AVH13C1.A1981263.006.2022270233603.nc...\n",
      "Downloading /home/jovyan/ltdr_ndvi/raw/466/N07_AVH13C1/1981/264/N07_AVH13C1.A1981264.006.2022271002213.nc...\n",
      "Downloading /home/jovyan/ltdr_ndvi/raw/466/N07_AVH13C1/1981/265/N07_AVH13C1.A1981265.006.2022271001551.nc...\n",
      "Downloading /home/jovyan/ltdr_ndvi/raw/466/N07_AVH13C1/1981/266/N07_AVH13C1.A1981266.006.2022271001453.nc...\n",
      "Downloading /home/jovyan/ltdr_ndvi/raw/466/N07_AVH13C1/1981/267/N07_AVH13C1.A1981267.006.2022271004836.nc...\n",
      "Downloading /home/jovyan/ltdr_ndvi/raw/466/N07_AVH13C1/1981/268/N07_AVH13C1.A1981268.006.2022271003400.nc...\n",
      "Downloading /home/jovyan/ltdr_ndvi/raw/466/N07_AVH13C1/1981/269/N07_AVH13C1.A1981269.006.2022271004420.nc...\n",
      "Downloading /home/jovyan/ltdr_ndvi/raw/466/N07_AVH13C1/1981/270/N07_AVH13C1.A1981270.006.2022271003602.nc...\n",
      "Downloading /home/jovyan/ltdr_ndvi/raw/466/N07_AVH13C1/1981/271/N07_AVH13C1.A1981271.006.2022271011537.nc...\n",
      "Downloading /home/jovyan/ltdr_ndvi/raw/466/N07_AVH13C1/1981/272/N07_AVH13C1.A1981272.006.2022271011543.nc...\n",
      "Downloading /home/jovyan/ltdr_ndvi/raw/466/N07_AVH13C1/1981/273/N07_AVH13C1.A1981273.006.2022271015507.nc...\n",
      "Downloading /home/jovyan/ltdr_ndvi/raw/466/N07_AVH13C1/1981/274/N07_AVH13C1.A1981274.006.2022271013729.nc...\n",
      "Downloading /home/jovyan/ltdr_ndvi/raw/466/N07_AVH13C1/1981/275/N07_AVH13C1.A1981275.006.2022271021427.nc...\n",
      "Downloading /home/jovyan/ltdr_ndvi/raw/466/N07_AVH13C1/1981/276/N07_AVH13C1.A1981276.006.2022271014555.nc...\n",
      "Downloading /home/jovyan/ltdr_ndvi/raw/466/N07_AVH13C1/1981/277/N07_AVH13C1.A1981277.006.2022271011418.nc...\n",
      "Downloading /home/jovyan/ltdr_ndvi/raw/466/N07_AVH13C1/1981/278/N07_AVH13C1.A1981278.006.2022271011817.nc...\n",
      "Downloading /home/jovyan/ltdr_ndvi/raw/466/N07_AVH13C1/1981/279/N07_AVH13C1.A1981279.006.2022271014715.nc...\n",
      "Downloading /home/jovyan/ltdr_ndvi/raw/466/N07_AVH13C1/1981/280/N07_AVH13C1.A1981280.006.2022271023238.nc...\n",
      "Downloading /home/jovyan/ltdr_ndvi/raw/466/N07_AVH13C1/1981/281/N07_AVH13C1.A1981281.006.2022271014931.nc...\n",
      "Downloading /home/jovyan/ltdr_ndvi/raw/466/N07_AVH13C1/1981/282/N07_AVH13C1.A1981282.006.2022271014056.nc...\n",
      "Downloading /home/jovyan/ltdr_ndvi/raw/466/N07_AVH13C1/1981/283/N07_AVH13C1.A1981283.006.2022271023510.nc...\n",
      "Downloading /home/jovyan/ltdr_ndvi/raw/466/N07_AVH13C1/1981/284/N07_AVH13C1.A1981284.006.2022271024447.nc...\n",
      "Downloading /home/jovyan/ltdr_ndvi/raw/466/N07_AVH13C1/1981/285/N07_AVH13C1.A1981285.006.2022271020248.nc...\n",
      "Downloading /home/jovyan/ltdr_ndvi/raw/466/N07_AVH13C1/1981/286/N07_AVH13C1.A1981286.006.2022271025021.nc...\n",
      "Downloading /home/jovyan/ltdr_ndvi/raw/466/N07_AVH13C1/1981/287/N07_AVH13C1.A1981287.006.2022271024318.nc...\n",
      "Downloading /home/jovyan/ltdr_ndvi/raw/466/N07_AVH13C1/1981/288/N07_AVH13C1.A1981288.006.2022271022832.nc...\n",
      "Downloading /home/jovyan/ltdr_ndvi/raw/466/N07_AVH13C1/1981/289/N07_AVH13C1.A1981289.006.2022271033850.nc...\n",
      "Downloading /home/jovyan/ltdr_ndvi/raw/466/N07_AVH13C1/1981/290/N07_AVH13C1.A1981290.006.2022271023035.nc...\n",
      "Downloading /home/jovyan/ltdr_ndvi/raw/466/N07_AVH13C1/1981/291/N07_AVH13C1.A1981291.006.2022271031416.nc...\n",
      "Downloading /home/jovyan/ltdr_ndvi/raw/466/N07_AVH13C1/1981/292/N07_AVH13C1.A1981292.006.2022271033625.nc...\n",
      "Downloading /home/jovyan/ltdr_ndvi/raw/466/N07_AVH13C1/1981/293/N07_AVH13C1.A1981293.006.2022271025402.nc...\n",
      "Downloading /home/jovyan/ltdr_ndvi/raw/466/N07_AVH13C1/1981/294/N07_AVH13C1.A1981294.006.2022271040618.nc...\n",
      "Downloading /home/jovyan/ltdr_ndvi/raw/466/N07_AVH13C1/1981/295/N07_AVH13C1.A1981295.006.2022271025808.nc...\n",
      "Downloading /home/jovyan/ltdr_ndvi/raw/466/N07_AVH13C1/1981/296/N07_AVH13C1.A1981296.006.2022271030930.nc...\n",
      "Downloading /home/jovyan/ltdr_ndvi/raw/466/N07_AVH13C1/1981/297/N07_AVH13C1.A1981297.006.2022271031001.nc...\n",
      "Downloading /home/jovyan/ltdr_ndvi/raw/466/N07_AVH13C1/1981/298/N07_AVH13C1.A1981298.006.2022271040313.nc...\n",
      "Downloading /home/jovyan/ltdr_ndvi/raw/466/N07_AVH13C1/1981/299/N07_AVH13C1.A1981299.006.2022271031148.nc...\n",
      "Downloading /home/jovyan/ltdr_ndvi/raw/466/N07_AVH13C1/1981/300/N07_AVH13C1.A1981300.006.2022271040835.nc...\n",
      "Downloading /home/jovyan/ltdr_ndvi/raw/466/N07_AVH13C1/1981/301/N07_AVH13C1.A1981301.006.2022271032521.nc...\n",
      "Downloading /home/jovyan/ltdr_ndvi/raw/466/N07_AVH13C1/1981/302/N07_AVH13C1.A1981302.006.2022271060542.nc...\n",
      "Downloading /home/jovyan/ltdr_ndvi/raw/466/N07_AVH13C1/1981/303/N07_AVH13C1.A1981303.006.2022271041017.nc...\n",
      "Downloading /home/jovyan/ltdr_ndvi/raw/466/N07_AVH13C1/1981/304/N07_AVH13C1.A1981304.006.2022271040316.nc...\n",
      "Downloading /home/jovyan/ltdr_ndvi/raw/466/N07_AVH13C1/1981/305/N07_AVH13C1.A1981305.006.2022271040906.nc...\n",
      "Downloading /home/jovyan/ltdr_ndvi/raw/466/N07_AVH13C1/1981/306/N07_AVH13C1.A1981306.006.2022271045226.nc...\n",
      "Downloading /home/jovyan/ltdr_ndvi/raw/466/N07_AVH13C1/1981/307/N07_AVH13C1.A1981307.006.2022271042148.nc...\n",
      "Downloading /home/jovyan/ltdr_ndvi/raw/466/N07_AVH13C1/1981/308/N07_AVH13C1.A1981308.006.2022271042115.nc...\n",
      "Downloading /home/jovyan/ltdr_ndvi/raw/466/N07_AVH13C1/1981/309/N07_AVH13C1.A1981309.006.2022271045827.nc...\n",
      "Downloading /home/jovyan/ltdr_ndvi/raw/466/N07_AVH13C1/1981/310/N07_AVH13C1.A1981310.006.2022271042725.nc...\n",
      "Downloading /home/jovyan/ltdr_ndvi/raw/466/N07_AVH13C1/1981/311/N07_AVH13C1.A1981311.006.2022271042808.nc...\n",
      "Downloading /home/jovyan/ltdr_ndvi/raw/466/N07_AVH13C1/1981/312/N07_AVH13C1.A1981312.006.2022271055557.nc...\n",
      "Downloading /home/jovyan/ltdr_ndvi/raw/466/N07_AVH13C1/1981/313/N07_AVH13C1.A1981313.006.2022271052419.nc...\n",
      "Downloading /home/jovyan/ltdr_ndvi/raw/466/N07_AVH13C1/1981/314/N07_AVH13C1.A1981314.006.2022271043435.nc...\n",
      "Downloading /home/jovyan/ltdr_ndvi/raw/466/N07_AVH13C1/1981/315/N07_AVH13C1.A1981315.006.2022271050422.nc...\n",
      "Downloading /home/jovyan/ltdr_ndvi/raw/466/N07_AVH13C1/1981/316/N07_AVH13C1.A1981316.006.2022271045336.nc...\n",
      "Downloading /home/jovyan/ltdr_ndvi/raw/466/N07_AVH13C1/1981/317/N07_AVH13C1.A1981317.006.2022271044802.nc...\n",
      "Downloading /home/jovyan/ltdr_ndvi/raw/466/N07_AVH13C1/1981/318/N07_AVH13C1.A1981318.006.2022271060914.nc...\n",
      "Downloading /home/jovyan/ltdr_ndvi/raw/466/N07_AVH13C1/1981/319/N07_AVH13C1.A1981319.006.2022271051048.nc...\n",
      "Downloading /home/jovyan/ltdr_ndvi/raw/466/N07_AVH13C1/1981/320/N07_AVH13C1.A1981320.006.2022271054646.nc...\n",
      "Downloading /home/jovyan/ltdr_ndvi/raw/466/N07_AVH13C1/1981/321/N07_AVH13C1.A1981321.006.2022271051434.nc...\n",
      "Downloading /home/jovyan/ltdr_ndvi/raw/466/N07_AVH13C1/1981/322/N07_AVH13C1.A1981322.006.2022271051801.nc...\n",
      "Downloading /home/jovyan/ltdr_ndvi/raw/466/N07_AVH13C1/1981/323/N07_AVH13C1.A1981323.006.2022271061004.nc...\n",
      "Downloading /home/jovyan/ltdr_ndvi/raw/466/N07_AVH13C1/1981/324/N07_AVH13C1.A1981324.006.2022271052951.nc...\n",
      "Downloading /home/jovyan/ltdr_ndvi/raw/466/N07_AVH13C1/1981/325/N07_AVH13C1.A1981325.006.2022271061116.nc...\n",
      "Downloading /home/jovyan/ltdr_ndvi/raw/466/N07_AVH13C1/1981/326/N07_AVH13C1.A1981326.006.2022271061532.nc...\n",
      "Downloading /home/jovyan/ltdr_ndvi/raw/466/N07_AVH13C1/1981/327/N07_AVH13C1.A1981327.006.2022271055749.nc...\n",
      "Downloading /home/jovyan/ltdr_ndvi/raw/466/N07_AVH13C1/1981/328/N07_AVH13C1.A1981328.006.2022271064650.nc...\n",
      "Downloading /home/jovyan/ltdr_ndvi/raw/466/N07_AVH13C1/1981/329/N07_AVH13C1.A1981329.006.2022271061250.nc...\n",
      "Downloading /home/jovyan/ltdr_ndvi/raw/466/N07_AVH13C1/1981/330/N07_AVH13C1.A1981330.006.2022271064957.nc...\n",
      "Downloading /home/jovyan/ltdr_ndvi/raw/466/N07_AVH13C1/1981/331/N07_AVH13C1.A1981331.006.2022271065711.nc...\n",
      "Downloading /home/jovyan/ltdr_ndvi/raw/466/N07_AVH13C1/1981/332/N07_AVH13C1.A1981332.006.2022271075001.nc...\n",
      "Downloading /home/jovyan/ltdr_ndvi/raw/466/N07_AVH13C1/1981/333/N07_AVH13C1.A1981333.006.2022271062549.nc...\n",
      "Downloading /home/jovyan/ltdr_ndvi/raw/466/N07_AVH13C1/1981/334/N07_AVH13C1.A1981334.006.2022271065700.nc...\n",
      "Downloading /home/jovyan/ltdr_ndvi/raw/466/N07_AVH13C1/1981/335/N07_AVH13C1.A1981335.006.2022271063411.nc...\n",
      "Downloading /home/jovyan/ltdr_ndvi/raw/466/N07_AVH13C1/1981/336/N07_AVH13C1.A1981336.006.2022271063419.nc...\n",
      "Downloading /home/jovyan/ltdr_ndvi/raw/466/N07_AVH13C1/1981/337/N07_AVH13C1.A1981337.006.2022271074545.nc...\n",
      "Downloading /home/jovyan/ltdr_ndvi/raw/466/N07_AVH13C1/1981/338/N07_AVH13C1.A1981338.006.2022271065257.nc...\n",
      "Downloading /home/jovyan/ltdr_ndvi/raw/466/N07_AVH13C1/1981/339/N07_AVH13C1.A1981339.006.2022271073120.nc...\n",
      "Downloading /home/jovyan/ltdr_ndvi/raw/466/N07_AVH13C1/1981/340/N07_AVH13C1.A1981340.006.2022271070557.nc...\n",
      "Downloading /home/jovyan/ltdr_ndvi/raw/466/N07_AVH13C1/1981/341/N07_AVH13C1.A1981341.006.2022271074231.nc...\n",
      "Downloading /home/jovyan/ltdr_ndvi/raw/466/N07_AVH13C1/1981/342/N07_AVH13C1.A1981342.006.2022271084153.nc...\n",
      "Downloading /home/jovyan/ltdr_ndvi/raw/466/N07_AVH13C1/1981/343/N07_AVH13C1.A1981343.006.2022271081245.nc...\n",
      "Downloading /home/jovyan/ltdr_ndvi/raw/466/N07_AVH13C1/1981/344/N07_AVH13C1.A1981344.006.2022271075515.nc...\n",
      "Downloading /home/jovyan/ltdr_ndvi/raw/466/N07_AVH13C1/1981/345/N07_AVH13C1.A1981345.006.2022271082228.nc...\n",
      "Downloading /home/jovyan/ltdr_ndvi/raw/466/N07_AVH13C1/1981/346/N07_AVH13C1.A1981346.006.2022271075758.nc...\n",
      "Downloading /home/jovyan/ltdr_ndvi/raw/466/N07_AVH13C1/1981/347/N07_AVH13C1.A1981347.006.2022271080030.nc...\n",
      "Downloading /home/jovyan/ltdr_ndvi/raw/466/N07_AVH13C1/1981/348/N07_AVH13C1.A1981348.006.2022271082340.nc...\n",
      "Downloading /home/jovyan/ltdr_ndvi/raw/466/N07_AVH13C1/1981/349/N07_AVH13C1.A1981349.006.2022271081626.nc...\n",
      "Downloading /home/jovyan/ltdr_ndvi/raw/466/N07_AVH13C1/1981/350/N07_AVH13C1.A1981350.006.2022271084722.nc...\n",
      "Downloading /home/jovyan/ltdr_ndvi/raw/466/N07_AVH13C1/1981/351/N07_AVH13C1.A1981351.006.2022271083401.nc...\n",
      "Downloading /home/jovyan/ltdr_ndvi/raw/466/N07_AVH13C1/1981/352/N07_AVH13C1.A1981352.006.2022271091302.nc...\n",
      "Downloading /home/jovyan/ltdr_ndvi/raw/466/N07_AVH13C1/1981/353/N07_AVH13C1.A1981353.006.2022271083242.nc...\n",
      "Downloading /home/jovyan/ltdr_ndvi/raw/466/N07_AVH13C1/1981/354/N07_AVH13C1.A1981354.006.2022271091643.nc...\n",
      "Downloading /home/jovyan/ltdr_ndvi/raw/466/N07_AVH13C1/1981/355/N07_AVH13C1.A1981355.006.2022271090056.nc...\n",
      "Downloading /home/jovyan/ltdr_ndvi/raw/466/N07_AVH13C1/1981/356/N07_AVH13C1.A1981356.006.2022271093107.nc...\n",
      "Downloading /home/jovyan/ltdr_ndvi/raw/466/N07_AVH13C1/1981/357/N07_AVH13C1.A1981357.006.2022271084817.nc...\n",
      "Downloading /home/jovyan/ltdr_ndvi/raw/466/N07_AVH13C1/1981/358/N07_AVH13C1.A1981358.006.2022271091410.nc...\n",
      "Downloading /home/jovyan/ltdr_ndvi/raw/466/N07_AVH13C1/1981/359/N07_AVH13C1.A1981359.006.2022271090342.nc...\n",
      "Downloading /home/jovyan/ltdr_ndvi/raw/466/N07_AVH13C1/1981/360/N07_AVH13C1.A1981360.006.2022271090741.nc...\n",
      "Downloading /home/jovyan/ltdr_ndvi/raw/466/N07_AVH13C1/1981/361/N07_AVH13C1.A1981361.006.2022271090221.nc...\n",
      "Downloading /home/jovyan/ltdr_ndvi/raw/466/N07_AVH13C1/1981/362/N07_AVH13C1.A1981362.006.2022271091607.nc...\n",
      "Downloading /home/jovyan/ltdr_ndvi/raw/466/N07_AVH13C1/1981/363/N07_AVH13C1.A1981363.006.2022271095052.nc...\n",
      "Downloading /home/jovyan/ltdr_ndvi/raw/466/N07_AVH13C1/1981/364/N07_AVH13C1.A1981364.006.2022271092655.nc...\n",
      "Downloading /home/jovyan/ltdr_ndvi/raw/466/N07_AVH13C1/1981/365/N07_AVH13C1.A1981365.006.2023030130133.nc...\n",
      "Task run download completed with 191 successes and no errors\n",
      "Processing day: 006 1981 175\n",
      "Task failed with exception (retrying): RasterioIOError('HDF4_EOS:EOS_GRID:\"/home/jovyan/ltdr_ndvi/raw/466/N07_AVH13C1/1981/175/N07_AVH13C1.A1981175.006.2022270161458.nc\":Grid:NDVI: No such file or directory')\n"
     ]
    }
   ],
   "source": [
    "class_instance = LTDR_NDVI(config_dict[\"token\"], config_dict[\"years\"], config_dict[\"raw_dir\"], config_dict[\"output_dir\"], config_dict[\"overwrite_download\"], config_dict[\"validate_download\"], config_dict[\"overwrite_processing\"])\n",
    "\n",
    "class_instance.run(bypass_error_wrapper=False, backend=config_dict[\"backend\"], task_runner=config_dict[\"task_runner\"], run_parallel=config_dict[\"run_parallel\"], max_workers=config_dict[\"max_workers\"], log_dir=timestamp_log_dir)"
   ]
  },
  {
   "cell_type": "code",
   "execution_count": null,
   "id": "14058747-97d2-426a-87fc-5fdce4cc3144",
   "metadata": {},
   "outputs": [],
   "source": []
  }
 ],
 "metadata": {
  "kernelspec": {
   "display_name": "Python 3 (ipykernel)",
   "language": "python",
   "name": "python3"
  },
  "language_info": {
   "codemirror_mode": {
    "name": "ipython",
    "version": 3
   },
   "file_extension": ".py",
   "mimetype": "text/x-python",
   "name": "python",
   "nbconvert_exporter": "python",
   "pygments_lexer": "ipython3",
   "version": "3.11.8"
  }
 },
 "nbformat": 4,
 "nbformat_minor": 5
}
